{
  "nbformat": 4,
  "nbformat_minor": 0,
  "metadata": {
    "colab": {
      "name": "HW2_20183269_kimhyunjung.ipynb",
      "provenance": [],
      "collapsed_sections": [],
      "authorship_tag": "ABX9TyNQPTu+6DMszRr52pA+cJqF",
      "include_colab_link": true
    },
    "kernelspec": {
      "name": "python3",
      "display_name": "Python 3"
    },
    "language_info": {
      "name": "python"
    }
  },
  "cells": [
    {
      "cell_type": "markdown",
      "metadata": {
        "id": "view-in-github",
        "colab_type": "text"
      },
      "source": [
        "<a href=\"https://colab.research.google.com/github/dasdasqs2/Machine-learning/blob/main/HW/HW2_20183269_kimhyunjung.ipynb\" target=\"_parent\"><img src=\"https://colab.research.google.com/assets/colab-badge.svg\" alt=\"Open In Colab\"/></a>"
      ]
    },
    {
      "cell_type": "markdown",
      "metadata": {
        "id": "mSfQrc9QYTWV"
      },
      "source": [
        "# HW2\n",
        "6주차 강의노트에서 diabetes 데이터를 다루는 예제가 있다.\n",
        "\n",
        "\n",
        "1. 이 예제에서 출력하는 값은 loss 밖에 없다. \n",
        "   loss 가 아닌 accuracy 를 출력하게 프로그램을 수정하라.\n",
        "\n",
        "2. 이 예제에서는 데이터를 모두 학습하는데 사용한다.\n",
        "   데이터를 random하게 학습데이터와 테스트데이터를 8:2로 나누고,\n",
        "   학습할 때, 학습데이터 중 25%를 validation 데이터로 사용게끔 프로그램을 수정하라\n",
        "\n",
        "3. 문제2의 결과를 accuracy로 보여라"
      ]
    },
    {
      "cell_type": "markdown",
      "metadata": {
        "id": "DbJPoS4no6Sg"
      },
      "source": [
        "## Method 1"
      ]
    },
    {
      "cell_type": "code",
      "metadata": {
        "id": "DJuW2bT4x2MB"
      },
      "source": [
        "import tensorflow as tf\n",
        "import numpy as np\n",
        "import matplotlib.pyplot as plt\n",
        "%matplotlib inline\n",
        "from sklearn.linear_model import LogisticRegression\n",
        "from sklearn.model_selection import train_test_split\n",
        "from sklearn import metrics\n",
        "\n",
        "tf.random.set_seed(42)"
      ],
      "execution_count": 177,
      "outputs": []
    },
    {
      "cell_type": "code",
      "metadata": {
        "colab": {
          "base_uri": "https://localhost:8080/"
        },
        "id": "S9iysbEuyCh6",
        "outputId": "e767898c-04a4-4b0f-da23-0ee067148d23"
      },
      "source": [
        "xy = np.loadtxt('diabetes_data.csv', delimiter=',', dtype=np.float32)\n",
        "x = xy[:, 0:-1]\n",
        "y = xy[:,[-1]]\n",
        "\n",
        "# train:test = 8:2\n",
        "x_train, x_test, y_train, y_test = train_test_split(x, y, test_size=0.2, shuffle=True, random_state=1234)\n",
        "print(x_train.shape, y_train.shape, x_test.shape, y_test.shape)\n",
        "\n",
        "# validation = 25%\n",
        "x_train, x_val, y_train, y_val = train_test_split(x_train, y_train, test_size=0.25, shuffle=True, random_state=1234)\n",
        "print(x_train.shape, x_val.shape, y_train.shape, y_val.shape)\n"
      ],
      "execution_count": 178,
      "outputs": [
        {
          "output_type": "stream",
          "text": [
            "(607, 8) (607, 1) (152, 8) (152, 1)\n",
            "(455, 8) (152, 8) (455, 1) (152, 1)\n"
          ],
          "name": "stdout"
        }
      ]
    },
    {
      "cell_type": "code",
      "metadata": {
        "id": "OKaFYUzT3tjJ"
      },
      "source": [
        "dataset = tf.data.Dataset.from_tensor_slices((x_train, y_train)).batch(len(x_train))"
      ],
      "execution_count": 179,
      "outputs": []
    },
    {
      "cell_type": "code",
      "metadata": {
        "id": "iXD6THdE4LAT"
      },
      "source": [
        "def logistic_regression(features): # features : x_train\n",
        "  # hypothesis = tf.divide(1., 1. + tf.exp(-tf.matmul(features, W) -b)) # 또는 tf.sigmoid(z)\n",
        "  z = tf.matmul(features, W) + b\n",
        "  hypothesis = tf.sigmoid(z)\n",
        "  return hypothesis"
      ],
      "execution_count": 180,
      "outputs": []
    },
    {
      "cell_type": "code",
      "metadata": {
        "id": "TFfl6VDH4Mgp"
      },
      "source": [
        "def cost_fn(hypothesis, feature, y):\n",
        "  cost = -tf.reduce_mean(y * tf.math.log(hypothesis) + (1-y) * tf.math.log(1-hypothesis))\n",
        "  return cost"
      ],
      "execution_count": 181,
      "outputs": []
    },
    {
      "cell_type": "code",
      "metadata": {
        "id": "PYXnm_mV4N38"
      },
      "source": [
        "def loss_fn(hypothesis, features, labels):\n",
        "  cost = -tf.reduce_mean(labels + tf.math.log(logistic_regression(features)) + (1-labels) * tf.math.log(1-hypothesis))\n",
        "  return cost\n",
        "\n",
        "optimizer = tf.keras.optimizers.SGD(learning_rate=0.01)"
      ],
      "execution_count": 182,
      "outputs": []
    },
    {
      "cell_type": "code",
      "metadata": {
        "id": "ONA1ZDiaB6Be"
      },
      "source": [
        "def accuracy_fn(hypothesis, labels):\n",
        "  predicted = tf.cast(hypothesis > 0.5, dtype=tf.float32)\n",
        "  accuracy = tf.reduce_mean(tf.cast(tf.equal(predicted, labels), dtype=tf.int32))\n",
        "  return accuracy"
      ],
      "execution_count": 183,
      "outputs": []
    },
    {
      "cell_type": "code",
      "metadata": {
        "colab": {
          "base_uri": "https://localhost:8080/"
        },
        "id": "7zSKQGzN4PE3",
        "outputId": "f7b67467-848a-422d-98bf-bb68cad3749e"
      },
      "source": [
        "# training\n",
        "\n",
        "EPOCHS = 1001\n",
        "\n",
        "tf.random.set_seed(42)\n",
        "\n",
        "W = tf.Variable(tf.random.normal((8,1)), name='weight')\n",
        "b = tf.Variable(tf.random.normal((1,)), name='bias')\n",
        "\n",
        "optimizer = tf.keras.optimizers.SGD(learning_rate=0.01)\n",
        "\n",
        "for step in range(EPOCHS):\n",
        "  for features, labels in iter(dataset):\n",
        "    with tf.GradientTape() as tape:\n",
        "      loss_value = cost_fn(logistic_regression(features), features, labels)\n",
        "\n",
        "    grads = tape.gradient(loss_value, [W,b])\n",
        "    optimizer.apply_gradients(grads_and_vars=zip(grads,[W,b]))\n",
        "\n",
        "    if step % 100 == 0:\n",
        "      # print(\"W: {}, b: {}, Iter: {}, Loss: {:.4f}\".format(W.numpy(), b.numpy(), step, cost_fn(logistic_regression(features),features,labels)))\n",
        "      print(\"W: {}, b: {}, Iter: {}, Accuracy: {:.4f}\".format(W.numpy(), b.numpy(), step, accuracy_fn(logistic_regression(features),labels)))"
      ],
      "execution_count": 184,
      "outputs": [
        {
          "output_type": "stream",
          "text": [
            "W: [[ 0.327345  ]\n",
            " [-0.84323144]\n",
            " [ 0.31923434]\n",
            " [-1.4073657 ]\n",
            " [-2.387585  ]\n",
            " [-1.0394387 ]\n",
            " [-0.55706614]\n",
            " [ 0.5397554 ]], b: [0.08367751], Iter: 0, Accuracy: 0.0000\n",
            "W: [[ 0.3121567 ]\n",
            " [-0.9012761 ]\n",
            " [ 0.30085483]\n",
            " [-1.390479  ]\n",
            " [-2.341876  ]\n",
            " [-1.0585222 ]\n",
            " [-0.5364719 ]\n",
            " [ 0.540933  ]], b: [0.03667465], Iter: 100, Accuracy: 0.0000\n",
            "W: [[ 0.29258046]\n",
            " [-0.95510286]\n",
            " [ 0.28503928]\n",
            " [-1.3764402 ]\n",
            " [-2.2992303 ]\n",
            " [-1.0775433 ]\n",
            " [-0.52404463]\n",
            " [ 0.5363591 ]], b: [0.00206796], Iter: 200, Accuracy: 0.0000\n",
            "W: [[ 0.2701016 ]\n",
            " [-1.0056335 ]\n",
            " [ 0.27116466]\n",
            " [-1.3645062 ]\n",
            " [-2.2590075 ]\n",
            " [-1.0964267 ]\n",
            " [-0.51741326]\n",
            " [ 0.52784467]], b: [-0.02359774], Iter: 300, Accuracy: 0.0000\n",
            "W: [[ 0.24580432]\n",
            " [-1.0535442 ]\n",
            " [ 0.2587708 ]\n",
            " [-1.3541172 ]\n",
            " [-2.2207026 ]\n",
            " [-1.1151181 ]\n",
            " [-0.5148391 ]\n",
            " [ 0.5167144 ]], b: [-0.0428588], Iter: 400, Accuracy: 0.0000\n",
            "W: [[ 0.22046164]\n",
            " [-1.0993268 ]\n",
            " [ 0.24752392]\n",
            " [-1.3448611 ]\n",
            " [-2.1839378 ]\n",
            " [-1.1335787 ]\n",
            " [-0.51507205]\n",
            " [ 0.50391495]], b: [-0.05754043], Iter: 500, Accuracy: 0.0000\n",
            "W: [[ 0.19461535]\n",
            " [-1.1433357 ]\n",
            " [ 0.237184  ]\n",
            " [-1.336444  ]\n",
            " [-2.1484342 ]\n",
            " [-1.151784  ]\n",
            " [-0.51722664]\n",
            " [ 0.49011227]], b: [-0.06893957], Iter: 600, Accuracy: 0.0000\n",
            "W: [[ 0.16864005]\n",
            " [-1.1858271 ]\n",
            " [ 0.22757907]\n",
            " [-1.3286576 ]\n",
            " [-2.113989  ]\n",
            " [-1.1697185 ]\n",
            " [-0.52068055]\n",
            " [ 0.47576934]], b: [-0.07797051], Iter: 700, Accuracy: 0.0000\n",
            "W: [[ 0.14279145]\n",
            " [-1.226989  ]\n",
            " [ 0.2185857 ]\n",
            " [-1.3213555 ]\n",
            " [-2.0804582 ]\n",
            " [-1.187374  ]\n",
            " [-0.5250005 ]\n",
            " [ 0.4612041 ]], b: [-0.08527469], Iter: 800, Accuracy: 0.0000\n",
            "W: [[ 0.11724141]\n",
            " [-1.2669591 ]\n",
            " [ 0.2101147 ]\n",
            " [-1.3144355 ]\n",
            " [-2.047737  ]\n",
            " [-1.2047476 ]\n",
            " [-0.5298845 ]\n",
            " [ 0.44663295]], b: [-0.09130126], Iter: 900, Accuracy: 0.0000\n",
            "W: [[ 0.09210362]\n",
            " [-1.3058414 ]\n",
            " [ 0.20210102]\n",
            " [-1.3078276 ]\n",
            " [-2.015753  ]\n",
            " [-1.2218393 ]\n",
            " [-0.5351248 ]\n",
            " [ 0.43220115]], b: [-0.09636483], Iter: 1000, Accuracy: 0.0000\n"
          ],
          "name": "stdout"
        }
      ]
    },
    {
      "cell_type": "code",
      "metadata": {
        "colab": {
          "base_uri": "https://localhost:8080/"
        },
        "id": "QxpabisSCAgn",
        "outputId": "09daa1e3-98eb-48e9-b916-d221bc6aa496"
      },
      "source": [
        "# print test accuracy\n",
        "\n",
        "test_acc = accuracy_fn(logistic_regression(x_test), y_test)\n",
        "print(\"Testset Accuracy: {:.4f}\".format(test_acc))"
      ],
      "execution_count": 185,
      "outputs": [
        {
          "output_type": "stream",
          "text": [
            "Testset Accuracy: 0.0000\n"
          ],
          "name": "stdout"
        }
      ]
    },
    {
      "cell_type": "markdown",
      "metadata": {
        "id": "8hawSfL_qc3B"
      },
      "source": [
        "## Method 2"
      ]
    },
    {
      "cell_type": "code",
      "metadata": {
        "colab": {
          "base_uri": "https://localhost:8080/"
        },
        "id": "lDJuWfZlsGrg",
        "outputId": "dbb361da-8daa-410a-93e5-b08a71a9e8be"
      },
      "source": [
        "tf.random.set_seed(42)\n",
        "xy = np.loadtxt('diabetes_data.csv', delimiter=',', dtype=np.float32)\n",
        "\n",
        "x = xy[:, 0:-1]\n",
        "y = xy[:,[-1]]\n",
        "\n",
        "# train:test = 8:2\n",
        "x_train, x_test, y_train, y_test = train_test_split(x, y, test_size=0.2, shuffle=True, random_state=1234)\n",
        "print(x_train.shape, y_train.shape, x_test.shape, y_test.shape)\n",
        "\n",
        "# validation = 25%\n",
        "x_train, x_val, y_train, y_val = train_test_split(x_train, y_train, test_size=0.25, shuffle=True, random_state=1234)\n",
        "print(x_train.shape, x_val.shape, y_train.shape, y_val.shape)"
      ],
      "execution_count": 186,
      "outputs": [
        {
          "output_type": "stream",
          "text": [
            "(607, 8) (607, 1) (152, 8) (152, 1)\n",
            "(455, 8) (152, 8) (455, 1) (152, 1)\n"
          ],
          "name": "stdout"
        }
      ]
    },
    {
      "cell_type": "code",
      "metadata": {
        "id": "_U8LNrCrovaZ"
      },
      "source": [
        "model = LogisticRegression()"
      ],
      "execution_count": 187,
      "outputs": []
    },
    {
      "cell_type": "code",
      "metadata": {
        "colab": {
          "base_uri": "https://localhost:8080/"
        },
        "id": "lJaxx8XQqDHe",
        "outputId": "afbc3165-9b53-4d8d-d2d2-2ea99667e9f6"
      },
      "source": [
        "model.fit(x_train, y_train)"
      ],
      "execution_count": 188,
      "outputs": [
        {
          "output_type": "stream",
          "text": [
            "/usr/local/lib/python3.7/dist-packages/sklearn/utils/validation.py:760: DataConversionWarning: A column-vector y was passed when a 1d array was expected. Please change the shape of y to (n_samples, ), for example using ravel().\n",
            "  y = column_or_1d(y, warn=True)\n"
          ],
          "name": "stderr"
        },
        {
          "output_type": "execute_result",
          "data": {
            "text/plain": [
              "LogisticRegression(C=1.0, class_weight=None, dual=False, fit_intercept=True,\n",
              "                   intercept_scaling=1, l1_ratio=None, max_iter=100,\n",
              "                   multi_class='auto', n_jobs=None, penalty='l2',\n",
              "                   random_state=None, solver='lbfgs', tol=0.0001, verbose=0,\n",
              "                   warm_start=False)"
            ]
          },
          "metadata": {
            "tags": []
          },
          "execution_count": 188
        }
      ]
    },
    {
      "cell_type": "markdown",
      "metadata": {
        "id": "BqINx_98DuZD"
      },
      "source": [
        "### Validation"
      ]
    },
    {
      "cell_type": "code",
      "metadata": {
        "colab": {
          "base_uri": "https://localhost:8080/"
        },
        "id": "NpeQEJmaDPDV",
        "outputId": "d2004fa0-40fd-4542-c349-dcc0b739d439"
      },
      "source": [
        "y_pred_val = model.predict(x_val)\n",
        "y_pred_val"
      ],
      "execution_count": 189,
      "outputs": [
        {
          "output_type": "execute_result",
          "data": {
            "text/plain": [
              "array([0., 1., 0., 1., 1., 1., 1., 1., 1., 1., 1., 1., 1., 0., 0., 1., 1.,\n",
              "       1., 1., 1., 1., 0., 1., 1., 1., 0., 1., 1., 1., 1., 1., 1., 1., 1.,\n",
              "       1., 1., 1., 0., 0., 1., 0., 1., 1., 1., 1., 0., 1., 1., 1., 1., 0.,\n",
              "       1., 1., 0., 1., 1., 1., 1., 1., 1., 0., 1., 1., 1., 1., 1., 1., 0.,\n",
              "       0., 0., 1., 1., 1., 1., 1., 1., 0., 1., 0., 1., 0., 1., 1., 1., 0.,\n",
              "       1., 1., 0., 1., 1., 1., 0., 1., 1., 1., 1., 0., 0., 0., 0., 1., 0.,\n",
              "       0., 1., 1., 0., 0., 1., 1., 0., 0., 1., 0., 1., 1., 0., 0., 1., 1.,\n",
              "       1., 1., 0., 1., 1., 1., 1., 1., 1., 1., 1., 1., 1., 1., 0., 1., 1.,\n",
              "       1., 1., 1., 0., 0., 0., 1., 1., 0., 1., 1., 1., 1., 1., 0., 1.],\n",
              "      dtype=float32)"
            ]
          },
          "metadata": {
            "tags": []
          },
          "execution_count": 189
        }
      ]
    },
    {
      "cell_type": "code",
      "metadata": {
        "colab": {
          "base_uri": "https://localhost:8080/"
        },
        "id": "_59ztJTRDrFw",
        "outputId": "ae16ba64-aaf5-4d00-82db-55ae55ee1ae7"
      },
      "source": [
        "# print accuracy\n",
        "tf.random.set_seed(42)\n",
        "accuracy = metrics.accuracy_score(y_val, y_pred_val)\n",
        "accuracy_percentage = 100 * accuracy\n",
        "print(\"Accuracy :\", accuracy_percentage)"
      ],
      "execution_count": 190,
      "outputs": [
        {
          "output_type": "stream",
          "text": [
            "Accuracy : 73.02631578947368\n"
          ],
          "name": "stdout"
        }
      ]
    },
    {
      "cell_type": "markdown",
      "metadata": {
        "id": "vEeEuoHoDyvf"
      },
      "source": [
        "### Test"
      ]
    },
    {
      "cell_type": "code",
      "metadata": {
        "colab": {
          "base_uri": "https://localhost:8080/"
        },
        "id": "WRSjo4H6DySN",
        "outputId": "2f1c1e74-85d1-4e21-88b2-f5c5c65ac5aa"
      },
      "source": [
        "tf.random.set_seed(42)\n",
        "y_pred_test = model.predict(x_test)\n",
        "y_pred_test"
      ],
      "execution_count": 191,
      "outputs": [
        {
          "output_type": "execute_result",
          "data": {
            "text/plain": [
              "array([1., 1., 1., 1., 1., 1., 1., 1., 1., 0., 1., 1., 1., 0., 0., 1., 1.,\n",
              "       1., 1., 1., 1., 1., 1., 0., 1., 0., 1., 0., 1., 1., 1., 1., 1., 0.,\n",
              "       1., 0., 0., 1., 1., 1., 1., 1., 1., 1., 1., 1., 1., 1., 0., 0., 1.,\n",
              "       1., 1., 1., 1., 1., 1., 1., 1., 1., 0., 1., 1., 1., 1., 0., 1., 0.,\n",
              "       1., 1., 1., 0., 1., 1., 1., 1., 0., 0., 1., 1., 1., 1., 1., 0., 0.,\n",
              "       1., 1., 1., 1., 1., 1., 1., 1., 0., 1., 0., 1., 0., 1., 1., 1., 1.,\n",
              "       1., 1., 1., 0., 1., 0., 0., 1., 1., 0., 0., 0., 0., 1., 1., 1., 1.,\n",
              "       1., 1., 0., 1., 0., 1., 1., 0., 0., 0., 1., 1., 0., 0., 1., 1., 1.,\n",
              "       1., 0., 1., 1., 1., 1., 1., 1., 1., 0., 0., 1., 1., 1., 1., 1.],\n",
              "      dtype=float32)"
            ]
          },
          "metadata": {
            "tags": []
          },
          "execution_count": 191
        }
      ]
    },
    {
      "cell_type": "code",
      "metadata": {
        "colab": {
          "base_uri": "https://localhost:8080/"
        },
        "id": "YTXhJelXBWW1",
        "outputId": "1468d9b4-962b-4dd5-c67b-c23229b8f44a"
      },
      "source": [
        "# print accuracy\n",
        "tf.random.set_seed(42)\n",
        "accuracy = metrics.accuracy_score(y_test, y_pred_test)\n",
        "accuracy_percentage = 100 * accuracy\n",
        "print(\"Accuracy :\", accuracy_percentage)"
      ],
      "execution_count": 192,
      "outputs": [
        {
          "output_type": "stream",
          "text": [
            "Accuracy : 75.0\n"
          ],
          "name": "stdout"
        }
      ]
    },
    {
      "cell_type": "code",
      "metadata": {
        "id": "Krv6sj_kFb8u"
      },
      "source": [
        ""
      ],
      "execution_count": 192,
      "outputs": []
    }
  ]
}