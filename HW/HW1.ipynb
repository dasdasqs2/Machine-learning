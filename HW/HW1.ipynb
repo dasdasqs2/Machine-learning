{
  "nbformat": 4,
  "nbformat_minor": 0,
  "metadata": {
    "colab": {
      "name": "20183269_hyunjungkim.ipynb",
      "provenance": [],
      "collapsed_sections": [],
      "authorship_tag": "ABX9TyM5d9i4B0o6GSPvcWt+4E+Q",
      "include_colab_link": true
    },
    "kernelspec": {
      "name": "python3",
      "display_name": "Python 3"
    },
    "language_info": {
      "name": "python"
    }
  },
  "cells": [
    {
      "cell_type": "markdown",
      "metadata": {
        "id": "view-in-github",
        "colab_type": "text"
      },
      "source": [
        "<a href=\"https://colab.research.google.com/github/dasdasqs2/Machine-learning/blob/main/HW1.ipynb\" target=\"_parent\"><img src=\"https://colab.research.google.com/assets/colab-badge.svg\" alt=\"Open In Colab\"/></a>"
      ]
    },
    {
      "cell_type": "markdown",
      "metadata": {
        "id": "pMvQKoRE1CfR"
      },
      "source": [
        "# HW1\n",
        "- Predicting Boston housing Prices using Neural Network"
      ]
    },
    {
      "cell_type": "code",
      "metadata": {
        "id": "e0XJECEB1IuB"
      },
      "source": [
        "import tensorflow as tf\n",
        "import numpy as np\n",
        "import matplotlib.pyplot as plt\n",
        "%matplotlib inline\n",
        "import pandas as pd"
      ],
      "execution_count": 1,
      "outputs": []
    },
    {
      "cell_type": "code",
      "metadata": {
        "colab": {
          "base_uri": "https://localhost:8080/"
        },
        "id": "PwarCFP_1PNR",
        "outputId": "5054a869-e6ed-4837-833c-dbe2d5cc9f2c"
      },
      "source": [
        "from tensorflow.keras.datasets import boston_housing\n",
        "\n",
        "(train_X, train_Y), (test_X, test_Y) = boston_housing.load_data()\n",
        "\n",
        "print(len(train_X), len(test_X))\n",
        "print(train_X[0])\n",
        "print(train_Y[0])"
      ],
      "execution_count": 2,
      "outputs": [
        {
          "output_type": "stream",
          "text": [
            "404 102\n",
            "[  1.23247   0.        8.14      0.        0.538     6.142    91.7\n",
            "   3.9769    4.      307.       21.      396.9      18.72   ]\n",
            "15.2\n"
          ],
          "name": "stdout"
        }
      ]
    },
    {
      "cell_type": "markdown",
      "metadata": {
        "id": "G26l9_9Y1ezh"
      },
      "source": [
        "## Data Preprocessing(regularization)"
      ]
    },
    {
      "cell_type": "code",
      "metadata": {
        "colab": {
          "base_uri": "https://localhost:8080/"
        },
        "id": "BvoqKHR61Zwl",
        "outputId": "536df85e-36af-43a3-a3ef-a688e2813df2"
      },
      "source": [
        "x_mean = train_X.mean() # 먼저 평균값을 구함(x1~x13)\n",
        "x_std = train_X.std() # 표준편차 구함(x1~x13)\n",
        "train_X -= x_mean\n",
        "train_X /= x_std\n",
        "test_X -= x_mean\n",
        "test_X /= x_std\n",
        "\n",
        "y_mean = train_Y.mean()\n",
        "y_std = train_Y.std()\n",
        "train_Y -= y_mean\n",
        "train_Y /= y_std\n",
        "test_Y -= y_mean\n",
        "test_Y /= y_std\n",
        "\n",
        "print(train_X[0])\n",
        "print(train_Y[0])"
      ],
      "execution_count": 3,
      "outputs": [
        {
          "output_type": "stream",
          "text": [
            "[-0.47482083 -0.48335641 -0.42698208 -0.48335641 -0.47963044 -0.44081941\n",
            "  0.15172056 -0.45581402 -0.45565404  1.64280094 -0.33791894  2.26541184\n",
            " -0.35370929]\n",
            "-0.7821526033779157\n"
          ],
          "name": "stdout"
        }
      ]
    },
    {
      "cell_type": "markdown",
      "metadata": {
        "id": "vdhuWRMM3a54"
      },
      "source": [
        "## Traditional Neural Network Model"
      ]
    },
    {
      "cell_type": "code",
      "metadata": {
        "colab": {
          "base_uri": "https://localhost:8080/"
        },
        "id": "LRnz1YC73dc0",
        "outputId": "11fdb305-47a8-488b-e008-3a1f3a73994b"
      },
      "source": [
        "tf.random.set_seed(42)\n",
        "model = tf.keras.Sequential([\n",
        "                             tf.keras.layers.Dense(units=52, activation='relu', input_shape=(13,)),#input layer에 있는 특징이 13개(x1~x13) 노드는 52개\n",
        "                             tf.keras.layers.Dense(units=39, activation='relu'),\n",
        "                             tf.keras.layers.Dense(units=16, activation='relu'),\n",
        "                             tf.keras.layers.Dense(units=1)\n",
        "])\n",
        "\n",
        "model.compile(optimizer=tf.keras.optimizers.Adam(lr=0.07), loss='mse') #learning_rate=0.07, cost=mse\n",
        "model.summary()"
      ],
      "execution_count": 4,
      "outputs": [
        {
          "output_type": "stream",
          "text": [
            "Model: \"sequential\"\n",
            "_________________________________________________________________\n",
            "Layer (type)                 Output Shape              Param #   \n",
            "=================================================================\n",
            "dense (Dense)                (None, 52)                728       \n",
            "_________________________________________________________________\n",
            "dense_1 (Dense)              (None, 39)                2067      \n",
            "_________________________________________________________________\n",
            "dense_2 (Dense)              (None, 16)                640       \n",
            "_________________________________________________________________\n",
            "dense_3 (Dense)              (None, 1)                 17        \n",
            "=================================================================\n",
            "Total params: 3,452\n",
            "Trainable params: 3,452\n",
            "Non-trainable params: 0\n",
            "_________________________________________________________________\n"
          ],
          "name": "stdout"
        }
      ]
    },
    {
      "cell_type": "code",
      "metadata": {
        "colab": {
          "base_uri": "https://localhost:8080/"
        },
        "id": "zsRPkywxHWKw",
        "outputId": "b836005d-4f1b-4989-a146-7517aeeff236"
      },
      "source": [
        "history = model.fit(train_X, train_Y, epochs=25, batch_size=32, validation_split=0.25,\n",
        "callbacks=[tf.keras.callbacks.EarlyStopping(patience=3, monitor='val_loss')])"
      ],
      "execution_count": 5,
      "outputs": [
        {
          "output_type": "stream",
          "text": [
            "Epoch 1/25\n",
            "10/10 [==============================] - 1s 49ms/step - loss: 1.4791 - val_loss: 1.1477\n",
            "Epoch 2/25\n",
            "10/10 [==============================] - 0s 7ms/step - loss: 0.8563 - val_loss: 1.6102\n",
            "Epoch 3/25\n",
            "10/10 [==============================] - 0s 6ms/step - loss: 0.7966 - val_loss: 1.0303\n",
            "Epoch 4/25\n",
            "10/10 [==============================] - 0s 6ms/step - loss: 0.6894 - val_loss: 1.0476\n",
            "Epoch 5/25\n",
            "10/10 [==============================] - 0s 6ms/step - loss: 0.8169 - val_loss: 1.0568\n",
            "Epoch 6/25\n",
            "10/10 [==============================] - 0s 6ms/step - loss: 0.7009 - val_loss: 1.0928\n"
          ],
          "name": "stdout"
        }
      ]
    },
    {
      "cell_type": "code",
      "metadata": {
        "colab": {
          "base_uri": "https://localhost:8080/",
          "height": 279
        },
        "id": "J_3L5WA84nUa",
        "outputId": "8f56807f-c1d3-4c59-8c9d-44a343b33581"
      },
      "source": [
        "plt.plot(history.history['loss'], 'b-', label='loss')\n",
        "plt.plot(history.history['val_loss'], 'r--', label='val_loss')\n",
        "plt.xlabel('Epoch')\n",
        "plt.legend()\n",
        "plt.show()"
      ],
      "execution_count": 6,
      "outputs": [
        {
          "output_type": "display_data",
          "data": {
            "image/png": "[encoded data removed]",
            "text/plain": [
              "<Figure size 432x288 with 1 Axes>"
            ]
          },
          "metadata": {
            "tags": [],
            "needs_background": "light"
          }
        }
      ]
    },
    {
      "cell_type": "code",
      "metadata": {
        "colab": {
          "base_uri": "https://localhost:8080/"
        },
        "id": "mzJxkKVp41FC",
        "outputId": "982df0b1-d130-4ac6-f029-fe134cce7003"
      },
      "source": [
        "model.evaluate(test_X, test_Y)"
      ],
      "execution_count": 7,
      "outputs": [
        {
          "output_type": "stream",
          "text": [
            "4/4 [==============================] - 0s 3ms/step - loss: 0.6887\n"
          ],
          "name": "stdout"
        },
        {
          "output_type": "execute_result",
          "data": {
            "text/plain": [
              "0.6886761784553528"
            ]
          },
          "metadata": {
            "tags": []
          },
          "execution_count": 7
        }
      ]
    },
    {
      "cell_type": "markdown",
      "metadata": {
        "id": "2jLxtG2l3mbX"
      },
      "source": [
        "## Designed Neural Network Model\n",
        "- Dropout : 전체 노드를 weight 계산에 참여시키지 않고, 일부를 생략하는 아이디어 => weight의 동조화 현상(co-adptation)을 피할 수 있다.\n",
        "- relu 함수 호출 후 다음 layer에 전달하기 전 dropout 함수를 호출"
      ]
    },
    {
      "cell_type": "code",
      "metadata": {
        "colab": {
          "base_uri": "https://localhost:8080/"
        },
        "id": "-J3pPcna1chz",
        "outputId": "3255c137-3946-47f8-d8df-791ed10f5806"
      },
      "source": [
        "tf.random.set_seed(42)\n",
        "model2 = tf.keras.Sequential([\n",
        "                             tf.keras.layers.Dense(units=64, activation='relu', input_shape=(13,)),#input layer에 있는 노드가 13개(x1~x13)\n",
        "                             tf.keras.layers.Dropout(0.1),\n",
        "                             tf.keras.layers.Dense(units=64, activation='relu'),\n",
        "                             tf.keras.layers.Dropout(0.1),\n",
        "                             tf.keras.layers.Dense(units=64, activation='relu'),\n",
        "                             tf.keras.layers.Dense(units=1)\n",
        "])\n",
        "\n",
        "model2.compile(optimizer=tf.keras.optimizers.RMSprop(lr = 0.001), loss='mse') #learning_rate=0.07, cost=mse\n",
        "model2.summary()"
      ],
      "execution_count": 8,
      "outputs": [
        {
          "output_type": "stream",
          "text": [
            "Model: \"sequential_1\"\n",
            "_________________________________________________________________\n",
            "Layer (type)                 Output Shape              Param #   \n",
            "=================================================================\n",
            "dense_4 (Dense)              (None, 64)                896       \n",
            "_________________________________________________________________\n",
            "dropout (Dropout)            (None, 64)                0         \n",
            "_________________________________________________________________\n",
            "dense_5 (Dense)              (None, 64)                4160      \n",
            "_________________________________________________________________\n",
            "dropout_1 (Dropout)          (None, 64)                0         \n",
            "_________________________________________________________________\n",
            "dense_6 (Dense)              (None, 64)                4160      \n",
            "_________________________________________________________________\n",
            "dense_7 (Dense)              (None, 1)                 65        \n",
            "=================================================================\n",
            "Total params: 9,281\n",
            "Trainable params: 9,281\n",
            "Non-trainable params: 0\n",
            "_________________________________________________________________\n"
          ],
          "name": "stdout"
        }
      ]
    },
    {
      "cell_type": "code",
      "metadata": {
        "colab": {
          "base_uri": "https://localhost:8080/"
        },
        "id": "lRCqO_k1G6-s",
        "outputId": "ec6f2c7b-22a4-4b42-a369-06a39ff9b486"
      },
      "source": [
        "history = model2.fit(train_X, train_Y, epochs=100, batch_size=16, validation_split=0.2,\n",
        "callbacks=[tf.keras.callbacks.EarlyStopping(patience=30, monitor='val_loss')])"
      ],
      "execution_count": 9,
      "outputs": [
        {
          "output_type": "stream",
          "text": [
            "Epoch 1/100\n",
            "21/21 [==============================] - 1s 10ms/step - loss: 0.9167 - val_loss: 0.8531\n",
            "Epoch 2/100\n",
            "21/21 [==============================] - 0s 4ms/step - loss: 0.7281 - val_loss: 0.8171\n",
            "Epoch 3/100\n",
            "21/21 [==============================] - 0s 3ms/step - loss: 0.8394 - val_loss: 0.9331\n",
            "Epoch 4/100\n",
            "21/21 [==============================] - 0s 3ms/step - loss: 0.8326 - val_loss: 0.8942\n",
            "Epoch 5/100\n",
            "21/21 [==============================] - 0s 4ms/step - loss: 0.8196 - val_loss: 1.0232\n",
            "Epoch 6/100\n",
            "21/21 [==============================] - 0s 4ms/step - loss: 0.8616 - val_loss: 0.8224\n",
            "Epoch 7/100\n",
            "21/21 [==============================] - 0s 3ms/step - loss: 0.8593 - val_loss: 0.8100\n",
            "Epoch 8/100\n",
            "21/21 [==============================] - 0s 4ms/step - loss: 0.6673 - val_loss: 0.8280\n",
            "Epoch 9/100\n",
            "21/21 [==============================] - 0s 4ms/step - loss: 0.8032 - val_loss: 0.8039\n",
            "Epoch 10/100\n",
            "21/21 [==============================] - 0s 3ms/step - loss: 0.6474 - val_loss: 0.8364\n",
            "Epoch 11/100\n",
            "21/21 [==============================] - 0s 3ms/step - loss: 0.7281 - val_loss: 0.8051\n",
            "Epoch 12/100\n",
            "21/21 [==============================] - 0s 4ms/step - loss: 0.6764 - val_loss: 0.8239\n",
            "Epoch 13/100\n",
            "21/21 [==============================] - 0s 3ms/step - loss: 0.7204 - val_loss: 0.8163\n",
            "Epoch 14/100\n",
            "21/21 [==============================] - 0s 3ms/step - loss: 0.7474 - val_loss: 0.9213\n",
            "Epoch 15/100\n",
            "21/21 [==============================] - 0s 3ms/step - loss: 0.6525 - val_loss: 0.8228\n",
            "Epoch 16/100\n",
            "21/21 [==============================] - 0s 3ms/step - loss: 0.7666 - val_loss: 0.8696\n",
            "Epoch 17/100\n",
            "21/21 [==============================] - 0s 3ms/step - loss: 0.6514 - val_loss: 0.8548\n",
            "Epoch 18/100\n",
            "21/21 [==============================] - 0s 3ms/step - loss: 0.8278 - val_loss: 0.8199\n",
            "Epoch 19/100\n",
            "21/21 [==============================] - 0s 3ms/step - loss: 0.7685 - val_loss: 0.8372\n",
            "Epoch 20/100\n",
            "21/21 [==============================] - 0s 4ms/step - loss: 0.6172 - val_loss: 0.8061\n",
            "Epoch 21/100\n",
            "21/21 [==============================] - 0s 3ms/step - loss: 0.7981 - val_loss: 0.7977\n",
            "Epoch 22/100\n",
            "21/21 [==============================] - 0s 4ms/step - loss: 0.6709 - val_loss: 0.8149\n",
            "Epoch 23/100\n",
            "21/21 [==============================] - 0s 3ms/step - loss: 0.7090 - val_loss: 0.8448\n",
            "Epoch 24/100\n",
            "21/21 [==============================] - 0s 3ms/step - loss: 0.8137 - val_loss: 0.8569\n",
            "Epoch 25/100\n",
            "21/21 [==============================] - 0s 3ms/step - loss: 0.7119 - val_loss: 0.8370\n",
            "Epoch 26/100\n",
            "21/21 [==============================] - 0s 4ms/step - loss: 0.7327 - val_loss: 0.7844\n",
            "Epoch 27/100\n",
            "21/21 [==============================] - 0s 4ms/step - loss: 0.5963 - val_loss: 0.9083\n",
            "Epoch 28/100\n",
            "21/21 [==============================] - 0s 4ms/step - loss: 0.7576 - val_loss: 0.7724\n",
            "Epoch 29/100\n",
            "21/21 [==============================] - 0s 3ms/step - loss: 0.6295 - val_loss: 0.8166\n",
            "Epoch 30/100\n",
            "21/21 [==============================] - 0s 3ms/step - loss: 0.6621 - val_loss: 0.8003\n",
            "Epoch 31/100\n",
            "21/21 [==============================] - 0s 4ms/step - loss: 0.5717 - val_loss: 0.8193\n",
            "Epoch 32/100\n",
            "21/21 [==============================] - 0s 4ms/step - loss: 0.5826 - val_loss: 0.7907\n",
            "Epoch 33/100\n",
            "21/21 [==============================] - 0s 3ms/step - loss: 0.5509 - val_loss: 0.7766\n",
            "Epoch 34/100\n",
            "21/21 [==============================] - 0s 3ms/step - loss: 0.6618 - val_loss: 0.8157\n",
            "Epoch 35/100\n",
            "21/21 [==============================] - 0s 4ms/step - loss: 0.8559 - val_loss: 0.8187\n",
            "Epoch 36/100\n",
            "21/21 [==============================] - 0s 3ms/step - loss: 0.5376 - val_loss: 0.7574\n",
            "Epoch 37/100\n",
            "21/21 [==============================] - 0s 3ms/step - loss: 0.6126 - val_loss: 0.7722\n",
            "Epoch 38/100\n",
            "21/21 [==============================] - 0s 5ms/step - loss: 0.5972 - val_loss: 0.7724\n",
            "Epoch 39/100\n",
            "21/21 [==============================] - 0s 4ms/step - loss: 0.7279 - val_loss: 0.7675\n",
            "Epoch 40/100\n",
            "21/21 [==============================] - 0s 4ms/step - loss: 0.5467 - val_loss: 0.7471\n",
            "Epoch 41/100\n",
            "21/21 [==============================] - 0s 3ms/step - loss: 0.6925 - val_loss: 0.7701\n",
            "Epoch 42/100\n",
            "21/21 [==============================] - 0s 4ms/step - loss: 0.7034 - val_loss: 0.7883\n",
            "Epoch 43/100\n",
            "21/21 [==============================] - 0s 4ms/step - loss: 0.5215 - val_loss: 0.7479\n",
            "Epoch 44/100\n",
            "21/21 [==============================] - 0s 3ms/step - loss: 0.6586 - val_loss: 0.8055\n",
            "Epoch 45/100\n",
            "21/21 [==============================] - 0s 4ms/step - loss: 0.6001 - val_loss: 0.7399\n",
            "Epoch 46/100\n",
            "21/21 [==============================] - 0s 4ms/step - loss: 0.6969 - val_loss: 0.8203\n",
            "Epoch 47/100\n",
            "21/21 [==============================] - 0s 4ms/step - loss: 0.6807 - val_loss: 0.7669\n",
            "Epoch 48/100\n",
            "21/21 [==============================] - 0s 4ms/step - loss: 0.6253 - val_loss: 0.7139\n",
            "Epoch 49/100\n",
            "21/21 [==============================] - 0s 3ms/step - loss: 0.6345 - val_loss: 0.7060\n",
            "Epoch 50/100\n",
            "21/21 [==============================] - 0s 3ms/step - loss: 0.5508 - val_loss: 0.7402\n",
            "Epoch 51/100\n",
            "21/21 [==============================] - 0s 3ms/step - loss: 0.5905 - val_loss: 0.7138\n",
            "Epoch 52/100\n",
            "21/21 [==============================] - 0s 3ms/step - loss: 0.5591 - val_loss: 0.7453\n",
            "Epoch 53/100\n",
            "21/21 [==============================] - 0s 3ms/step - loss: 0.4602 - val_loss: 0.7079\n",
            "Epoch 54/100\n",
            "21/21 [==============================] - 0s 3ms/step - loss: 0.4152 - val_loss: 0.6837\n",
            "Epoch 55/100\n",
            "21/21 [==============================] - 0s 3ms/step - loss: 0.5162 - val_loss: 0.7452\n",
            "Epoch 56/100\n",
            "21/21 [==============================] - 0s 3ms/step - loss: 0.5986 - val_loss: 0.7730\n",
            "Epoch 57/100\n",
            "21/21 [==============================] - 0s 3ms/step - loss: 0.5760 - val_loss: 0.7145\n",
            "Epoch 58/100\n",
            "21/21 [==============================] - 0s 4ms/step - loss: 0.6193 - val_loss: 0.7461\n",
            "Epoch 59/100\n",
            "21/21 [==============================] - 0s 4ms/step - loss: 0.5825 - val_loss: 0.7043\n",
            "Epoch 60/100\n",
            "21/21 [==============================] - 0s 3ms/step - loss: 0.6204 - val_loss: 0.7126\n",
            "Epoch 61/100\n",
            "21/21 [==============================] - 0s 4ms/step - loss: 0.6728 - val_loss: 0.6902\n",
            "Epoch 62/100\n",
            "21/21 [==============================] - 0s 3ms/step - loss: 0.4472 - val_loss: 0.7662\n",
            "Epoch 63/100\n",
            "21/21 [==============================] - 0s 4ms/step - loss: 0.5338 - val_loss: 0.6595\n",
            "Epoch 64/100\n",
            "21/21 [==============================] - 0s 3ms/step - loss: 0.5713 - val_loss: 0.7160\n",
            "Epoch 65/100\n",
            "21/21 [==============================] - 0s 3ms/step - loss: 0.6023 - val_loss: 0.6916\n",
            "Epoch 66/100\n",
            "21/21 [==============================] - 0s 4ms/step - loss: 0.5140 - val_loss: 0.6713\n",
            "Epoch 67/100\n",
            "21/21 [==============================] - 0s 3ms/step - loss: 0.5454 - val_loss: 0.6606\n",
            "Epoch 68/100\n",
            "21/21 [==============================] - 0s 3ms/step - loss: 0.3941 - val_loss: 0.9601\n",
            "Epoch 69/100\n",
            "21/21 [==============================] - 0s 3ms/step - loss: 0.5471 - val_loss: 0.6657\n",
            "Epoch 70/100\n",
            "21/21 [==============================] - 0s 3ms/step - loss: 0.4715 - val_loss: 0.6710\n",
            "Epoch 71/100\n",
            "21/21 [==============================] - 0s 4ms/step - loss: 0.4242 - val_loss: 0.6841\n",
            "Epoch 72/100\n",
            "21/21 [==============================] - 0s 3ms/step - loss: 0.4778 - val_loss: 0.6523\n",
            "Epoch 73/100\n",
            "21/21 [==============================] - 0s 3ms/step - loss: 0.4833 - val_loss: 0.6322\n",
            "Epoch 74/100\n",
            "21/21 [==============================] - 0s 5ms/step - loss: 0.4164 - val_loss: 0.7074\n",
            "Epoch 75/100\n",
            "21/21 [==============================] - 0s 4ms/step - loss: 0.5984 - val_loss: 0.7124\n",
            "Epoch 76/100\n",
            "21/21 [==============================] - 0s 3ms/step - loss: 0.5335 - val_loss: 0.6288\n",
            "Epoch 77/100\n",
            "21/21 [==============================] - 0s 3ms/step - loss: 0.5482 - val_loss: 0.6385\n",
            "Epoch 78/100\n",
            "21/21 [==============================] - 0s 4ms/step - loss: 0.6960 - val_loss: 0.6178\n",
            "Epoch 79/100\n",
            "21/21 [==============================] - 0s 3ms/step - loss: 0.5560 - val_loss: 0.6299\n",
            "Epoch 80/100\n",
            "21/21 [==============================] - 0s 3ms/step - loss: 0.5175 - val_loss: 0.6258\n",
            "Epoch 81/100\n",
            "21/21 [==============================] - 0s 4ms/step - loss: 0.5947 - val_loss: 0.6763\n",
            "Epoch 82/100\n",
            "21/21 [==============================] - 0s 4ms/step - loss: 0.5282 - val_loss: 0.6803\n",
            "Epoch 83/100\n",
            "21/21 [==============================] - 0s 3ms/step - loss: 0.4269 - val_loss: 0.7438\n",
            "Epoch 84/100\n",
            "21/21 [==============================] - 0s 3ms/step - loss: 0.6656 - val_loss: 0.8077\n",
            "Epoch 85/100\n",
            "21/21 [==============================] - 0s 3ms/step - loss: 0.5092 - val_loss: 0.5817\n",
            "Epoch 86/100\n",
            "21/21 [==============================] - 0s 4ms/step - loss: 0.4167 - val_loss: 0.6018\n",
            "Epoch 87/100\n",
            "21/21 [==============================] - 0s 4ms/step - loss: 0.4554 - val_loss: 0.6032\n",
            "Epoch 88/100\n",
            "21/21 [==============================] - 0s 4ms/step - loss: 0.6469 - val_loss: 0.6176\n",
            "Epoch 89/100\n",
            "21/21 [==============================] - 0s 3ms/step - loss: 0.4829 - val_loss: 0.7028\n",
            "Epoch 90/100\n",
            "21/21 [==============================] - 0s 4ms/step - loss: 0.5270 - val_loss: 0.5708\n",
            "Epoch 91/100\n",
            "21/21 [==============================] - 0s 3ms/step - loss: 0.3598 - val_loss: 0.5933\n",
            "Epoch 92/100\n",
            "21/21 [==============================] - 0s 4ms/step - loss: 0.4960 - val_loss: 0.6126\n",
            "Epoch 93/100\n",
            "21/21 [==============================] - 0s 3ms/step - loss: 0.5793 - val_loss: 0.5912\n",
            "Epoch 94/100\n",
            "21/21 [==============================] - 0s 3ms/step - loss: 0.4205 - val_loss: 0.7111\n",
            "Epoch 95/100\n",
            "21/21 [==============================] - 0s 3ms/step - loss: 0.4779 - val_loss: 0.9649\n",
            "Epoch 96/100\n",
            "21/21 [==============================] - 0s 4ms/step - loss: 0.4267 - val_loss: 0.5777\n",
            "Epoch 97/100\n",
            "21/21 [==============================] - 0s 3ms/step - loss: 0.3982 - val_loss: 0.5265\n",
            "Epoch 98/100\n",
            "21/21 [==============================] - 0s 4ms/step - loss: 0.4900 - val_loss: 0.5299\n",
            "Epoch 99/100\n",
            "21/21 [==============================] - 0s 4ms/step - loss: 0.4367 - val_loss: 0.7025\n",
            "Epoch 100/100\n",
            "21/21 [==============================] - 0s 3ms/step - loss: 0.6253 - val_loss: 0.5354\n"
          ],
          "name": "stdout"
        }
      ]
    },
    {
      "cell_type": "code",
      "metadata": {
        "colab": {
          "base_uri": "https://localhost:8080/",
          "height": 279
        },
        "id": "fICpMRn9ABNQ",
        "outputId": "8e120a7e-ded8-4c90-e952-83d1fd7c3a88"
      },
      "source": [
        "plt.plot(history.history['loss'], 'b-', label='loss')\n",
        "plt.plot(history.history['val_loss'], 'r--', label='val_loss')\n",
        "plt.xlabel('Epoch')\n",
        "plt.legend()\n",
        "plt.show()"
      ],
      "execution_count": 10,
      "outputs": [
        {
          "output_type": "display_data",
          "data": {
            "image/png": "[encoded data removed]",
            "text/plain": [
              "<Figure size 432x288 with 1 Axes>"
            ]
          },
          "metadata": {
            "tags": [],
            "needs_background": "light"
          }
        }
      ]
    },
    {
      "cell_type": "code",
      "metadata": {
        "colab": {
          "base_uri": "https://localhost:8080/"
        },
        "id": "Ml8FMEfgAD5x",
        "outputId": "7bcb2aea-9aab-4481-84c1-5e1c2bf8bc0d"
      },
      "source": [
        "model2.evaluate(test_X, test_Y)"
      ],
      "execution_count": 11,
      "outputs": [
        {
          "output_type": "stream",
          "text": [
            "4/4 [==============================] - 0s 3ms/step - loss: 0.4790\n"
          ],
          "name": "stdout"
        },
        {
          "output_type": "execute_result",
          "data": {
            "text/plain": [
              "0.47903791069984436"
            ]
          },
          "metadata": {
            "tags": []
          },
          "execution_count": 11
        }
      ]
    }
  ]
}
