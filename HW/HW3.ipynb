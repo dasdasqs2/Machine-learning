{
  "nbformat": 4,
  "nbformat_minor": 0,
  "metadata": {
    "colab": {
      "name": "HW3.ipynb",
      "provenance": [],
      "collapsed_sections": [],
      "authorship_tag": "ABX9TyNAg0tTJsvjXQL2mkBlUI5m",
      "include_colab_link": true
    },
    "kernelspec": {
      "name": "python3",
      "display_name": "Python 3"
    },
    "language_info": {
      "name": "python"
    },
    "accelerator": "GPU"
  },
  "cells": [
    {
      "cell_type": "markdown",
      "metadata": {
        "id": "view-in-github",
        "colab_type": "text"
      },
      "source": [
        "<a href=\"https://colab.research.google.com/github/dasdasqs2/Machine-learning/blob/main/HW/HW3.ipynb\" target=\"_parent\"><img src=\"https://colab.research.google.com/assets/colab-badge.svg\" alt=\"Open In Colab\"/></a>"
      ]
    },
    {
      "cell_type": "markdown",
      "metadata": {
        "id": "n1ME-JfkVaqq"
      },
      "source": [
        "# Q1. \n",
        "- 8주차 강의노트에서 wine data를 다루는 예제가 있다. 강의에서 다룬 것처럼 7개의 ‘quality’를\n",
        "3개의 quality로 재분류한다. 그리고 기존의 test data 정확도 (79.3%)보다 더 좋은 결과가 나오게\n",
        "끔 신경망의 모델을 수정하거나 하이퍼파라미터(hyperparameter)를 바꾸는 코드를 작성하라.\n"
      ]
    },
    {
      "cell_type": "code",
      "metadata": {
        "id": "jWLsgeWmRqJb"
      },
      "source": [
        "import numpy as np\n",
        "import pandas as pd\n",
        "import matplotlib.pyplot as plt\n",
        "import tensorflow as tf\n",
        "\n",
        "tf.random.set_seed(42)"
      ],
      "execution_count": 1,
      "outputs": []
    },
    {
      "cell_type": "code",
      "metadata": {
        "id": "7i7Pfeb1V6to"
      },
      "source": [
        "red = pd.read_csv('http://archive.ics.uci.edu/ml/machine-learning-databases/wine-quality/winequality-red.csv', sep=';')\n",
        "white = pd.read_csv('http://archive.ics.uci.edu/ml/machine-learning-databases/wine-quality/winequality-white.csv', sep=';')"
      ],
      "execution_count": 2,
      "outputs": []
    },
    {
      "cell_type": "code",
      "metadata": {
        "id": "0tjyX40qL9Vg",
        "colab": {
          "base_uri": "https://localhost:8080/"
        },
        "outputId": "37f8a6c9-eb73-43ca-8abd-2a2f22d4385b"
      },
      "source": [
        "red['type'] = 0\n",
        "white['type'] = 1\n",
        "# mean의 의미-> red:white = 1:3\n",
        "\n",
        "print(red.head(2))\n",
        "print(white.head(2))\n",
        "\n",
        "wine = pd.concat([red, white]) #(red + white) dataframe\n",
        "print(wine.describe()) #통계적 특징"
      ],
      "execution_count": 3,
      "outputs": [
        {
          "output_type": "stream",
          "text": [
            "   fixed acidity  volatile acidity  citric acid  ...  alcohol  quality  type\n",
            "0            7.4              0.70          0.0  ...      9.4        5     0\n",
            "1            7.8              0.88          0.0  ...      9.8        5     0\n",
            "\n",
            "[2 rows x 13 columns]\n",
            "   fixed acidity  volatile acidity  citric acid  ...  alcohol  quality  type\n",
            "0            7.0              0.27         0.36  ...      8.8        6     1\n",
            "1            6.3              0.30         0.34  ...      9.5        6     1\n",
            "\n",
            "[2 rows x 13 columns]\n",
            "       fixed acidity  volatile acidity  ...      quality         type\n",
            "count    6497.000000       6497.000000  ...  6497.000000  6497.000000\n",
            "mean        7.215307          0.339666  ...     5.818378     0.753886\n",
            "std         1.296434          0.164636  ...     0.873255     0.430779\n",
            "min         3.800000          0.080000  ...     3.000000     0.000000\n",
            "25%         6.400000          0.230000  ...     5.000000     1.000000\n",
            "50%         7.000000          0.290000  ...     6.000000     1.000000\n",
            "75%         7.700000          0.400000  ...     6.000000     1.000000\n",
            "max        15.900000          1.580000  ...     9.000000     1.000000\n",
            "\n",
            "[8 rows x 13 columns]\n"
          ],
          "name": "stdout"
        }
      ]
    },
    {
      "cell_type": "code",
      "metadata": {
        "id": "npmP_eTrILq5",
        "colab": {
          "base_uri": "https://localhost:8080/"
        },
        "outputId": "45813b88-7b3c-46cc-ce0f-cf55f55d1ceb"
      },
      "source": [
        "print(wine['quality'].describe())\n",
        "print(wine['quality'].value_counts())"
      ],
      "execution_count": 4,
      "outputs": [
        {
          "output_type": "stream",
          "text": [
            "count    6497.000000\n",
            "mean        5.818378\n",
            "std         0.873255\n",
            "min         3.000000\n",
            "25%         5.000000\n",
            "50%         6.000000\n",
            "75%         6.000000\n",
            "max         9.000000\n",
            "Name: quality, dtype: float64\n",
            "6    2836\n",
            "5    2138\n",
            "7    1079\n",
            "4     216\n",
            "8     193\n",
            "3      30\n",
            "9       5\n",
            "Name: quality, dtype: int64\n"
          ],
          "name": "stdout"
        }
      ]
    },
    {
      "cell_type": "code",
      "metadata": {
        "id": "4BFYSsasIeJV",
        "colab": {
          "base_uri": "https://localhost:8080/",
          "height": 265
        },
        "outputId": "0572e292-a72e-4848-83c0-5ed600b9529c"
      },
      "source": [
        "#imbalanced data\n",
        "plt.hist(wine['quality'], bins=7, rwidth=0.8)\n",
        "plt.show()"
      ],
      "execution_count": 5,
      "outputs": [
        {
          "output_type": "display_data",
          "data": {
            "image/png": "[encoded data removed]",
            "text/plain": [
              "<Figure size 432x288 with 1 Axes>"
            ]
          },
          "metadata": {
            "tags": [],
            "needs_background": "light"
          }
        }
      ]
    },
    {
      "cell_type": "code",
      "metadata": {
        "id": "iUsYaD7jIpeh",
        "colab": {
          "base_uri": "https://localhost:8080/"
        },
        "outputId": "e163c0de-a67b-497d-f09e-378d16857635"
      },
      "source": [
        "# 7 quality -> 3 quality\n",
        "wine.loc[wine['quality'] <=5, 'new_quality'] = 0\n",
        "wine.loc[wine['quality'] ==6, 'new_quality'] = 1\n",
        "wine.loc[wine['quality'] >=7, 'new_quality'] = 2\n",
        "\n",
        "print(wine['new_quality'].describe())\n",
        "print(wine['new_quality'].value_counts())"
      ],
      "execution_count": 6,
      "outputs": [
        {
          "output_type": "stream",
          "text": [
            "count    6497.000000\n",
            "mean        0.829614\n",
            "std         0.731124\n",
            "min         0.000000\n",
            "25%         0.000000\n",
            "50%         1.000000\n",
            "75%         1.000000\n",
            "max         2.000000\n",
            "Name: new_quality, dtype: float64\n",
            "1.0    2836\n",
            "0.0    2384\n",
            "2.0    1277\n",
            "Name: new_quality, dtype: int64\n"
          ],
          "name": "stdout"
        }
      ]
    },
    {
      "cell_type": "code",
      "metadata": {
        "id": "phEGGSG4JIft"
      },
      "source": [
        "# data regularization & split test data\n",
        "del wine['quality']\n",
        "wine_norm = (wine - wine.min()) / (wine.max() - wine.min())\n",
        "wine_shuffle = wine_norm.sample(frac=1)\n",
        "wine_np = wine_shuffle.to_numpy()\n",
        "\n",
        "train_idx = int(len(wine_np) * 0.8)\n",
        "train_X, train_Y = wine_np[:train_idx, :-1], wine_np[:train_idx, -1]\n",
        "test_X, test_Y = wine_np[train_idx:, :-1], wine_np[train_idx:, -1]\n",
        "train_Y = tf.keras.utils.to_categorical(train_Y, num_classes=3)\n",
        "test_Y = tf.keras.utils.to_categorical(test_Y, num_classes=3)"
      ],
      "execution_count": 7,
      "outputs": []
    },
    {
      "cell_type": "code",
      "metadata": {
        "id": "Z9irffgmK98M",
        "colab": {
          "base_uri": "https://localhost:8080/"
        },
        "outputId": "f0a1c29d-55c9-48f6-fb28-fd8f7c1e3a85"
      },
      "source": [
        "tf.random.set_seed(42)\n",
        "model = tf.keras.Sequential([\n",
        "                             tf.keras.layers.Dense(units=72, activation='relu', input_shape=(12,)),\n",
        "                             tf.keras.layers.Dense(units=48, activation='relu'),\n",
        "                             tf.keras.layers.Dense(units=24, activation='relu'),\n",
        "                             tf.keras.layers.Dense(units=3, activation='softmax')\n",
        "])\n",
        "\n",
        "model.compile(optimizer=tf.keras.optimizers.Adam(lr=0.05),loss='categorical_crossentropy', metrics=['accuracy'])\n",
        "\n",
        "history = model.fit(train_X, train_Y, epochs=25, batch_size=32, validation_split=0.25)"
      ],
      "execution_count": 8,
      "outputs": [
        {
          "output_type": "stream",
          "text": [
            "Epoch 1/25\n",
            "122/122 [==============================] - 4s 8ms/step - loss: 0.5295 - accuracy: 0.7493 - val_loss: 0.3948 - val_accuracy: 0.8138\n",
            "Epoch 2/25\n",
            "122/122 [==============================] - 0s 4ms/step - loss: 0.4231 - accuracy: 0.7948 - val_loss: 0.4357 - val_accuracy: 0.8138\n",
            "Epoch 3/25\n",
            "122/122 [==============================] - 1s 4ms/step - loss: 0.4143 - accuracy: 0.8125 - val_loss: 0.4027 - val_accuracy: 0.8138\n",
            "Epoch 4/25\n",
            "122/122 [==============================] - 0s 4ms/step - loss: 0.4340 - accuracy: 0.7908 - val_loss: 0.3796 - val_accuracy: 0.8246\n",
            "Epoch 5/25\n",
            "122/122 [==============================] - 1s 4ms/step - loss: 0.4156 - accuracy: 0.8148 - val_loss: 0.3830 - val_accuracy: 0.8192\n",
            "Epoch 6/25\n",
            "122/122 [==============================] - 1s 4ms/step - loss: 0.4234 - accuracy: 0.8045 - val_loss: 0.4114 - val_accuracy: 0.8092\n",
            "Epoch 7/25\n",
            "122/122 [==============================] - 1s 4ms/step - loss: 0.4102 - accuracy: 0.7977 - val_loss: 0.3760 - val_accuracy: 0.8208\n",
            "Epoch 8/25\n",
            "122/122 [==============================] - 1s 4ms/step - loss: 0.4149 - accuracy: 0.8080 - val_loss: 0.3927 - val_accuracy: 0.8138\n",
            "Epoch 9/25\n",
            "122/122 [==============================] - 1s 4ms/step - loss: 0.4157 - accuracy: 0.8177 - val_loss: 0.4039 - val_accuracy: 0.8154\n",
            "Epoch 10/25\n",
            "122/122 [==============================] - 1s 4ms/step - loss: 0.4189 - accuracy: 0.7971 - val_loss: 0.3885 - val_accuracy: 0.8162\n",
            "Epoch 11/25\n",
            "122/122 [==============================] - 0s 4ms/step - loss: 0.3992 - accuracy: 0.8170 - val_loss: 0.4141 - val_accuracy: 0.8169\n",
            "Epoch 12/25\n",
            "122/122 [==============================] - 0s 4ms/step - loss: 0.3947 - accuracy: 0.8185 - val_loss: 0.3749 - val_accuracy: 0.8162\n",
            "Epoch 13/25\n",
            "122/122 [==============================] - 1s 4ms/step - loss: 0.4194 - accuracy: 0.8165 - val_loss: 0.4044 - val_accuracy: 0.8046\n",
            "Epoch 14/25\n",
            "122/122 [==============================] - 1s 4ms/step - loss: 0.4070 - accuracy: 0.8188 - val_loss: 0.3816 - val_accuracy: 0.8254\n",
            "Epoch 15/25\n",
            "122/122 [==============================] - 1s 4ms/step - loss: 0.3923 - accuracy: 0.8156 - val_loss: 0.3783 - val_accuracy: 0.8215\n",
            "Epoch 16/25\n",
            "122/122 [==============================] - 1s 4ms/step - loss: 0.4158 - accuracy: 0.8004 - val_loss: 0.3781 - val_accuracy: 0.8208\n",
            "Epoch 17/25\n",
            "122/122 [==============================] - 1s 4ms/step - loss: 0.4093 - accuracy: 0.8042 - val_loss: 0.3717 - val_accuracy: 0.8238\n",
            "Epoch 18/25\n",
            "122/122 [==============================] - 1s 4ms/step - loss: 0.4021 - accuracy: 0.8029 - val_loss: 0.3831 - val_accuracy: 0.8138\n",
            "Epoch 19/25\n",
            "122/122 [==============================] - 0s 4ms/step - loss: 0.3994 - accuracy: 0.8106 - val_loss: 0.4079 - val_accuracy: 0.8277\n",
            "Epoch 20/25\n",
            "122/122 [==============================] - 0s 4ms/step - loss: 0.4207 - accuracy: 0.8152 - val_loss: 0.3771 - val_accuracy: 0.8231\n",
            "Epoch 21/25\n",
            "122/122 [==============================] - 1s 4ms/step - loss: 0.3927 - accuracy: 0.8153 - val_loss: 0.3816 - val_accuracy: 0.8185\n",
            "Epoch 22/25\n",
            "122/122 [==============================] - 1s 4ms/step - loss: 0.4037 - accuracy: 0.8209 - val_loss: 0.3941 - val_accuracy: 0.8177\n",
            "Epoch 23/25\n",
            "122/122 [==============================] - 0s 4ms/step - loss: 0.4031 - accuracy: 0.8219 - val_loss: 0.3902 - val_accuracy: 0.8185\n",
            "Epoch 24/25\n",
            "122/122 [==============================] - 0s 4ms/step - loss: 0.4007 - accuracy: 0.8104 - val_loss: 0.3981 - val_accuracy: 0.8192\n",
            "Epoch 25/25\n",
            "122/122 [==============================] - 1s 4ms/step - loss: 0.4150 - accuracy: 0.8170 - val_loss: 0.3938 - val_accuracy: 0.8169\n"
          ],
          "name": "stdout"
        }
      ]
    },
    {
      "cell_type": "code",
      "metadata": {
        "id": "OftV_orcl_ve",
        "colab": {
          "base_uri": "https://localhost:8080/",
          "height": 283
        },
        "outputId": "42536724-14af-40ae-95b1-81cf069edee2"
      },
      "source": [
        "plt.figure(figsize=(12,4))\n",
        "\n",
        "plt.subplot(1,2,1)\n",
        "plt.plot(history.history['loss'], 'b-', label='loss')\n",
        "plt.plot(history.history['val_loss'], 'r--', label='val_loss')\n",
        "plt.xlabel('Epoch')\n",
        "plt.legend()\n",
        "\n",
        "plt.subplot(1,2,2)\n",
        "plt.plot(history.history['accuracy'], 'g-', label='accuracy')\n",
        "plt.plot(history.history['val_accuracy'], 'k--', label='val_loss')\n",
        "plt.xlabel('Epoch')\n",
        "plt.ylim(0.7,1)\n",
        "plt.legend()\n",
        "\n",
        "plt.show()"
      ],
      "execution_count": 9,
      "outputs": [
        {
          "output_type": "display_data",
          "data": {
            "image/png": "[encoded data removed]",
            "text/plain": [
              "<Figure size 864x288 with 2 Axes>"
            ]
          },
          "metadata": {
            "tags": [],
            "needs_background": "light"
          }
        }
      ]
    },
    {
      "cell_type": "code",
      "metadata": {
        "id": "nFj7cuKENbU3",
        "colab": {
          "base_uri": "https://localhost:8080/"
        },
        "outputId": "051781e8-2c39-4b3e-da73-a8637ca8c972"
      },
      "source": [
        "model.evaluate(test_X, test_Y)"
      ],
      "execution_count": 10,
      "outputs": [
        {
          "output_type": "stream",
          "text": [
            "41/41 [==============================] - 0s 2ms/step - loss: 0.4293 - accuracy: 0.8077\n"
          ],
          "name": "stdout"
        },
        {
          "output_type": "execute_result",
          "data": {
            "text/plain": [
              "[0.4293164908885956, 0.807692289352417]"
            ]
          },
          "metadata": {
            "tags": []
          },
          "execution_count": 10
        }
      ]
    },
    {
      "cell_type": "markdown",
      "metadata": {
        "id": "Kp3XbpB7f6qG"
      },
      "source": [
        "# Q2. 8주차 강의노트에서 Fashion MNIST 데이터를 다루는 예제가 있다.\n",
        "1. Fashion MNIST 데이터를 logistic regression 을 이용하여 학습한 뒤, test data를 적용하여\n",
        "결과를 얻는다\n",
        "2. Fashion MNIST 데이터를 수업 중 다룬 MLP로 학습한 뒤, test data를 적용하여 결과를 얻\n",
        "는다\n",
        "3. Fashion MNIST 데이터를 MLP로 학습하되, 위에서 학습한 결과보다 더 validation 결과를\n",
        "얻을 수 있도록 모델을 바꾼 뒤, test data를 적용하여 결과를 얻는다\n",
        "단, 위의 3문제에서 학습할 때, validation data 비율은 학습데이터의 25%로 둔다."
      ]
    },
    {
      "cell_type": "markdown",
      "metadata": {
        "id": "E3WnCupslOwQ"
      },
      "source": [
        "## 1. Logistic regression"
      ]
    },
    {
      "cell_type": "code",
      "metadata": {
        "id": "TxGlRVw2qt0L"
      },
      "source": [
        "from sklearn import datasets\n",
        "from sklearn import model_selection\n",
        "from sklearn.linear_model import LogisticRegression\n",
        "from sklearn import metrics\n",
        "\n",
        "dataset = datasets.load_digits()\n",
        "x_data = dataset.data\n",
        "y_data = dataset.target"
      ],
      "execution_count": 11,
      "outputs": []
    },
    {
      "cell_type": "code",
      "metadata": {
        "colab": {
          "base_uri": "https://localhost:8080/"
        },
        "id": "PoP-QK9ss7aW",
        "outputId": "680fd61a-30e7-4cb3-ca23-8ed7b2ddcdbd"
      },
      "source": [
        "print(x_data)\n",
        "print(y_data) "
      ],
      "execution_count": 12,
      "outputs": [
        {
          "output_type": "stream",
          "text": [
            "[[ 0.  0.  5. ...  0.  0.  0.]\n",
            " [ 0.  0.  0. ... 10.  0.  0.]\n",
            " [ 0.  0.  0. ... 16.  9.  0.]\n",
            " ...\n",
            " [ 0.  0.  1. ...  6.  0.  0.]\n",
            " [ 0.  0.  2. ... 12.  0.  0.]\n",
            " [ 0.  0. 10. ... 12.  1.  0.]]\n",
            "[0 1 2 ... 8 9 8]\n"
          ],
          "name": "stdout"
        }
      ]
    },
    {
      "cell_type": "code",
      "metadata": {
        "id": "sV1wPG_otGG5"
      },
      "source": [
        "train_X, test_X, train_Y, test_Y = model_selection.train_test_split(x_data, y_data, test_size=0.25)"
      ],
      "execution_count": 13,
      "outputs": []
    },
    {
      "cell_type": "code",
      "metadata": {
        "colab": {
          "base_uri": "https://localhost:8080/"
        },
        "id": "97DcQvY5tTh-",
        "outputId": "d47bcfe2-2522-4705-e9d2-d9ae864dacb9"
      },
      "source": [
        "tf.random.set_seed(42)\n",
        "model1 = LogisticRegression(max_iter=100, tol=0.0001, penalty='l2', C=1.0)\n",
        "\n",
        "model1.fit(train_X, train_Y)"
      ],
      "execution_count": 14,
      "outputs": [
        {
          "output_type": "stream",
          "text": [
            "/usr/local/lib/python3.7/dist-packages/sklearn/linear_model/_logistic.py:940: ConvergenceWarning: lbfgs failed to converge (status=1):\n",
            "STOP: TOTAL NO. of ITERATIONS REACHED LIMIT.\n",
            "\n",
            "Increase the number of iterations (max_iter) or scale the data as shown in:\n",
            "    https://scikit-learn.org/stable/modules/preprocessing.html\n",
            "Please also refer to the documentation for alternative solver options:\n",
            "    https://scikit-learn.org/stable/modules/linear_model.html#logistic-regression\n",
            "  extra_warning_msg=_LOGISTIC_SOLVER_CONVERGENCE_MSG)\n"
          ],
          "name": "stderr"
        },
        {
          "output_type": "execute_result",
          "data": {
            "text/plain": [
              "LogisticRegression(C=1.0, class_weight=None, dual=False, fit_intercept=True,\n",
              "                   intercept_scaling=1, l1_ratio=None, max_iter=100,\n",
              "                   multi_class='auto', n_jobs=None, penalty='l2',\n",
              "                   random_state=None, solver='lbfgs', tol=0.0001, verbose=0,\n",
              "                   warm_start=False)"
            ]
          },
          "metadata": {
            "tags": []
          },
          "execution_count": 14
        }
      ]
    },
    {
      "cell_type": "code",
      "metadata": {
        "colab": {
          "base_uri": "https://localhost:8080/"
        },
        "id": "hK88DJ01tod6",
        "outputId": "fd133224-4840-451e-9aab-5d1c0dfc3baa"
      },
      "source": [
        "y_predict = model1.predict(test_X) \n",
        "score = metrics.accuracy_score(test_Y, y_predict)\n",
        "print(score)"
      ],
      "execution_count": 15,
      "outputs": [
        {
          "output_type": "stream",
          "text": [
            "0.9688888888888889\n"
          ],
          "name": "stdout"
        }
      ]
    },
    {
      "cell_type": "markdown",
      "metadata": {
        "id": "7S-GYsafmKUb"
      },
      "source": [
        "## 2. MLP"
      ]
    },
    {
      "cell_type": "code",
      "metadata": {
        "colab": {
          "base_uri": "https://localhost:8080/"
        },
        "id": "k_thuoNEsCUN",
        "outputId": "00fefc3a-2873-4b68-d9a3-f10adc75184c"
      },
      "source": [
        "from tensorflow import keras\n",
        "\n",
        "fashion_mnist = keras.datasets.fashion_mnist\n",
        "(train_X0, train_Y0), (test_X0, test_Y0) = fashion_mnist.load_data()\n",
        "\n",
        "print(len(train_X0), len(test_X0))"
      ],
      "execution_count": 16,
      "outputs": [
        {
          "output_type": "stream",
          "text": [
            "Downloading data from https://storage.googleapis.com/tensorflow/tf-keras-datasets/train-labels-idx1-ubyte.gz\n",
            "32768/29515 [=================================] - 0s 0us/step\n",
            "Downloading data from https://storage.googleapis.com/tensorflow/tf-keras-datasets/train-images-idx3-ubyte.gz\n",
            "26427392/26421880 [==============================] - 0s 0us/step\n",
            "Downloading data from https://storage.googleapis.com/tensorflow/tf-keras-datasets/t10k-labels-idx1-ubyte.gz\n",
            "8192/5148 [===============================================] - 0s 0us/step\n",
            "Downloading data from https://storage.googleapis.com/tensorflow/tf-keras-datasets/t10k-images-idx3-ubyte.gz\n",
            "4423680/4422102 [==============================] - 0s 0us/step\n",
            "60000 10000\n"
          ],
          "name": "stdout"
        }
      ]
    },
    {
      "cell_type": "code",
      "metadata": {
        "id": "vl1dy-S4sEmZ"
      },
      "source": [
        "train_X = train_X0 / 255.0\n",
        "test_X = test_X0 / 255.0"
      ],
      "execution_count": 17,
      "outputs": []
    },
    {
      "cell_type": "code",
      "metadata": {
        "id": "l539XG5VABE-"
      },
      "source": [
        "from keras.utils import to_categorical\n",
        "\n",
        "train_Y = to_categorical(train_Y0, 10)\n",
        "test_Y = to_categorical(test_Y0, 10)"
      ],
      "execution_count": 18,
      "outputs": []
    },
    {
      "cell_type": "code",
      "metadata": {
        "id": "E7VyT4L2lSzp"
      },
      "source": [
        "model2 = tf.keras.Sequential([\n",
        "    tf.keras.layers.Flatten(input_shape=(28,28)),\n",
        "    tf.keras.layers.Dense(units=128, activation='relu'),\n",
        "    tf.keras.layers.Dense(units=10, activation='softmax')\n",
        "])\n",
        "\n",
        "model2.compile(optimizer=tf.keras.optimizers.Adam(),loss='categorical_crossentropy', metrics=['accuracy'])"
      ],
      "execution_count": 19,
      "outputs": []
    },
    {
      "cell_type": "code",
      "metadata": {
        "colab": {
          "base_uri": "https://localhost:8080/"
        },
        "id": "TWbM6qxGmu2Y",
        "outputId": "543dff07-4b4b-4156-cc08-f78dc53c5d8c"
      },
      "source": [
        "tf.random.set_seed(42)\n",
        "history = model2.fit(train_X, train_Y, epochs=25, validation_split=0.25)"
      ],
      "execution_count": 20,
      "outputs": [
        {
          "output_type": "stream",
          "text": [
            "Epoch 1/25\n",
            "1407/1407 [==============================] - 6s 4ms/step - loss: 0.6608 - accuracy: 0.7713 - val_loss: 0.5186 - val_accuracy: 0.8100\n",
            "Epoch 2/25\n",
            "1407/1407 [==============================] - 5s 4ms/step - loss: 0.3993 - accuracy: 0.8568 - val_loss: 0.3833 - val_accuracy: 0.8619\n",
            "Epoch 3/25\n",
            "1407/1407 [==============================] - 5s 4ms/step - loss: 0.3548 - accuracy: 0.8723 - val_loss: 0.3717 - val_accuracy: 0.8701\n",
            "Epoch 4/25\n",
            "1407/1407 [==============================] - 5s 4ms/step - loss: 0.3297 - accuracy: 0.8808 - val_loss: 0.3399 - val_accuracy: 0.8767\n",
            "Epoch 5/25\n",
            "1407/1407 [==============================] - 5s 4ms/step - loss: 0.3000 - accuracy: 0.8892 - val_loss: 0.3301 - val_accuracy: 0.8829\n",
            "Epoch 6/25\n",
            "1407/1407 [==============================] - 6s 4ms/step - loss: 0.2832 - accuracy: 0.8957 - val_loss: 0.3510 - val_accuracy: 0.8769\n",
            "Epoch 7/25\n",
            "1407/1407 [==============================] - 5s 4ms/step - loss: 0.2763 - accuracy: 0.8990 - val_loss: 0.3251 - val_accuracy: 0.8841\n",
            "Epoch 8/25\n",
            "1407/1407 [==============================] - 6s 4ms/step - loss: 0.2625 - accuracy: 0.9012 - val_loss: 0.3331 - val_accuracy: 0.8805\n",
            "Epoch 9/25\n",
            "1407/1407 [==============================] - 5s 4ms/step - loss: 0.2499 - accuracy: 0.9068 - val_loss: 0.3281 - val_accuracy: 0.8827\n",
            "Epoch 10/25\n",
            "1407/1407 [==============================] - 6s 4ms/step - loss: 0.2460 - accuracy: 0.9074 - val_loss: 0.3268 - val_accuracy: 0.8816\n",
            "Epoch 11/25\n",
            "1407/1407 [==============================] - 6s 4ms/step - loss: 0.2396 - accuracy: 0.9109 - val_loss: 0.3289 - val_accuracy: 0.8861\n",
            "Epoch 12/25\n",
            "1407/1407 [==============================] - 6s 4ms/step - loss: 0.2268 - accuracy: 0.9144 - val_loss: 0.3297 - val_accuracy: 0.8838\n",
            "Epoch 13/25\n",
            "1407/1407 [==============================] - 5s 4ms/step - loss: 0.2145 - accuracy: 0.9203 - val_loss: 0.3373 - val_accuracy: 0.8843\n",
            "Epoch 14/25\n",
            "1407/1407 [==============================] - 6s 4ms/step - loss: 0.2175 - accuracy: 0.9192 - val_loss: 0.3330 - val_accuracy: 0.8843\n",
            "Epoch 15/25\n",
            "1407/1407 [==============================] - 5s 4ms/step - loss: 0.2054 - accuracy: 0.9236 - val_loss: 0.3503 - val_accuracy: 0.8793\n",
            "Epoch 16/25\n",
            "1407/1407 [==============================] - 6s 4ms/step - loss: 0.2002 - accuracy: 0.9253 - val_loss: 0.3265 - val_accuracy: 0.8899\n",
            "Epoch 17/25\n",
            "1407/1407 [==============================] - 6s 4ms/step - loss: 0.1935 - accuracy: 0.9276 - val_loss: 0.3287 - val_accuracy: 0.8907\n",
            "Epoch 18/25\n",
            "1407/1407 [==============================] - 6s 4ms/step - loss: 0.1863 - accuracy: 0.9284 - val_loss: 0.3331 - val_accuracy: 0.8903\n",
            "Epoch 19/25\n",
            "1407/1407 [==============================] - 5s 4ms/step - loss: 0.1854 - accuracy: 0.9306 - val_loss: 0.3332 - val_accuracy: 0.8919\n",
            "Epoch 20/25\n",
            "1407/1407 [==============================] - 6s 4ms/step - loss: 0.1729 - accuracy: 0.9360 - val_loss: 0.3347 - val_accuracy: 0.8882\n",
            "Epoch 21/25\n",
            "1407/1407 [==============================] - 6s 4ms/step - loss: 0.1737 - accuracy: 0.9353 - val_loss: 0.3341 - val_accuracy: 0.8949\n",
            "Epoch 22/25\n",
            "1407/1407 [==============================] - 6s 4ms/step - loss: 0.1660 - accuracy: 0.9377 - val_loss: 0.3802 - val_accuracy: 0.8808\n",
            "Epoch 23/25\n",
            "1407/1407 [==============================] - 6s 4ms/step - loss: 0.1670 - accuracy: 0.9377 - val_loss: 0.3797 - val_accuracy: 0.8802\n",
            "Epoch 24/25\n",
            "1407/1407 [==============================] - 6s 4ms/step - loss: 0.1622 - accuracy: 0.9394 - val_loss: 0.3614 - val_accuracy: 0.8829\n",
            "Epoch 25/25\n",
            "1407/1407 [==============================] - 6s 4ms/step - loss: 0.1576 - accuracy: 0.9404 - val_loss: 0.3750 - val_accuracy: 0.8877\n"
          ],
          "name": "stdout"
        }
      ]
    },
    {
      "cell_type": "code",
      "metadata": {
        "id": "kt_GiXdNpb7R",
        "colab": {
          "base_uri": "https://localhost:8080/",
          "height": 283
        },
        "outputId": "a93c5ffa-5546-4498-89a7-f37b25863ded"
      },
      "source": [
        "plt.figure(figsize=(12,4))\n",
        "\n",
        "plt.subplot(1,2,1)\n",
        "plt.plot(history.history['loss'], 'b-', label='loss')\n",
        "plt.plot(history.history['val_loss'], 'r--', label='val_loss')\n",
        "plt.xlabel('Epoch')\n",
        "plt.legend()\n",
        "\n",
        "plt.subplot(1,2,2)\n",
        "plt.plot(history.history['accuracy'], 'g-', label='accuracy')\n",
        "plt.plot(history.history['val_accuracy'], 'k--', label='val_loss')\n",
        "plt.xlabel('Epoch')\n",
        "plt.ylim(0.7,1)\n",
        "plt.legend()\n",
        "\n",
        "plt.show()"
      ],
      "execution_count": 21,
      "outputs": [
        {
          "output_type": "display_data",
          "data": {
            "image/png": "[encoded data removed]",
            "text/plain": [
              "<Figure size 864x288 with 2 Axes>"
            ]
          },
          "metadata": {
            "tags": [],
            "needs_background": "light"
          }
        }
      ]
    },
    {
      "cell_type": "code",
      "metadata": {
        "id": "UkyXrjTppxKx",
        "colab": {
          "base_uri": "https://localhost:8080/"
        },
        "outputId": "acc1c595-ffba-4fa5-f835-eaac27f93c0a"
      },
      "source": [
        "model2.evaluate(test_X,test_Y)"
      ],
      "execution_count": 22,
      "outputs": [
        {
          "output_type": "stream",
          "text": [
            "313/313 [==============================] - 1s 3ms/step - loss: 0.4064 - accuracy: 0.8833\n"
          ],
          "name": "stdout"
        },
        {
          "output_type": "execute_result",
          "data": {
            "text/plain": [
              "[0.4063851833343506, 0.8833000063896179]"
            ]
          },
          "metadata": {
            "tags": []
          },
          "execution_count": 22
        }
      ]
    },
    {
      "cell_type": "markdown",
      "metadata": {
        "id": "XNUbDWS_qnfN"
      },
      "source": [
        "## 3. best_MLP"
      ]
    },
    {
      "cell_type": "code",
      "metadata": {
        "id": "KLbl1rbFw_vt"
      },
      "source": [
        "from keras.models import Sequential\n",
        "from keras.layers import Conv2D, MaxPool2D, Flatten, Dense, Dropout\n",
        "from keras.callbacks import ModelCheckpoint, EarlyStopping"
      ],
      "execution_count": 23,
      "outputs": []
    },
    {
      "cell_type": "code",
      "metadata": {
        "id": "7FF_5b3Bu0gj"
      },
      "source": [
        "fashion_mnist = tf.keras.datasets.fashion_mnist\n",
        "(train_X0, train_Y0), (test_X0, test_Y0) = fashion_mnist.load_data()\n",
        "\n",
        "# Reshape\n",
        "train_X = train_X0.reshape(60000,28,28,1)\n",
        "test_X = test_X0.reshape(10000,28,28,1)"
      ],
      "execution_count": 24,
      "outputs": []
    },
    {
      "cell_type": "code",
      "metadata": {
        "id": "1rnMUfr-vl9_"
      },
      "source": [
        "train_X = train_X0 / 255.0\n",
        "test_X = test_X0 / 255.0"
      ],
      "execution_count": 25,
      "outputs": []
    },
    {
      "cell_type": "code",
      "metadata": {
        "id": "uouZQTvkwA1Q"
      },
      "source": [
        "from keras.utils import to_categorical\n",
        "\n",
        "train_Y = to_categorical(train_Y0, 10)\n",
        "test_Y = to_categorical(test_Y0, 10)"
      ],
      "execution_count": 26,
      "outputs": []
    },
    {
      "cell_type": "code",
      "metadata": {
        "id": "NqvoUcyxjSLM"
      },
      "source": [
        "model3 = tf.keras.Sequential([\n",
        "    tf.keras.layers.Flatten(input_shape=(28,28)),\n",
        "    tf.keras.layers.Dense(units=256, activation='relu'),\n",
        "    tf.keras.layers.Dense(units=128, activation='relu'),\n",
        "    tf.keras.layers.Dense(units=100, activation='relu'),\n",
        "    tf.keras.layers.Dense(units=10, activation='softmax')\n",
        "])\n",
        "\n",
        "model3.compile(optimizer=tf.keras.optimizers.Adam(),loss='categorical_crossentropy', metrics=['accuracy'])"
      ],
      "execution_count": 42,
      "outputs": []
    },
    {
      "cell_type": "code",
      "metadata": {
        "id": "PpuMcWaVkLNj",
        "colab": {
          "base_uri": "https://localhost:8080/"
        },
        "outputId": "e4fb58c4-7933-4bca-dfdf-0f6a8740581b"
      },
      "source": [
        "tf.random.set_seed(42)\n",
        "history = model3.fit(train_X, train_Y, epochs=25, batch_size=32,  validation_split=0.25)"
      ],
      "execution_count": 43,
      "outputs": [
        {
          "output_type": "stream",
          "text": [
            "Epoch 1/25\n",
            "1407/1407 [==============================] - 7s 4ms/step - loss: 0.6627 - accuracy: 0.7605 - val_loss: 0.4584 - val_accuracy: 0.8333\n",
            "Epoch 2/25\n",
            "1407/1407 [==============================] - 6s 4ms/step - loss: 0.3852 - accuracy: 0.8607 - val_loss: 0.3718 - val_accuracy: 0.8622\n",
            "Epoch 3/25\n",
            "1407/1407 [==============================] - 6s 4ms/step - loss: 0.3407 - accuracy: 0.8753 - val_loss: 0.3674 - val_accuracy: 0.8644\n",
            "Epoch 4/25\n",
            "1407/1407 [==============================] - 6s 4ms/step - loss: 0.3188 - accuracy: 0.8820 - val_loss: 0.3407 - val_accuracy: 0.8774\n",
            "Epoch 5/25\n",
            "1407/1407 [==============================] - 6s 4ms/step - loss: 0.2884 - accuracy: 0.8914 - val_loss: 0.3312 - val_accuracy: 0.8805\n",
            "Epoch 6/25\n",
            "1407/1407 [==============================] - 6s 4ms/step - loss: 0.2730 - accuracy: 0.8983 - val_loss: 0.3612 - val_accuracy: 0.8720\n",
            "Epoch 7/25\n",
            "1407/1407 [==============================] - 6s 4ms/step - loss: 0.2669 - accuracy: 0.8979 - val_loss: 0.3296 - val_accuracy: 0.8841\n",
            "Epoch 8/25\n",
            "1407/1407 [==============================] - 6s 4ms/step - loss: 0.2532 - accuracy: 0.9051 - val_loss: 0.3111 - val_accuracy: 0.8891\n",
            "Epoch 9/25\n",
            "1407/1407 [==============================] - 6s 4ms/step - loss: 0.2384 - accuracy: 0.9107 - val_loss: 0.3221 - val_accuracy: 0.8892\n",
            "Epoch 10/25\n",
            "1407/1407 [==============================] - 6s 4ms/step - loss: 0.2342 - accuracy: 0.9118 - val_loss: 0.3283 - val_accuracy: 0.8886\n",
            "Epoch 11/25\n",
            "1407/1407 [==============================] - 6s 4ms/step - loss: 0.2286 - accuracy: 0.9130 - val_loss: 0.3315 - val_accuracy: 0.8889\n",
            "Epoch 12/25\n",
            "1407/1407 [==============================] - 6s 4ms/step - loss: 0.2173 - accuracy: 0.9171 - val_loss: 0.3414 - val_accuracy: 0.8849\n",
            "Epoch 13/25\n",
            "1407/1407 [==============================] - 6s 4ms/step - loss: 0.2078 - accuracy: 0.9216 - val_loss: 0.3409 - val_accuracy: 0.8917\n",
            "Epoch 14/25\n",
            "1407/1407 [==============================] - 6s 4ms/step - loss: 0.2058 - accuracy: 0.9241 - val_loss: 0.3868 - val_accuracy: 0.8755\n",
            "Epoch 15/25\n",
            "1407/1407 [==============================] - 6s 4ms/step - loss: 0.1931 - accuracy: 0.9241 - val_loss: 0.3440 - val_accuracy: 0.8871\n",
            "Epoch 16/25\n",
            "1407/1407 [==============================] - 6s 4ms/step - loss: 0.1841 - accuracy: 0.9288 - val_loss: 0.3335 - val_accuracy: 0.8896\n",
            "Epoch 17/25\n",
            "1407/1407 [==============================] - 6s 4ms/step - loss: 0.1806 - accuracy: 0.9284 - val_loss: 0.3430 - val_accuracy: 0.8966\n",
            "Epoch 18/25\n",
            "1407/1407 [==============================] - 6s 4ms/step - loss: 0.1747 - accuracy: 0.9312 - val_loss: 0.3653 - val_accuracy: 0.8912\n",
            "Epoch 19/25\n",
            "1407/1407 [==============================] - 6s 4ms/step - loss: 0.1718 - accuracy: 0.9339 - val_loss: 0.3550 - val_accuracy: 0.8966\n",
            "Epoch 20/25\n",
            "1407/1407 [==============================] - 6s 4ms/step - loss: 0.1597 - accuracy: 0.9374 - val_loss: 0.3568 - val_accuracy: 0.8952\n",
            "Epoch 21/25\n",
            "1407/1407 [==============================] - 6s 4ms/step - loss: 0.1632 - accuracy: 0.9381 - val_loss: 0.3605 - val_accuracy: 0.8950\n",
            "Epoch 22/25\n",
            "1407/1407 [==============================] - 6s 4ms/step - loss: 0.1571 - accuracy: 0.9397 - val_loss: 0.4200 - val_accuracy: 0.8919\n",
            "Epoch 23/25\n",
            "1407/1407 [==============================] - 6s 4ms/step - loss: 0.1602 - accuracy: 0.9372 - val_loss: 0.3859 - val_accuracy: 0.8900\n",
            "Epoch 24/25\n",
            "1407/1407 [==============================] - 6s 4ms/step - loss: 0.1492 - accuracy: 0.9415 - val_loss: 0.3768 - val_accuracy: 0.8925\n",
            "Epoch 25/25\n",
            "1407/1407 [==============================] - 6s 4ms/step - loss: 0.1431 - accuracy: 0.9459 - val_loss: 0.3929 - val_accuracy: 0.8935\n"
          ],
          "name": "stdout"
        }
      ]
    },
    {
      "cell_type": "code",
      "metadata": {
        "id": "JGFui279kTeJ",
        "colab": {
          "base_uri": "https://localhost:8080/",
          "height": 283
        },
        "outputId": "f6c8e94d-a409-44cc-d38d-ecad123ebead"
      },
      "source": [
        "plt.figure(figsize=(12,4))\n",
        "\n",
        "plt.subplot(1,2,1)\n",
        "plt.plot(history.history['loss'], 'b-', label='loss')\n",
        "plt.plot(history.history['val_loss'], 'r--', label='val_loss')\n",
        "plt.xlabel('Epoch')\n",
        "plt.legend()\n",
        "\n",
        "plt.subplot(1,2,2)\n",
        "plt.plot(history.history['accuracy'], 'g-', label='accuracy')\n",
        "plt.plot(history.history['val_accuracy'], 'k--', label='val_loss')\n",
        "plt.xlabel('Epoch')\n",
        "plt.ylim(0.7,1)\n",
        "plt.legend()\n",
        "\n",
        "plt.show()"
      ],
      "execution_count": 44,
      "outputs": [
        {
          "output_type": "display_data",
          "data": {
            "image/png": "[encoded data removed]",
            "text/plain": [
              "<Figure size 864x288 with 2 Axes>"
            ]
          },
          "metadata": {
            "tags": [],
            "needs_background": "light"
          }
        }
      ]
    },
    {
      "cell_type": "code",
      "metadata": {
        "id": "7MkS5nu5x30V",
        "colab": {
          "base_uri": "https://localhost:8080/"
        },
        "outputId": "c8c159d0-5094-4137-d296-3897d15ea1cb"
      },
      "source": [
        "model3.evaluate(test_X,test_Y)"
      ],
      "execution_count": 45,
      "outputs": [
        {
          "output_type": "stream",
          "text": [
            "313/313 [==============================] - 1s 3ms/step - loss: 0.4268 - accuracy: 0.8902\n"
          ],
          "name": "stdout"
        },
        {
          "output_type": "execute_result",
          "data": {
            "text/plain": [
              "[0.42681801319122314, 0.8902000188827515]"
            ]
          },
          "metadata": {
            "tags": []
          },
          "execution_count": 45
        }
      ]
    }
  ]
}