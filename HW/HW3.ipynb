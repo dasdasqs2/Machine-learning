{
  "nbformat": 4,
  "nbformat_minor": 0,
  "metadata": {
    "colab": {
      "name": "HW3.ipynb",
      "provenance": [],
      "collapsed_sections": [],
      "authorship_tag": "ABX9TyOQw33E3NrhyPS4vvYzD0FG",
      "include_colab_link": true
    },
    "kernelspec": {
      "name": "python3",
      "display_name": "Python 3"
    },
    "language_info": {
      "name": "python"
    }
  },
  "cells": [
    {
      "cell_type": "markdown",
      "metadata": {
        "id": "view-in-github",
        "colab_type": "text"
      },
      "source": [
        "<a href=\"https://colab.research.google.com/github/dasdasqs2/Machine-learning/blob/main/HW/HW3.ipynb\" target=\"_parent\"><img src=\"https://colab.research.google.com/assets/colab-badge.svg\" alt=\"Open In Colab\"/></a>"
      ]
    },
    {
      "cell_type": "markdown",
      "metadata": {
        "id": "n1ME-JfkVaqq"
      },
      "source": [
        "# Q1. \n",
        "- 8주차 강의노트에서 wine data를 다루는 예제가 있다. 강의에서 다룬 것처럼 7개의 ‘quality’를\n",
        "3개의 quality로 재분류한다. 그리고 기존의 test data 정확도 (79.3%)보다 더 좋은 결과가 나오게\n",
        "끔 신경망의 모델을 수정하거나 하이퍼파라미터(hyperparameter)를 바꾸는 코드를 작성하라.\n"
      ]
    },
    {
      "cell_type": "code",
      "metadata": {
        "id": "jWLsgeWmRqJb"
      },
      "source": [
        "import numpy as np\n",
        "import pandas as pd\n",
        "import matplotlib.pyplot as plt\n",
        "import tensorflow as tf\n",
        "\n",
        "tf.random.set_seed(42)"
      ],
      "execution_count": 126,
      "outputs": []
    },
    {
      "cell_type": "code",
      "metadata": {
        "id": "7i7Pfeb1V6to"
      },
      "source": [
        "red = pd.read_csv('http://archive.ics.uci.edu/ml/machine-learning-databases/wine-quality/winequality-red.csv', sep=';')\n",
        "white = pd.read_csv('http://archive.ics.uci.edu/ml/machine-learning-databases/wine-quality/winequality-white.csv', sep=';')"
      ],
      "execution_count": 127,
      "outputs": []
    },
    {
      "cell_type": "code",
      "metadata": {
        "id": "0tjyX40qL9Vg",
        "colab": {
          "base_uri": "https://localhost:8080/"
        },
        "outputId": "d989ae69-4d93-4d49-b036-2a130fd3e97a"
      },
      "source": [
        "red['type'] = 0\n",
        "white['type'] = 1\n",
        "# mean의 의미-> red:white = 1:3\n",
        "\n",
        "print(red.head(2))\n",
        "print(white.head(2))\n",
        "\n",
        "wine = pd.concat([red, white]) #(red + white) dataframe\n",
        "print(wine.describe()) #통계적 특징"
      ],
      "execution_count": 128,
      "outputs": [
        {
          "output_type": "stream",
          "text": [
            "   fixed acidity  volatile acidity  citric acid  ...  alcohol  quality  type\n",
            "0            7.4              0.70          0.0  ...      9.4        5     0\n",
            "1            7.8              0.88          0.0  ...      9.8        5     0\n",
            "\n",
            "[2 rows x 13 columns]\n",
            "   fixed acidity  volatile acidity  citric acid  ...  alcohol  quality  type\n",
            "0            7.0              0.27         0.36  ...      8.8        6     1\n",
            "1            6.3              0.30         0.34  ...      9.5        6     1\n",
            "\n",
            "[2 rows x 13 columns]\n",
            "       fixed acidity  volatile acidity  ...      quality         type\n",
            "count    6497.000000       6497.000000  ...  6497.000000  6497.000000\n",
            "mean        7.215307          0.339666  ...     5.818378     0.753886\n",
            "std         1.296434          0.164636  ...     0.873255     0.430779\n",
            "min         3.800000          0.080000  ...     3.000000     0.000000\n",
            "25%         6.400000          0.230000  ...     5.000000     1.000000\n",
            "50%         7.000000          0.290000  ...     6.000000     1.000000\n",
            "75%         7.700000          0.400000  ...     6.000000     1.000000\n",
            "max        15.900000          1.580000  ...     9.000000     1.000000\n",
            "\n",
            "[8 rows x 13 columns]\n"
          ],
          "name": "stdout"
        }
      ]
    },
    {
      "cell_type": "code",
      "metadata": {
        "id": "npmP_eTrILq5",
        "colab": {
          "base_uri": "https://localhost:8080/"
        },
        "outputId": "9555bf61-91d8-4ae0-b053-916fa8043467"
      },
      "source": [
        "print(wine['quality'].describe())\n",
        "print(wine['quality'].value_counts())"
      ],
      "execution_count": 129,
      "outputs": [
        {
          "output_type": "stream",
          "text": [
            "count    6497.000000\n",
            "mean        5.818378\n",
            "std         0.873255\n",
            "min         3.000000\n",
            "25%         5.000000\n",
            "50%         6.000000\n",
            "75%         6.000000\n",
            "max         9.000000\n",
            "Name: quality, dtype: float64\n",
            "6    2836\n",
            "5    2138\n",
            "7    1079\n",
            "4     216\n",
            "8     193\n",
            "3      30\n",
            "9       5\n",
            "Name: quality, dtype: int64\n"
          ],
          "name": "stdout"
        }
      ]
    },
    {
      "cell_type": "code",
      "metadata": {
        "id": "4BFYSsasIeJV",
        "colab": {
          "base_uri": "https://localhost:8080/",
          "height": 265
        },
        "outputId": "094134a4-abdd-4731-dc79-517d412f7108"
      },
      "source": [
        "#imbalanced data\n",
        "plt.hist(wine['quality'], bins=7, rwidth=0.8)\n",
        "plt.show()"
      ],
      "execution_count": 130,
      "outputs": [
        {
          "output_type": "display_data",
          "data": {
            "image/png": "[encoded data removed]",
            "text/plain": [
              "<Figure size 432x288 with 1 Axes>"
            ]
          },
          "metadata": {
            "tags": [],
            "needs_background": "light"
          }
        }
      ]
    },
    {
      "cell_type": "code",
      "metadata": {
        "id": "iUsYaD7jIpeh",
        "colab": {
          "base_uri": "https://localhost:8080/"
        },
        "outputId": "f6d581f4-6c29-4e5f-ca28-a97f3487a6fb"
      },
      "source": [
        "# 7 quality -> 3 quality\n",
        "wine.loc[wine['quality'] <=5, 'new_quality'] = 0\n",
        "wine.loc[wine['quality'] ==6, 'new_quality'] = 1\n",
        "wine.loc[wine['quality'] >=7, 'new_quality'] = 2\n",
        "\n",
        "print(wine['new_quality'].describe())\n",
        "print(wine['new_quality'].value_counts())"
      ],
      "execution_count": 131,
      "outputs": [
        {
          "output_type": "stream",
          "text": [
            "count    6497.000000\n",
            "mean        0.829614\n",
            "std         0.731124\n",
            "min         0.000000\n",
            "25%         0.000000\n",
            "50%         1.000000\n",
            "75%         1.000000\n",
            "max         2.000000\n",
            "Name: new_quality, dtype: float64\n",
            "1.0    2836\n",
            "0.0    2384\n",
            "2.0    1277\n",
            "Name: new_quality, dtype: int64\n"
          ],
          "name": "stdout"
        }
      ]
    },
    {
      "cell_type": "code",
      "metadata": {
        "id": "phEGGSG4JIft"
      },
      "source": [
        "# data regularization & split test data\n",
        "del wine['quality']\n",
        "wine_norm = (wine - wine.min()) / (wine.max() - wine.min())\n",
        "wine_shuffle = wine_norm.sample(frac=1)\n",
        "wine_np = wine_shuffle.to_numpy()\n",
        "\n",
        "train_idx = int(len(wine_np) * 0.8)\n",
        "train_X, train_Y = wine_np[:train_idx, :-1], wine_np[:train_idx, -1]\n",
        "test_X, test_Y = wine_np[train_idx:, :-1], wine_np[train_idx:, -1]\n",
        "train_Y = tf.keras.utils.to_categorical(train_Y, num_classes=3)\n",
        "test_Y = tf.keras.utils.to_categorical(test_Y, num_classes=3)"
      ],
      "execution_count": 132,
      "outputs": []
    },
    {
      "cell_type": "code",
      "metadata": {
        "id": "Z9irffgmK98M",
        "colab": {
          "base_uri": "https://localhost:8080/"
        },
        "outputId": "f7bccf67-aa52-4399-a482-06854ed6a1ab"
      },
      "source": [
        "tf.random.set_seed(42)\n",
        "model = tf.keras.Sequential([\n",
        "                             tf.keras.layers.Dense(units=72, activation='relu', input_shape=(12,)),\n",
        "                             tf.keras.layers.Dense(units=48, activation='relu'),\n",
        "                             tf.keras.layers.Dense(units=24, activation='relu'),\n",
        "                             tf.keras.layers.Dense(units=3, activation='softmax')\n",
        "])\n",
        "\n",
        "model.compile(optimizer=tf.keras.optimizers.Adam(lr=0.05),loss='categorical_crossentropy', metrics=['accuracy'])\n",
        "\n",
        "history = model.fit(train_X, train_Y, epochs=25, batch_size=32, validation_split=0.25)"
      ],
      "execution_count": 133,
      "outputs": [
        {
          "output_type": "stream",
          "text": [
            "Epoch 1/25\n",
            "122/122 [==============================] - 1s 3ms/step - loss: 0.5747 - accuracy: 0.7570 - val_loss: 0.4447 - val_accuracy: 0.8038\n",
            "Epoch 2/25\n",
            "122/122 [==============================] - 0s 2ms/step - loss: 0.4251 - accuracy: 0.7999 - val_loss: 0.4378 - val_accuracy: 0.8154\n",
            "Epoch 3/25\n",
            "122/122 [==============================] - 0s 2ms/step - loss: 0.4200 - accuracy: 0.7920 - val_loss: 0.4129 - val_accuracy: 0.8169\n",
            "Epoch 4/25\n",
            "122/122 [==============================] - 0s 2ms/step - loss: 0.3922 - accuracy: 0.8272 - val_loss: 0.4750 - val_accuracy: 0.8131\n",
            "Epoch 5/25\n",
            "122/122 [==============================] - 0s 2ms/step - loss: 0.4109 - accuracy: 0.8076 - val_loss: 0.4006 - val_accuracy: 0.8038\n",
            "Epoch 6/25\n",
            "122/122 [==============================] - 0s 2ms/step - loss: 0.3966 - accuracy: 0.8140 - val_loss: 0.4018 - val_accuracy: 0.8185\n",
            "Epoch 7/25\n",
            "122/122 [==============================] - 0s 2ms/step - loss: 0.4240 - accuracy: 0.8050 - val_loss: 0.4099 - val_accuracy: 0.8100\n",
            "Epoch 8/25\n",
            "122/122 [==============================] - 0s 2ms/step - loss: 0.4121 - accuracy: 0.8148 - val_loss: 0.4112 - val_accuracy: 0.8131\n",
            "Epoch 9/25\n",
            "122/122 [==============================] - 0s 2ms/step - loss: 0.4014 - accuracy: 0.8129 - val_loss: 0.4075 - val_accuracy: 0.8038\n",
            "Epoch 10/25\n",
            "122/122 [==============================] - 0s 2ms/step - loss: 0.4041 - accuracy: 0.8152 - val_loss: 0.4408 - val_accuracy: 0.7769\n",
            "Epoch 11/25\n",
            "122/122 [==============================] - 0s 2ms/step - loss: 0.4010 - accuracy: 0.8146 - val_loss: 0.4038 - val_accuracy: 0.8231\n",
            "Epoch 12/25\n",
            "122/122 [==============================] - 0s 2ms/step - loss: 0.4069 - accuracy: 0.8167 - val_loss: 0.4126 - val_accuracy: 0.8177\n",
            "Epoch 13/25\n",
            "122/122 [==============================] - 0s 2ms/step - loss: 0.4214 - accuracy: 0.8157 - val_loss: 0.4057 - val_accuracy: 0.8246\n",
            "Epoch 14/25\n",
            "122/122 [==============================] - 0s 2ms/step - loss: 0.3826 - accuracy: 0.8289 - val_loss: 0.4099 - val_accuracy: 0.8177\n",
            "Epoch 15/25\n",
            "122/122 [==============================] - 0s 2ms/step - loss: 0.4263 - accuracy: 0.8004 - val_loss: 0.4278 - val_accuracy: 0.8177\n",
            "Epoch 16/25\n",
            "122/122 [==============================] - 0s 2ms/step - loss: 0.3899 - accuracy: 0.8241 - val_loss: 0.3991 - val_accuracy: 0.8085\n",
            "Epoch 17/25\n",
            "122/122 [==============================] - 0s 2ms/step - loss: 0.3989 - accuracy: 0.8100 - val_loss: 0.4000 - val_accuracy: 0.8262\n",
            "Epoch 18/25\n",
            "122/122 [==============================] - 0s 2ms/step - loss: 0.3791 - accuracy: 0.8297 - val_loss: 0.4016 - val_accuracy: 0.8177\n",
            "Epoch 19/25\n",
            "122/122 [==============================] - 0s 2ms/step - loss: 0.4083 - accuracy: 0.8180 - val_loss: 0.4179 - val_accuracy: 0.8285\n",
            "Epoch 20/25\n",
            "122/122 [==============================] - 0s 2ms/step - loss: 0.4106 - accuracy: 0.8096 - val_loss: 0.3958 - val_accuracy: 0.8215\n",
            "Epoch 21/25\n",
            "122/122 [==============================] - 0s 2ms/step - loss: 0.3907 - accuracy: 0.8220 - val_loss: 0.3938 - val_accuracy: 0.8231\n",
            "Epoch 22/25\n",
            "122/122 [==============================] - 0s 2ms/step - loss: 0.3932 - accuracy: 0.8238 - val_loss: 0.4034 - val_accuracy: 0.8254\n",
            "Epoch 23/25\n",
            "122/122 [==============================] - 0s 2ms/step - loss: 0.3897 - accuracy: 0.8306 - val_loss: 0.3986 - val_accuracy: 0.8262\n",
            "Epoch 24/25\n",
            "122/122 [==============================] - 0s 2ms/step - loss: 0.3957 - accuracy: 0.8208 - val_loss: 0.3912 - val_accuracy: 0.8323\n",
            "Epoch 25/25\n",
            "122/122 [==============================] - 0s 2ms/step - loss: 0.3880 - accuracy: 0.8246 - val_loss: 0.3912 - val_accuracy: 0.8338\n"
          ],
          "name": "stdout"
        }
      ]
    },
    {
      "cell_type": "code",
      "metadata": {
        "id": "OftV_orcl_ve",
        "colab": {
          "base_uri": "https://localhost:8080/",
          "height": 250
        },
        "outputId": "30078db8-6ed4-45a5-d886-2c7dd90e45c6"
      },
      "source": [
        "plt.figure(figsize=(12,4))\n",
        "\n",
        "plt.subplot(1,2,1)\n",
        "plt.plot(history.history['loss'], 'b-', label='loss')\n",
        "plt.plot(history.history['val_loss'], 'r--', label='val_loss')\n",
        "plt.xlabel('Epoch')\n",
        "plt.legend()\n",
        "\n",
        "plt.subplot(1,2,2)\n",
        "plt.plot(history.history['accuracy'], 'g-', label='accuracy')\n",
        "plt.plot(history.history['val_accuracy'], 'k--', label='val_loss')\n",
        "plt.xlabel('Epoch')\n",
        "plt.ylim(0.7,1)\n",
        "plt.legend()\n",
        "\n",
        "plt.show()"
      ],
      "execution_count": 134,
      "outputs": [
        {
          "output_type": "display_data",
          "data": {
            "image/png": "[encoded data removed]",
            "text/plain": [
              "<Figure size 864x288 with 2 Axes>"
            ]
          },
          "metadata": {
            "tags": [],
            "needs_background": "light"
          }
        }
      ]
    },
    {
      "cell_type": "code",
      "metadata": {
        "id": "nFj7cuKENbU3",
        "colab": {
          "base_uri": "https://localhost:8080/"
        },
        "outputId": "79354e1f-25e3-4348-eb8e-354519f4a429"
      },
      "source": [
        "model.evaluate(test_X, test_Y)"
      ],
      "execution_count": 135,
      "outputs": [
        {
          "output_type": "stream",
          "text": [
            "41/41 [==============================] - 0s 1ms/step - loss: 0.3944 - accuracy: 0.8177\n"
          ],
          "name": "stdout"
        },
        {
          "output_type": "execute_result",
          "data": {
            "text/plain": [
              "[0.39441782236099243, 0.8176922798156738]"
            ]
          },
          "metadata": {
            "tags": []
          },
          "execution_count": 135
        }
      ]
    },
    {
      "cell_type": "markdown",
      "metadata": {
        "id": "Kp3XbpB7f6qG"
      },
      "source": [
        "# Q2. 8주차 강의노트에서 Fashion MNIST 데이터를 다루는 예제가 있다.\n",
        "1. Fashion MNIST 데이터를 logistic regression 을 이용하여 학습한 뒤, test data를 적용하여\n",
        "결과를 얻는다\n",
        "2. Fashion MNIST 데이터를 수업 중 다룬 MLP로 학습한 뒤, test data를 적용하여 결과를 얻\n",
        "는다\n",
        "3. Fashion MNIST 데이터를 MLP로 학습하되, 위에서 학습한 결과보다 더 validation 결과를\n",
        "얻을 수 있도록 모델을 바꾼 뒤, test data를 적용하여 결과를 얻는다\n",
        "단, 위의 3문제에서 학습할 때, validation data 비율은 학습데이터의 25%로 둔다."
      ]
    },
    {
      "cell_type": "markdown",
      "metadata": {
        "id": "E3WnCupslOwQ"
      },
      "source": [
        "## 1. Logistic regression"
      ]
    },
    {
      "cell_type": "code",
      "metadata": {
        "id": "TxGlRVw2qt0L"
      },
      "source": [
        "from sklearn import datasets\n",
        "from sklearn import model_selection\n",
        "from sklearn.linear_model import LogisticRegression\n",
        "from sklearn import metrics\n",
        "\n",
        "dataset = datasets.load_digits()\n",
        "x_data = dataset.data\n",
        "y_data = dataset.target"
      ],
      "execution_count": 136,
      "outputs": []
    },
    {
      "cell_type": "code",
      "metadata": {
        "colab": {
          "base_uri": "https://localhost:8080/"
        },
        "id": "PoP-QK9ss7aW",
        "outputId": "9a7b139a-a852-4c08-c876-97d1746ac02b"
      },
      "source": [
        "print(x_data)\n",
        "print(y_data) "
      ],
      "execution_count": 137,
      "outputs": [
        {
          "output_type": "stream",
          "text": [
            "[[ 0.  0.  5. ...  0.  0.  0.]\n",
            " [ 0.  0.  0. ... 10.  0.  0.]\n",
            " [ 0.  0.  0. ... 16.  9.  0.]\n",
            " ...\n",
            " [ 0.  0.  1. ...  6.  0.  0.]\n",
            " [ 0.  0.  2. ... 12.  0.  0.]\n",
            " [ 0.  0. 10. ... 12.  1.  0.]]\n",
            "[0 1 2 ... 8 9 8]\n"
          ],
          "name": "stdout"
        }
      ]
    },
    {
      "cell_type": "code",
      "metadata": {
        "id": "sV1wPG_otGG5"
      },
      "source": [
        "train_X, test_X, train_Y, test_Y = model_selection.train_test_split(x_data, y_data, test_size=0.25)"
      ],
      "execution_count": 138,
      "outputs": []
    },
    {
      "cell_type": "code",
      "metadata": {
        "colab": {
          "base_uri": "https://localhost:8080/"
        },
        "id": "97DcQvY5tTh-",
        "outputId": "0b9e7837-21fa-4df8-aac7-69e36a6d6d35"
      },
      "source": [
        "tf.random.set_seed(42)\n",
        "model1 = LogisticRegression(max_iter=100, tol=0.0001, penalty='l2', C=1.0)\n",
        "\n",
        "model1.fit(train_X, train_Y)"
      ],
      "execution_count": 139,
      "outputs": [
        {
          "output_type": "stream",
          "text": [
            "/usr/local/lib/python3.7/dist-packages/sklearn/linear_model/_logistic.py:940: ConvergenceWarning: lbfgs failed to converge (status=1):\n",
            "STOP: TOTAL NO. of ITERATIONS REACHED LIMIT.\n",
            "\n",
            "Increase the number of iterations (max_iter) or scale the data as shown in:\n",
            "    https://scikit-learn.org/stable/modules/preprocessing.html\n",
            "Please also refer to the documentation for alternative solver options:\n",
            "    https://scikit-learn.org/stable/modules/linear_model.html#logistic-regression\n",
            "  extra_warning_msg=_LOGISTIC_SOLVER_CONVERGENCE_MSG)\n"
          ],
          "name": "stderr"
        },
        {
          "output_type": "execute_result",
          "data": {
            "text/plain": [
              "LogisticRegression(C=1.0, class_weight=None, dual=False, fit_intercept=True,\n",
              "                   intercept_scaling=1, l1_ratio=None, max_iter=100,\n",
              "                   multi_class='auto', n_jobs=None, penalty='l2',\n",
              "                   random_state=None, solver='lbfgs', tol=0.0001, verbose=0,\n",
              "                   warm_start=False)"
            ]
          },
          "metadata": {
            "tags": []
          },
          "execution_count": 139
        }
      ]
    },
    {
      "cell_type": "code",
      "metadata": {
        "colab": {
          "base_uri": "https://localhost:8080/"
        },
        "id": "hK88DJ01tod6",
        "outputId": "e38a5e2e-34f4-4038-8a81-7fb0a442b256"
      },
      "source": [
        "y_predict = model1.predict(test_X) \n",
        "score = metrics.accuracy_score(test_Y, y_predict)\n",
        "print(score)"
      ],
      "execution_count": 140,
      "outputs": [
        {
          "output_type": "stream",
          "text": [
            "0.96\n"
          ],
          "name": "stdout"
        }
      ]
    },
    {
      "cell_type": "markdown",
      "metadata": {
        "id": "7S-GYsafmKUb"
      },
      "source": [
        "## 2. MLP"
      ]
    },
    {
      "cell_type": "code",
      "metadata": {
        "colab": {
          "base_uri": "https://localhost:8080/"
        },
        "id": "k_thuoNEsCUN",
        "outputId": "960847f0-857e-49d9-c167-5004fb83f7bb"
      },
      "source": [
        "from tensorflow import keras\n",
        "\n",
        "fashion_mnist = keras.datasets.fashion_mnist\n",
        "(train_X0, train_Y0), (test_X0, test_Y0) = fashion_mnist.load_data()\n",
        "\n",
        "print(len(train_X0), len(test_X0))"
      ],
      "execution_count": 159,
      "outputs": [
        {
          "output_type": "stream",
          "text": [
            "60000 10000\n"
          ],
          "name": "stdout"
        }
      ]
    },
    {
      "cell_type": "code",
      "metadata": {
        "id": "vl1dy-S4sEmZ"
      },
      "source": [
        "train_X = train_X0 / 255.0\n",
        "test_X = test_X0 / 255.0"
      ],
      "execution_count": 173,
      "outputs": []
    },
    {
      "cell_type": "code",
      "metadata": {
        "id": "l539XG5VABE-"
      },
      "source": [
        "from keras.utils import to_categorical\n",
        "\n",
        "train_Y = to_categorical(train_Y0, 10)\n",
        "test_Y = to_categorical(test_Y0, 10)"
      ],
      "execution_count": 174,
      "outputs": []
    },
    {
      "cell_type": "code",
      "metadata": {
        "id": "E7VyT4L2lSzp"
      },
      "source": [
        "model2 = tf.keras.Sequential([\n",
        "    tf.keras.layers.Flatten(input_shape=(28,28)),\n",
        "    tf.keras.layers.Dense(units=128, activation='relu'),\n",
        "    tf.keras.layers.Dense(units=10, activation='softmax')\n",
        "])\n",
        "\n",
        "model2.compile(optimizer=tf.keras.optimizers.Adam(),loss='categorical_crossentropy', metrics=['accuracy'])"
      ],
      "execution_count": 175,
      "outputs": []
    },
    {
      "cell_type": "code",
      "metadata": {
        "colab": {
          "base_uri": "https://localhost:8080/"
        },
        "id": "TWbM6qxGmu2Y",
        "outputId": "06d61580-8855-4f2b-97c1-c1677cb2cbc7"
      },
      "source": [
        "tf.random.set_seed(42)\n",
        "history = model2.fit(train_X, train_Y, epochs=25, validation_split=0.25)"
      ],
      "execution_count": 176,
      "outputs": [
        {
          "output_type": "stream",
          "text": [
            "Epoch 1/25\n",
            "1407/1407 [==============================] - 4s 2ms/step - loss: 0.6608 - accuracy: 0.7713 - val_loss: 0.5108 - val_accuracy: 0.8123\n",
            "Epoch 2/25\n",
            "1407/1407 [==============================] - 3s 2ms/step - loss: 0.3989 - accuracy: 0.8585 - val_loss: 0.3777 - val_accuracy: 0.8655\n",
            "Epoch 3/25\n",
            "1407/1407 [==============================] - 3s 2ms/step - loss: 0.3531 - accuracy: 0.8719 - val_loss: 0.3749 - val_accuracy: 0.8683\n",
            "Epoch 4/25\n",
            "1407/1407 [==============================] - 3s 2ms/step - loss: 0.3289 - accuracy: 0.8805 - val_loss: 0.3443 - val_accuracy: 0.8742\n",
            "Epoch 5/25\n",
            "1407/1407 [==============================] - 3s 2ms/step - loss: 0.2989 - accuracy: 0.8898 - val_loss: 0.3301 - val_accuracy: 0.8833\n",
            "Epoch 6/25\n",
            "1407/1407 [==============================] - 3s 2ms/step - loss: 0.2823 - accuracy: 0.8951 - val_loss: 0.3527 - val_accuracy: 0.8774\n",
            "Epoch 7/25\n",
            "1407/1407 [==============================] - 3s 2ms/step - loss: 0.2754 - accuracy: 0.8978 - val_loss: 0.3249 - val_accuracy: 0.8845\n",
            "Epoch 8/25\n",
            "1407/1407 [==============================] - 3s 2ms/step - loss: 0.2601 - accuracy: 0.9031 - val_loss: 0.3377 - val_accuracy: 0.8777\n",
            "Epoch 9/25\n",
            "1407/1407 [==============================] - 3s 2ms/step - loss: 0.2495 - accuracy: 0.9046 - val_loss: 0.3299 - val_accuracy: 0.8831\n",
            "Epoch 10/25\n",
            "1407/1407 [==============================] - 3s 2ms/step - loss: 0.2434 - accuracy: 0.9090 - val_loss: 0.3327 - val_accuracy: 0.8790\n",
            "Epoch 11/25\n",
            "1407/1407 [==============================] - 3s 2ms/step - loss: 0.2373 - accuracy: 0.9107 - val_loss: 0.3169 - val_accuracy: 0.8907\n",
            "Epoch 12/25\n",
            "1407/1407 [==============================] - 3s 2ms/step - loss: 0.2245 - accuracy: 0.9147 - val_loss: 0.3236 - val_accuracy: 0.8887\n",
            "Epoch 13/25\n",
            "1407/1407 [==============================] - 3s 2ms/step - loss: 0.2133 - accuracy: 0.9205 - val_loss: 0.3210 - val_accuracy: 0.8889\n",
            "Epoch 14/25\n",
            "1407/1407 [==============================] - 3s 2ms/step - loss: 0.2146 - accuracy: 0.9196 - val_loss: 0.3324 - val_accuracy: 0.8815\n",
            "Epoch 15/25\n",
            "1407/1407 [==============================] - 3s 2ms/step - loss: 0.2049 - accuracy: 0.9235 - val_loss: 0.3480 - val_accuracy: 0.8800\n",
            "Epoch 16/25\n",
            "1407/1407 [==============================] - 3s 2ms/step - loss: 0.2015 - accuracy: 0.9236 - val_loss: 0.3367 - val_accuracy: 0.8902\n",
            "Epoch 17/25\n",
            "1407/1407 [==============================] - 3s 2ms/step - loss: 0.1923 - accuracy: 0.9289 - val_loss: 0.3143 - val_accuracy: 0.8947\n",
            "Epoch 18/25\n",
            "1407/1407 [==============================] - 3s 2ms/step - loss: 0.1819 - accuracy: 0.9316 - val_loss: 0.3473 - val_accuracy: 0.8901\n",
            "Epoch 19/25\n",
            "1407/1407 [==============================] - 3s 2ms/step - loss: 0.1856 - accuracy: 0.9307 - val_loss: 0.3287 - val_accuracy: 0.8933\n",
            "Epoch 20/25\n",
            "1407/1407 [==============================] - 3s 2ms/step - loss: 0.1719 - accuracy: 0.9366 - val_loss: 0.3521 - val_accuracy: 0.8882\n",
            "Epoch 21/25\n",
            "1407/1407 [==============================] - 3s 2ms/step - loss: 0.1731 - accuracy: 0.9349 - val_loss: 0.3515 - val_accuracy: 0.8909\n",
            "Epoch 22/25\n",
            "1407/1407 [==============================] - 3s 2ms/step - loss: 0.1649 - accuracy: 0.9379 - val_loss: 0.3532 - val_accuracy: 0.8901\n",
            "Epoch 23/25\n",
            "1407/1407 [==============================] - 3s 2ms/step - loss: 0.1657 - accuracy: 0.9372 - val_loss: 0.3629 - val_accuracy: 0.8837\n",
            "Epoch 24/25\n",
            "1407/1407 [==============================] - 3s 2ms/step - loss: 0.1582 - accuracy: 0.9413 - val_loss: 0.3613 - val_accuracy: 0.8823\n",
            "Epoch 25/25\n",
            "1407/1407 [==============================] - 3s 2ms/step - loss: 0.1517 - accuracy: 0.9439 - val_loss: 0.3673 - val_accuracy: 0.8915\n"
          ],
          "name": "stdout"
        }
      ]
    },
    {
      "cell_type": "code",
      "metadata": {
        "id": "kt_GiXdNpb7R",
        "colab": {
          "base_uri": "https://localhost:8080/",
          "height": 250
        },
        "outputId": "cceff3d8-101e-42a2-d8ef-252b3eceff0e"
      },
      "source": [
        "plt.figure(figsize=(12,4))\n",
        "\n",
        "plt.subplot(1,2,1)\n",
        "plt.plot(history.history['loss'], 'b-', label='loss')\n",
        "plt.plot(history.history['val_loss'], 'r--', label='val_loss')\n",
        "plt.xlabel('Epoch')\n",
        "plt.legend()\n",
        "\n",
        "plt.subplot(1,2,2)\n",
        "plt.plot(history.history['accuracy'], 'g-', label='accuracy')\n",
        "plt.plot(history.history['val_accuracy'], 'k--', label='val_loss')\n",
        "plt.xlabel('Epoch')\n",
        "plt.ylim(0.7,1)\n",
        "plt.legend()\n",
        "\n",
        "plt.show()"
      ],
      "execution_count": 177,
      "outputs": [
        {
          "output_type": "display_data",
          "data": {
            "image/png": "[encoded data removed]",
            "text/plain": [
              "<Figure size 864x288 with 2 Axes>"
            ]
          },
          "metadata": {
            "tags": [],
            "needs_background": "light"
          }
        }
      ]
    },
    {
      "cell_type": "code",
      "metadata": {
        "id": "UkyXrjTppxKx",
        "colab": {
          "base_uri": "https://localhost:8080/"
        },
        "outputId": "4493bd17-62f0-4c38-d5e5-5924e7901f87"
      },
      "source": [
        "model2.evaluate(test_X,test_Y)"
      ],
      "execution_count": 178,
      "outputs": [
        {
          "output_type": "stream",
          "text": [
            "313/313 [==============================] - 0s 1ms/step - loss: 0.4082 - accuracy: 0.8845\n"
          ],
          "name": "stdout"
        },
        {
          "output_type": "execute_result",
          "data": {
            "text/plain": [
              "[0.40815603733062744, 0.8845000267028809]"
            ]
          },
          "metadata": {
            "tags": []
          },
          "execution_count": 178
        }
      ]
    },
    {
      "cell_type": "markdown",
      "metadata": {
        "id": "XNUbDWS_qnfN"
      },
      "source": [
        "## 3. best_MLP"
      ]
    },
    {
      "cell_type": "code",
      "metadata": {
        "id": "KLbl1rbFw_vt"
      },
      "source": [
        "from keras.models import Sequential\n",
        "from keras.layers import Conv2D, MaxPool2D, Flatten, Dense, Dropout\n",
        "from keras.callbacks import ModelCheckpoint, EarlyStopping"
      ],
      "execution_count": 179,
      "outputs": []
    },
    {
      "cell_type": "code",
      "metadata": {
        "id": "7FF_5b3Bu0gj"
      },
      "source": [
        "fashion_mnist = tf.keras.datasets.fashion_mnist\n",
        "(train_X0, train_Y0), (test_X0, test_Y0) = fashion_mnist.load_data()\n",
        "\n",
        "# Reshape\n",
        "train_X = train_X0.reshape(60000,28,28,1)\n",
        "test_X = test_X0.reshape(10000,28,28,1)"
      ],
      "execution_count": 180,
      "outputs": []
    },
    {
      "cell_type": "code",
      "metadata": {
        "id": "1rnMUfr-vl9_"
      },
      "source": [
        "train_X = train_X0 / 255.0\n",
        "test_X = test_X0 / 255.0"
      ],
      "execution_count": 181,
      "outputs": []
    },
    {
      "cell_type": "code",
      "metadata": {
        "id": "uouZQTvkwA1Q"
      },
      "source": [
        "from keras.utils import to_categorical\n",
        "\n",
        "train_Y = to_categorical(train_Y0, 10)\n",
        "test_Y = to_categorical(test_Y0, 10)"
      ],
      "execution_count": 182,
      "outputs": []
    },
    {
      "cell_type": "code",
      "metadata": {
        "id": "NqvoUcyxjSLM"
      },
      "source": [
        "model3 = tf.keras.Sequential([\n",
        "      tf.keras.layers.Flatten(input_shape=(28,28)),\n",
        "      tf.keras.layers.Dense(256, activation='tanh', kernel_initializer = 'he_normal' ,input_shape=(28*28,)),\n",
        "      tf.keras.layers.Dropout(0.4),\n",
        "      tf.keras.layers.Dense(128, activation='tanh',kernel_initializer = 'he_normal'),\n",
        "      tf.keras.layers.Dropout(0.4),\n",
        "      tf.keras.layers.Dense(100, activation='tanh',kernel_initializer = 'he_normal'),\n",
        "      tf.keras.layers.Dropout(0.4),\n",
        "      tf.keras.layers.Dense(10, activation='sigmoid',kernel_initializer = 'he_normal')\n",
        "      ])\n",
        "\n",
        "optim = keras.optimizers.SGD(lr=0.01, momentum=0.975, decay=2e-06, nesterov=True)\n",
        "model3.compile(optimizer=optim,loss='categorical_crossentropy', metrics=['accuracy'])"
      ],
      "execution_count": 183,
      "outputs": []
    },
    {
      "cell_type": "code",
      "metadata": {
        "id": "PpuMcWaVkLNj",
        "colab": {
          "base_uri": "https://localhost:8080/",
          "height": 1000
        },
        "outputId": "4a7223a6-d55e-411a-956d-f2be1f98164e"
      },
      "source": [
        "tf.random.set_seed(42)\n",
        "history = model3.fit(train_X, train_Y, epochs=100, batch_size=32,  validation_split=0.25)"
      ],
      "execution_count": 187,
      "outputs": [
        {
          "output_type": "stream",
          "text": [
            "Epoch 1/100\n",
            "1407/1407 [==============================] - 5s 4ms/step - loss: 0.6795 - accuracy: 0.7806 - val_loss: 0.5315 - val_accuracy: 0.8281\n",
            "Epoch 2/100\n",
            "1407/1407 [==============================] - 5s 4ms/step - loss: 0.6791 - accuracy: 0.7802 - val_loss: 0.5436 - val_accuracy: 0.8239\n",
            "Epoch 3/100\n",
            "1407/1407 [==============================] - 5s 4ms/step - loss: 0.6800 - accuracy: 0.7797 - val_loss: 0.5074 - val_accuracy: 0.8309\n",
            "Epoch 4/100\n",
            "1407/1407 [==============================] - 5s 4ms/step - loss: 0.6674 - accuracy: 0.7849 - val_loss: 0.5146 - val_accuracy: 0.8326\n",
            "Epoch 5/100\n",
            "1407/1407 [==============================] - 5s 4ms/step - loss: 0.6686 - accuracy: 0.7844 - val_loss: 0.5226 - val_accuracy: 0.8301\n",
            "Epoch 6/100\n",
            "1407/1407 [==============================] - 5s 4ms/step - loss: 0.6605 - accuracy: 0.7869 - val_loss: 0.5200 - val_accuracy: 0.8358\n",
            "Epoch 7/100\n",
            "1407/1407 [==============================] - 5s 4ms/step - loss: 0.6513 - accuracy: 0.7906 - val_loss: 0.5048 - val_accuracy: 0.8379\n",
            "Epoch 8/100\n",
            "1407/1407 [==============================] - 5s 4ms/step - loss: 0.6611 - accuracy: 0.7880 - val_loss: 0.4826 - val_accuracy: 0.8441\n",
            "Epoch 9/100\n",
            "1407/1407 [==============================] - 5s 4ms/step - loss: 0.6639 - accuracy: 0.7862 - val_loss: 0.5126 - val_accuracy: 0.8371\n",
            "Epoch 10/100\n",
            "1407/1407 [==============================] - 5s 4ms/step - loss: 0.6825 - accuracy: 0.7792 - val_loss: 0.5079 - val_accuracy: 0.8320\n",
            "Epoch 11/100\n",
            "1407/1407 [==============================] - 6s 4ms/step - loss: 0.6727 - accuracy: 0.7816 - val_loss: 0.5135 - val_accuracy: 0.8412\n",
            "Epoch 12/100\n",
            "1407/1407 [==============================] - 6s 4ms/step - loss: 0.6630 - accuracy: 0.7833 - val_loss: 0.5271 - val_accuracy: 0.8353\n",
            "Epoch 13/100\n",
            "1407/1407 [==============================] - 5s 4ms/step - loss: 0.6547 - accuracy: 0.7883 - val_loss: 0.4933 - val_accuracy: 0.8401\n",
            "Epoch 14/100\n",
            "1407/1407 [==============================] - 5s 4ms/step - loss: 0.6544 - accuracy: 0.7871 - val_loss: 0.5146 - val_accuracy: 0.8408\n",
            "Epoch 15/100\n",
            "1407/1407 [==============================] - 5s 4ms/step - loss: 0.6454 - accuracy: 0.7924 - val_loss: 0.5020 - val_accuracy: 0.8377\n",
            "Epoch 16/100\n",
            "1407/1407 [==============================] - 5s 4ms/step - loss: 0.6494 - accuracy: 0.7879 - val_loss: 0.5255 - val_accuracy: 0.8317\n",
            "Epoch 17/100\n",
            "1407/1407 [==============================] - 5s 4ms/step - loss: 0.6488 - accuracy: 0.7902 - val_loss: 0.5087 - val_accuracy: 0.8341\n",
            "Epoch 18/100\n",
            "1407/1407 [==============================] - 5s 4ms/step - loss: 0.6318 - accuracy: 0.7996 - val_loss: 0.5038 - val_accuracy: 0.8375\n",
            "Epoch 19/100\n",
            "1407/1407 [==============================] - 5s 4ms/step - loss: 0.6402 - accuracy: 0.7957 - val_loss: 0.5127 - val_accuracy: 0.8437\n",
            "Epoch 20/100\n",
            "1407/1407 [==============================] - 5s 4ms/step - loss: 0.6404 - accuracy: 0.7948 - val_loss: 0.4983 - val_accuracy: 0.8343\n",
            "Epoch 21/100\n",
            "1407/1407 [==============================] - 5s 4ms/step - loss: 0.6443 - accuracy: 0.7894 - val_loss: 0.5223 - val_accuracy: 0.8411\n",
            "Epoch 22/100\n",
            "1407/1407 [==============================] - 5s 4ms/step - loss: 0.6428 - accuracy: 0.7929 - val_loss: 0.4796 - val_accuracy: 0.8469\n",
            "Epoch 23/100\n",
            "1407/1407 [==============================] - 5s 4ms/step - loss: 0.6419 - accuracy: 0.7922 - val_loss: 0.4962 - val_accuracy: 0.8298\n",
            "Epoch 24/100\n",
            "1407/1407 [==============================] - 5s 4ms/step - loss: 0.6475 - accuracy: 0.7905 - val_loss: 0.5159 - val_accuracy: 0.8362\n",
            "Epoch 25/100\n",
            "1407/1407 [==============================] - 5s 4ms/step - loss: 0.6320 - accuracy: 0.7950 - val_loss: 0.5037 - val_accuracy: 0.8380\n",
            "Epoch 26/100\n",
            "1407/1407 [==============================] - 5s 4ms/step - loss: 0.6383 - accuracy: 0.7932 - val_loss: 0.4927 - val_accuracy: 0.8451\n",
            "Epoch 27/100\n",
            "1407/1407 [==============================] - 5s 4ms/step - loss: 0.6433 - accuracy: 0.7937 - val_loss: 0.5130 - val_accuracy: 0.8403\n",
            "Epoch 28/100\n",
            "1407/1407 [==============================] - 5s 4ms/step - loss: 0.6201 - accuracy: 0.7986 - val_loss: 0.5090 - val_accuracy: 0.8430\n",
            "Epoch 29/100\n",
            "1407/1407 [==============================] - 5s 4ms/step - loss: 0.6405 - accuracy: 0.7885 - val_loss: 0.4910 - val_accuracy: 0.8407\n",
            "Epoch 30/100\n",
            "1407/1407 [==============================] - 5s 4ms/step - loss: 0.6351 - accuracy: 0.7936 - val_loss: 0.5114 - val_accuracy: 0.8324\n",
            "Epoch 31/100\n",
            "1407/1407 [==============================] - 5s 4ms/step - loss: 0.6178 - accuracy: 0.8014 - val_loss: 0.5150 - val_accuracy: 0.8394\n",
            "Epoch 32/100\n",
            "1407/1407 [==============================] - 5s 4ms/step - loss: 0.6285 - accuracy: 0.7969 - val_loss: 0.5196 - val_accuracy: 0.8237\n",
            "Epoch 33/100\n",
            "  85/1407 [>.............................] - ETA: 4s - loss: 0.6497 - accuracy: 0.7945"
          ],
          "name": "stdout"
        },
        {
          "output_type": "error",
          "ename": "KeyboardInterrupt",
          "evalue": "ignored",
          "traceback": [
            "\u001b[0;31m---------------------------------------------------------------------------\u001b[0m",
            "\u001b[0;31mKeyboardInterrupt\u001b[0m                         Traceback (most recent call last)",
            "\u001b[0;32m<ipython-input-187-97ca77a2121f>\u001b[0m in \u001b[0;36m<module>\u001b[0;34m()\u001b[0m\n\u001b[1;32m      1\u001b[0m \u001b[0mtf\u001b[0m\u001b[0;34m.\u001b[0m\u001b[0mrandom\u001b[0m\u001b[0;34m.\u001b[0m\u001b[0mset_seed\u001b[0m\u001b[0;34m(\u001b[0m\u001b[0;36m42\u001b[0m\u001b[0;34m)\u001b[0m\u001b[0;34m\u001b[0m\u001b[0;34m\u001b[0m\u001b[0m\n\u001b[0;32m----> 2\u001b[0;31m \u001b[0mhistory\u001b[0m \u001b[0;34m=\u001b[0m \u001b[0mmodel3\u001b[0m\u001b[0;34m.\u001b[0m\u001b[0mfit\u001b[0m\u001b[0;34m(\u001b[0m\u001b[0mtrain_X\u001b[0m\u001b[0;34m,\u001b[0m \u001b[0mtrain_Y\u001b[0m\u001b[0;34m,\u001b[0m \u001b[0mepochs\u001b[0m\u001b[0;34m=\u001b[0m\u001b[0;36m100\u001b[0m\u001b[0;34m,\u001b[0m \u001b[0mbatch_size\u001b[0m\u001b[0;34m=\u001b[0m\u001b[0;36m32\u001b[0m\u001b[0;34m,\u001b[0m  \u001b[0mvalidation_split\u001b[0m\u001b[0;34m=\u001b[0m\u001b[0;36m0.25\u001b[0m\u001b[0;34m)\u001b[0m\u001b[0;34m\u001b[0m\u001b[0;34m\u001b[0m\u001b[0m\n\u001b[0m",
            "\u001b[0;32m/usr/local/lib/python3.7/dist-packages/tensorflow/python/keras/engine/training.py\u001b[0m in \u001b[0;36mfit\u001b[0;34m(self, x, y, batch_size, epochs, verbose, callbacks, validation_split, validation_data, shuffle, class_weight, sample_weight, initial_epoch, steps_per_epoch, validation_steps, validation_batch_size, validation_freq, max_queue_size, workers, use_multiprocessing)\u001b[0m\n\u001b[1;32m   1098\u001b[0m                 _r=1):\n\u001b[1;32m   1099\u001b[0m               \u001b[0mcallbacks\u001b[0m\u001b[0;34m.\u001b[0m\u001b[0mon_train_batch_begin\u001b[0m\u001b[0;34m(\u001b[0m\u001b[0mstep\u001b[0m\u001b[0;34m)\u001b[0m\u001b[0;34m\u001b[0m\u001b[0;34m\u001b[0m\u001b[0m\n\u001b[0;32m-> 1100\u001b[0;31m               \u001b[0mtmp_logs\u001b[0m \u001b[0;34m=\u001b[0m \u001b[0mself\u001b[0m\u001b[0;34m.\u001b[0m\u001b[0mtrain_function\u001b[0m\u001b[0;34m(\u001b[0m\u001b[0miterator\u001b[0m\u001b[0;34m)\u001b[0m\u001b[0;34m\u001b[0m\u001b[0;34m\u001b[0m\u001b[0m\n\u001b[0m\u001b[1;32m   1101\u001b[0m               \u001b[0;32mif\u001b[0m \u001b[0mdata_handler\u001b[0m\u001b[0;34m.\u001b[0m\u001b[0mshould_sync\u001b[0m\u001b[0;34m:\u001b[0m\u001b[0;34m\u001b[0m\u001b[0;34m\u001b[0m\u001b[0m\n\u001b[1;32m   1102\u001b[0m                 \u001b[0mcontext\u001b[0m\u001b[0;34m.\u001b[0m\u001b[0masync_wait\u001b[0m\u001b[0;34m(\u001b[0m\u001b[0;34m)\u001b[0m\u001b[0;34m\u001b[0m\u001b[0;34m\u001b[0m\u001b[0m\n",
            "\u001b[0;32m/usr/local/lib/python3.7/dist-packages/tensorflow/python/eager/def_function.py\u001b[0m in \u001b[0;36m__call__\u001b[0;34m(self, *args, **kwds)\u001b[0m\n\u001b[1;32m    826\u001b[0m     \u001b[0mtracing_count\u001b[0m \u001b[0;34m=\u001b[0m \u001b[0mself\u001b[0m\u001b[0;34m.\u001b[0m\u001b[0mexperimental_get_tracing_count\u001b[0m\u001b[0;34m(\u001b[0m\u001b[0;34m)\u001b[0m\u001b[0;34m\u001b[0m\u001b[0;34m\u001b[0m\u001b[0m\n\u001b[1;32m    827\u001b[0m     \u001b[0;32mwith\u001b[0m \u001b[0mtrace\u001b[0m\u001b[0;34m.\u001b[0m\u001b[0mTrace\u001b[0m\u001b[0;34m(\u001b[0m\u001b[0mself\u001b[0m\u001b[0;34m.\u001b[0m\u001b[0m_name\u001b[0m\u001b[0;34m)\u001b[0m \u001b[0;32mas\u001b[0m \u001b[0mtm\u001b[0m\u001b[0;34m:\u001b[0m\u001b[0;34m\u001b[0m\u001b[0;34m\u001b[0m\u001b[0m\n\u001b[0;32m--> 828\u001b[0;31m       \u001b[0mresult\u001b[0m \u001b[0;34m=\u001b[0m \u001b[0mself\u001b[0m\u001b[0;34m.\u001b[0m\u001b[0m_call\u001b[0m\u001b[0;34m(\u001b[0m\u001b[0;34m*\u001b[0m\u001b[0margs\u001b[0m\u001b[0;34m,\u001b[0m \u001b[0;34m**\u001b[0m\u001b[0mkwds\u001b[0m\u001b[0;34m)\u001b[0m\u001b[0;34m\u001b[0m\u001b[0;34m\u001b[0m\u001b[0m\n\u001b[0m\u001b[1;32m    829\u001b[0m       \u001b[0mcompiler\u001b[0m \u001b[0;34m=\u001b[0m \u001b[0;34m\"xla\"\u001b[0m \u001b[0;32mif\u001b[0m \u001b[0mself\u001b[0m\u001b[0;34m.\u001b[0m\u001b[0m_experimental_compile\u001b[0m \u001b[0;32melse\u001b[0m \u001b[0;34m\"nonXla\"\u001b[0m\u001b[0;34m\u001b[0m\u001b[0;34m\u001b[0m\u001b[0m\n\u001b[1;32m    830\u001b[0m       \u001b[0mnew_tracing_count\u001b[0m \u001b[0;34m=\u001b[0m \u001b[0mself\u001b[0m\u001b[0;34m.\u001b[0m\u001b[0mexperimental_get_tracing_count\u001b[0m\u001b[0;34m(\u001b[0m\u001b[0;34m)\u001b[0m\u001b[0;34m\u001b[0m\u001b[0;34m\u001b[0m\u001b[0m\n",
            "\u001b[0;32m/usr/local/lib/python3.7/dist-packages/tensorflow/python/eager/def_function.py\u001b[0m in \u001b[0;36m_call\u001b[0;34m(self, *args, **kwds)\u001b[0m\n\u001b[1;32m    853\u001b[0m       \u001b[0;31m# In this case we have created variables on the first call, so we run the\u001b[0m\u001b[0;34m\u001b[0m\u001b[0;34m\u001b[0m\u001b[0;34m\u001b[0m\u001b[0m\n\u001b[1;32m    854\u001b[0m       \u001b[0;31m# defunned version which is guaranteed to never create variables.\u001b[0m\u001b[0;34m\u001b[0m\u001b[0;34m\u001b[0m\u001b[0;34m\u001b[0m\u001b[0m\n\u001b[0;32m--> 855\u001b[0;31m       \u001b[0;32mreturn\u001b[0m \u001b[0mself\u001b[0m\u001b[0;34m.\u001b[0m\u001b[0m_stateless_fn\u001b[0m\u001b[0;34m(\u001b[0m\u001b[0;34m*\u001b[0m\u001b[0margs\u001b[0m\u001b[0;34m,\u001b[0m \u001b[0;34m**\u001b[0m\u001b[0mkwds\u001b[0m\u001b[0;34m)\u001b[0m  \u001b[0;31m# pylint: disable=not-callable\u001b[0m\u001b[0;34m\u001b[0m\u001b[0;34m\u001b[0m\u001b[0m\n\u001b[0m\u001b[1;32m    856\u001b[0m     \u001b[0;32melif\u001b[0m \u001b[0mself\u001b[0m\u001b[0;34m.\u001b[0m\u001b[0m_stateful_fn\u001b[0m \u001b[0;32mis\u001b[0m \u001b[0;32mnot\u001b[0m \u001b[0;32mNone\u001b[0m\u001b[0;34m:\u001b[0m\u001b[0;34m\u001b[0m\u001b[0;34m\u001b[0m\u001b[0m\n\u001b[1;32m    857\u001b[0m       \u001b[0;31m# Release the lock early so that multiple threads can perform the call\u001b[0m\u001b[0;34m\u001b[0m\u001b[0;34m\u001b[0m\u001b[0;34m\u001b[0m\u001b[0m\n",
            "\u001b[0;32m/usr/local/lib/python3.7/dist-packages/tensorflow/python/eager/function.py\u001b[0m in \u001b[0;36m__call__\u001b[0;34m(self, *args, **kwargs)\u001b[0m\n\u001b[1;32m   2941\u001b[0m        filtered_flat_args) = self._maybe_define_function(args, kwargs)\n\u001b[1;32m   2942\u001b[0m     return graph_function._call_flat(\n\u001b[0;32m-> 2943\u001b[0;31m         filtered_flat_args, captured_inputs=graph_function.captured_inputs)  # pylint: disable=protected-access\n\u001b[0m\u001b[1;32m   2944\u001b[0m \u001b[0;34m\u001b[0m\u001b[0m\n\u001b[1;32m   2945\u001b[0m   \u001b[0;34m@\u001b[0m\u001b[0mproperty\u001b[0m\u001b[0;34m\u001b[0m\u001b[0;34m\u001b[0m\u001b[0m\n",
            "\u001b[0;32m/usr/local/lib/python3.7/dist-packages/tensorflow/python/eager/function.py\u001b[0m in \u001b[0;36m_call_flat\u001b[0;34m(self, args, captured_inputs, cancellation_manager)\u001b[0m\n\u001b[1;32m   1917\u001b[0m       \u001b[0;31m# No tape is watching; skip to running the function.\u001b[0m\u001b[0;34m\u001b[0m\u001b[0;34m\u001b[0m\u001b[0;34m\u001b[0m\u001b[0m\n\u001b[1;32m   1918\u001b[0m       return self._build_call_outputs(self._inference_function.call(\n\u001b[0;32m-> 1919\u001b[0;31m           ctx, args, cancellation_manager=cancellation_manager))\n\u001b[0m\u001b[1;32m   1920\u001b[0m     forward_backward = self._select_forward_and_backward_functions(\n\u001b[1;32m   1921\u001b[0m         \u001b[0margs\u001b[0m\u001b[0;34m,\u001b[0m\u001b[0;34m\u001b[0m\u001b[0;34m\u001b[0m\u001b[0m\n",
            "\u001b[0;32m/usr/local/lib/python3.7/dist-packages/tensorflow/python/eager/function.py\u001b[0m in \u001b[0;36mcall\u001b[0;34m(self, ctx, args, cancellation_manager)\u001b[0m\n\u001b[1;32m    558\u001b[0m               \u001b[0minputs\u001b[0m\u001b[0;34m=\u001b[0m\u001b[0margs\u001b[0m\u001b[0;34m,\u001b[0m\u001b[0;34m\u001b[0m\u001b[0;34m\u001b[0m\u001b[0m\n\u001b[1;32m    559\u001b[0m               \u001b[0mattrs\u001b[0m\u001b[0;34m=\u001b[0m\u001b[0mattrs\u001b[0m\u001b[0;34m,\u001b[0m\u001b[0;34m\u001b[0m\u001b[0;34m\u001b[0m\u001b[0m\n\u001b[0;32m--> 560\u001b[0;31m               ctx=ctx)\n\u001b[0m\u001b[1;32m    561\u001b[0m         \u001b[0;32melse\u001b[0m\u001b[0;34m:\u001b[0m\u001b[0;34m\u001b[0m\u001b[0;34m\u001b[0m\u001b[0m\n\u001b[1;32m    562\u001b[0m           outputs = execute.execute_with_cancellation(\n",
            "\u001b[0;32m/usr/local/lib/python3.7/dist-packages/tensorflow/python/eager/execute.py\u001b[0m in \u001b[0;36mquick_execute\u001b[0;34m(op_name, num_outputs, inputs, attrs, ctx, name)\u001b[0m\n\u001b[1;32m     58\u001b[0m     \u001b[0mctx\u001b[0m\u001b[0;34m.\u001b[0m\u001b[0mensure_initialized\u001b[0m\u001b[0;34m(\u001b[0m\u001b[0;34m)\u001b[0m\u001b[0;34m\u001b[0m\u001b[0;34m\u001b[0m\u001b[0m\n\u001b[1;32m     59\u001b[0m     tensors = pywrap_tfe.TFE_Py_Execute(ctx._handle, device_name, op_name,\n\u001b[0;32m---> 60\u001b[0;31m                                         inputs, attrs, num_outputs)\n\u001b[0m\u001b[1;32m     61\u001b[0m   \u001b[0;32mexcept\u001b[0m \u001b[0mcore\u001b[0m\u001b[0;34m.\u001b[0m\u001b[0m_NotOkStatusException\u001b[0m \u001b[0;32mas\u001b[0m \u001b[0me\u001b[0m\u001b[0;34m:\u001b[0m\u001b[0;34m\u001b[0m\u001b[0;34m\u001b[0m\u001b[0m\n\u001b[1;32m     62\u001b[0m     \u001b[0;32mif\u001b[0m \u001b[0mname\u001b[0m \u001b[0;32mis\u001b[0m \u001b[0;32mnot\u001b[0m \u001b[0;32mNone\u001b[0m\u001b[0;34m:\u001b[0m\u001b[0;34m\u001b[0m\u001b[0;34m\u001b[0m\u001b[0m\n",
            "\u001b[0;31mKeyboardInterrupt\u001b[0m: "
          ]
        }
      ]
    },
    {
      "cell_type": "code",
      "metadata": {
        "id": "JGFui279kTeJ",
        "colab": {
          "base_uri": "https://localhost:8080/",
          "height": 252
        },
        "outputId": "1e145a9c-1c32-4c51-e576-c45bcdaecc87"
      },
      "source": [
        "plt.figure(figsize=(12,4))\n",
        "\n",
        "plt.subplot(1,2,1)\n",
        "plt.plot(history.history['loss'], 'b-', label='loss')\n",
        "plt.plot(history.history['val_loss'], 'r--', label='val_loss')\n",
        "plt.xlabel('Epoch')\n",
        "plt.legend()\n",
        "\n",
        "plt.subplot(1,2,2)\n",
        "plt.plot(history.history['accuracy'], 'g-', label='accuracy')\n",
        "plt.plot(history.history['val_accuracy'], 'k--', label='val_loss')\n",
        "plt.xlabel('Epoch')\n",
        "plt.ylim(0.7,1)\n",
        "plt.legend()\n",
        "\n",
        "plt.show()"
      ],
      "execution_count": 185,
      "outputs": [
        {
          "output_type": "display_data",
          "data": {
            "image/png": "[encoded data removed]",
            "text/plain": [
              "<Figure size 864x288 with 2 Axes>"
            ]
          },
          "metadata": {
            "tags": [],
            "needs_background": "light"
          }
        }
      ]
    },
    {
      "cell_type": "code",
      "metadata": {
        "id": "7MkS5nu5x30V",
        "colab": {
          "base_uri": "https://localhost:8080/"
        },
        "outputId": "a79c85bc-3e28-44b5-cd04-80afa01d5aca"
      },
      "source": [
        "model3.evaluate(test_X,test_Y)"
      ],
      "execution_count": 186,
      "outputs": [
        {
          "output_type": "stream",
          "text": [
            "313/313 [==============================] - 0s 1ms/step - loss: 0.5327 - accuracy: 0.8300\n"
          ],
          "name": "stdout"
        },
        {
          "output_type": "execute_result",
          "data": {
            "text/plain": [
              "[0.5326970815658569, 0.8299999833106995]"
            ]
          },
          "metadata": {
            "tags": []
          },
          "execution_count": 186
        }
      ]
    }
  ]
}