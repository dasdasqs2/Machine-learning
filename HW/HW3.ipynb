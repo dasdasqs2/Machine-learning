{
  "nbformat": 4,
  "nbformat_minor": 0,
  "metadata": {
    "accelerator": "GPU",
    "colab": {
      "name": "HW3.ipynb",
      "provenance": [],
      "collapsed_sections": [],
      "authorship_tag": "ABX9TyOB31J4+9QLRmh6n36yb/X3",
      "include_colab_link": true
    },
    "kernelspec": {
      "display_name": "Python 3",
      "name": "python3"
    },
    "language_info": {
      "name": "python"
    }
  },
  "cells": [
    {
      "cell_type": "markdown",
      "metadata": {
        "id": "view-in-github",
        "colab_type": "text"
      },
      "source": [
        "<a href=\"https://colab.research.google.com/github/dasdasqs2/Machine-learning/blob/main/HW/HW3.ipynb\" target=\"_parent\"><img src=\"https://colab.research.google.com/assets/colab-badge.svg\" alt=\"Open In Colab\"/></a>"
      ]
    },
    {
      "cell_type": "markdown",
      "metadata": {
        "id": "n1ME-JfkVaqq"
      },
      "source": [
        "# Q1. \n",
        "- 8주차 강의노트에서 wine data를 다루는 예제가 있다. 강의에서 다룬 것처럼 7개의 ‘quality’를\n",
        "3개의 quality로 재분류한다. 그리고 기존의 test data 정확도 (79.3%)보다 더 좋은 결과가 나오게\n",
        "끔 신경망의 모델을 수정하거나 하이퍼파라미터(hyperparameter)를 바꾸는 코드를 작성하라.\n"
      ]
    },
    {
      "cell_type": "code",
      "metadata": {
        "id": "jWLsgeWmRqJb"
      },
      "source": [
        "import numpy as np\n",
        "import pandas as pd\n",
        "import matplotlib.pyplot as plt\n",
        "import tensorflow as tf\n",
        "\n",
        "tf.random.set_seed(42)"
      ],
      "execution_count": 1,
      "outputs": []
    },
    {
      "cell_type": "code",
      "metadata": {
        "id": "7i7Pfeb1V6to"
      },
      "source": [
        "red = pd.read_csv('http://archive.ics.uci.edu/ml/machine-learning-databases/wine-quality/winequality-red.csv', sep=';')\n",
        "white = pd.read_csv('http://archive.ics.uci.edu/ml/machine-learning-databases/wine-quality/winequality-white.csv', sep=';')"
      ],
      "execution_count": 2,
      "outputs": []
    },
    {
      "cell_type": "code",
      "metadata": {
        "colab": {
          "base_uri": "https://localhost:8080/"
        },
        "id": "0tjyX40qL9Vg",
        "outputId": "7bf02dea-2f2d-4b25-ef1f-5c5609ba00c2"
      },
      "source": [
        "red['type'] = 0\n",
        "white['type'] = 1\n",
        "# mean의 의미-> red:white = 1:3\n",
        "\n",
        "print(red.head(2))\n",
        "print(white.head(2))\n",
        "\n",
        "wine = pd.concat([red, white]) #(red + white) dataframe\n",
        "print(wine.describe()) #통계적 특징"
      ],
      "execution_count": 3,
      "outputs": [
        {
          "output_type": "stream",
          "text": [
            "   fixed acidity  volatile acidity  citric acid  ...  alcohol  quality  type\n",
            "0            7.4              0.70          0.0  ...      9.4        5     0\n",
            "1            7.8              0.88          0.0  ...      9.8        5     0\n",
            "\n",
            "[2 rows x 13 columns]\n",
            "   fixed acidity  volatile acidity  citric acid  ...  alcohol  quality  type\n",
            "0            7.0              0.27         0.36  ...      8.8        6     1\n",
            "1            6.3              0.30         0.34  ...      9.5        6     1\n",
            "\n",
            "[2 rows x 13 columns]\n",
            "       fixed acidity  volatile acidity  ...      quality         type\n",
            "count    6497.000000       6497.000000  ...  6497.000000  6497.000000\n",
            "mean        7.215307          0.339666  ...     5.818378     0.753886\n",
            "std         1.296434          0.164636  ...     0.873255     0.430779\n",
            "min         3.800000          0.080000  ...     3.000000     0.000000\n",
            "25%         6.400000          0.230000  ...     5.000000     1.000000\n",
            "50%         7.000000          0.290000  ...     6.000000     1.000000\n",
            "75%         7.700000          0.400000  ...     6.000000     1.000000\n",
            "max        15.900000          1.580000  ...     9.000000     1.000000\n",
            "\n",
            "[8 rows x 13 columns]\n"
          ],
          "name": "stdout"
        }
      ]
    },
    {
      "cell_type": "code",
      "metadata": {
        "colab": {
          "base_uri": "https://localhost:8080/"
        },
        "id": "npmP_eTrILq5",
        "outputId": "d1886332-dae6-4aa6-a0b8-9b1208001b98"
      },
      "source": [
        "print(wine['quality'].describe())\n",
        "print(wine['quality'].value_counts())"
      ],
      "execution_count": 4,
      "outputs": [
        {
          "output_type": "stream",
          "text": [
            "count    6497.000000\n",
            "mean        5.818378\n",
            "std         0.873255\n",
            "min         3.000000\n",
            "25%         5.000000\n",
            "50%         6.000000\n",
            "75%         6.000000\n",
            "max         9.000000\n",
            "Name: quality, dtype: float64\n",
            "6    2836\n",
            "5    2138\n",
            "7    1079\n",
            "4     216\n",
            "8     193\n",
            "3      30\n",
            "9       5\n",
            "Name: quality, dtype: int64\n"
          ],
          "name": "stdout"
        }
      ]
    },
    {
      "cell_type": "code",
      "metadata": {
        "colab": {
          "base_uri": "https://localhost:8080/",
          "height": 265
        },
        "id": "4BFYSsasIeJV",
        "outputId": "69438fd7-9eff-442c-cef8-829d29961129"
      },
      "source": [
        "#imbalanced data\n",
        "plt.hist(wine['quality'], bins=7, rwidth=0.8)\n",
        "plt.show()"
      ],
      "execution_count": 5,
      "outputs": [
        {
          "output_type": "display_data",
          "data": {
            "image/png": "[encoded data removed]",
            "text/plain": [
              "<Figure size 432x288 with 1 Axes>"
            ]
          },
          "metadata": {
            "tags": [],
            "needs_background": "light"
          }
        }
      ]
    },
    {
      "cell_type": "code",
      "metadata": {
        "colab": {
          "base_uri": "https://localhost:8080/"
        },
        "id": "iUsYaD7jIpeh",
        "outputId": "8f7710c5-aaf6-42a2-af64-f0fdbbf73304"
      },
      "source": [
        "# 7 quality -> 3 quality\n",
        "wine.loc[wine['quality'] <=5, 'new_quality'] = 0\n",
        "wine.loc[wine['quality'] ==6, 'new_quality'] = 1\n",
        "wine.loc[wine['quality'] >=7, 'new_quality'] = 2\n",
        "\n",
        "print(wine['new_quality'].describe())\n",
        "print(wine['new_quality'].value_counts())"
      ],
      "execution_count": 6,
      "outputs": [
        {
          "output_type": "stream",
          "text": [
            "count    6497.000000\n",
            "mean        0.829614\n",
            "std         0.731124\n",
            "min         0.000000\n",
            "25%         0.000000\n",
            "50%         1.000000\n",
            "75%         1.000000\n",
            "max         2.000000\n",
            "Name: new_quality, dtype: float64\n",
            "1.0    2836\n",
            "0.0    2384\n",
            "2.0    1277\n",
            "Name: new_quality, dtype: int64\n"
          ],
          "name": "stdout"
        }
      ]
    },
    {
      "cell_type": "code",
      "metadata": {
        "id": "phEGGSG4JIft"
      },
      "source": [
        "# data regularization & split test data\n",
        "del wine['quality']\n",
        "wine_norm = (wine - wine.min()) / (wine.max() - wine.min())\n",
        "wine_shuffle = wine_norm.sample(frac=1)\n",
        "wine_np = wine_shuffle.to_numpy()\n",
        "\n",
        "train_idx = int(len(wine_np) * 0.8)\n",
        "train_X, train_Y = wine_np[:train_idx, :-1], wine_np[:train_idx, -1]\n",
        "test_X, test_Y = wine_np[train_idx:, :-1], wine_np[train_idx:, -1]\n",
        "train_Y = tf.keras.utils.to_categorical(train_Y, num_classes=3)\n",
        "test_Y = tf.keras.utils.to_categorical(test_Y, num_classes=3)"
      ],
      "execution_count": 7,
      "outputs": []
    },
    {
      "cell_type": "code",
      "metadata": {
        "colab": {
          "base_uri": "https://localhost:8080/"
        },
        "id": "Z9irffgmK98M",
        "outputId": "95340579-d266-4e10-f966-1977d0d22128"
      },
      "source": [
        "tf.random.set_seed(42)\n",
        "model = tf.keras.Sequential([\n",
        "                             tf.keras.layers.Dense(units=72, activation='relu', input_shape=(12,)),\n",
        "                             tf.keras.layers.Dense(units=48, activation='relu'),\n",
        "                             tf.keras.layers.Dense(units=24, activation='relu'),\n",
        "                             tf.keras.layers.Dense(units=3, activation='softmax')\n",
        "])\n",
        "\n",
        "model.compile(optimizer=tf.keras.optimizers.Adam(lr=0.05),loss='categorical_crossentropy', metrics=['accuracy'])\n",
        "\n",
        "history = model.fit(train_X, train_Y, epochs=25, batch_size=32, validation_split=0.25)"
      ],
      "execution_count": 8,
      "outputs": [
        {
          "output_type": "stream",
          "text": [
            "Epoch 1/25\n",
            "122/122 [==============================] - 4s 6ms/step - loss: 0.5284 - accuracy: 0.7657 - val_loss: 0.4730 - val_accuracy: 0.7923\n",
            "Epoch 2/25\n",
            "122/122 [==============================] - 0s 3ms/step - loss: 0.4131 - accuracy: 0.8065 - val_loss: 0.4230 - val_accuracy: 0.7931\n",
            "Epoch 3/25\n",
            "122/122 [==============================] - 0s 3ms/step - loss: 0.4023 - accuracy: 0.8071 - val_loss: 0.4385 - val_accuracy: 0.7985\n",
            "Epoch 4/25\n",
            "122/122 [==============================] - 0s 3ms/step - loss: 0.4011 - accuracy: 0.8155 - val_loss: 0.5031 - val_accuracy: 0.6808\n",
            "Epoch 5/25\n",
            "122/122 [==============================] - 0s 3ms/step - loss: 0.4182 - accuracy: 0.8048 - val_loss: 0.4350 - val_accuracy: 0.7985\n",
            "Epoch 6/25\n",
            "122/122 [==============================] - 0s 3ms/step - loss: 0.3969 - accuracy: 0.8210 - val_loss: 0.4415 - val_accuracy: 0.8015\n",
            "Epoch 7/25\n",
            "122/122 [==============================] - 0s 3ms/step - loss: 0.3886 - accuracy: 0.8234 - val_loss: 0.4216 - val_accuracy: 0.7985\n",
            "Epoch 8/25\n",
            "122/122 [==============================] - 0s 3ms/step - loss: 0.3937 - accuracy: 0.8190 - val_loss: 0.4188 - val_accuracy: 0.7977\n",
            "Epoch 9/25\n",
            "122/122 [==============================] - 0s 3ms/step - loss: 0.3868 - accuracy: 0.8130 - val_loss: 0.4212 - val_accuracy: 0.8000\n",
            "Epoch 10/25\n",
            "122/122 [==============================] - 0s 3ms/step - loss: 0.3940 - accuracy: 0.8226 - val_loss: 0.4670 - val_accuracy: 0.8046\n",
            "Epoch 11/25\n",
            "122/122 [==============================] - 0s 3ms/step - loss: 0.4239 - accuracy: 0.8031 - val_loss: 0.4442 - val_accuracy: 0.7800\n",
            "Epoch 12/25\n",
            "122/122 [==============================] - 0s 3ms/step - loss: 0.4085 - accuracy: 0.8059 - val_loss: 0.4343 - val_accuracy: 0.7885\n",
            "Epoch 13/25\n",
            "122/122 [==============================] - 0s 3ms/step - loss: 0.3901 - accuracy: 0.8152 - val_loss: 0.4287 - val_accuracy: 0.7923\n",
            "Epoch 14/25\n",
            "122/122 [==============================] - 0s 3ms/step - loss: 0.4000 - accuracy: 0.8130 - val_loss: 0.4310 - val_accuracy: 0.7900\n",
            "Epoch 15/25\n",
            "122/122 [==============================] - 0s 3ms/step - loss: 0.3911 - accuracy: 0.8276 - val_loss: 0.4258 - val_accuracy: 0.7985\n",
            "Epoch 16/25\n",
            "122/122 [==============================] - 0s 3ms/step - loss: 0.3758 - accuracy: 0.8286 - val_loss: 0.4186 - val_accuracy: 0.8015\n",
            "Epoch 17/25\n",
            "122/122 [==============================] - 0s 3ms/step - loss: 0.3896 - accuracy: 0.8191 - val_loss: 0.4288 - val_accuracy: 0.8046\n",
            "Epoch 18/25\n",
            "122/122 [==============================] - 0s 3ms/step - loss: 0.3827 - accuracy: 0.8348 - val_loss: 0.4434 - val_accuracy: 0.8008\n",
            "Epoch 19/25\n",
            "122/122 [==============================] - 0s 3ms/step - loss: 0.3762 - accuracy: 0.8301 - val_loss: 0.4136 - val_accuracy: 0.8046\n",
            "Epoch 20/25\n",
            "122/122 [==============================] - 0s 3ms/step - loss: 0.3834 - accuracy: 0.8289 - val_loss: 0.4300 - val_accuracy: 0.8115\n",
            "Epoch 21/25\n",
            "122/122 [==============================] - 0s 3ms/step - loss: 0.3805 - accuracy: 0.8257 - val_loss: 0.4192 - val_accuracy: 0.8100\n",
            "Epoch 22/25\n",
            "122/122 [==============================] - 0s 3ms/step - loss: 0.3721 - accuracy: 0.8331 - val_loss: 0.4462 - val_accuracy: 0.8046\n",
            "Epoch 23/25\n",
            "122/122 [==============================] - 0s 3ms/step - loss: 0.3722 - accuracy: 0.8239 - val_loss: 0.4257 - val_accuracy: 0.8123\n",
            "Epoch 24/25\n",
            "122/122 [==============================] - 0s 3ms/step - loss: 0.3887 - accuracy: 0.8198 - val_loss: 0.4790 - val_accuracy: 0.8069\n",
            "Epoch 25/25\n",
            "122/122 [==============================] - 0s 3ms/step - loss: 0.3701 - accuracy: 0.8335 - val_loss: 0.4243 - val_accuracy: 0.7885\n"
          ],
          "name": "stdout"
        }
      ]
    },
    {
      "cell_type": "code",
      "metadata": {
        "colab": {
          "base_uri": "https://localhost:8080/",
          "height": 283
        },
        "id": "OftV_orcl_ve",
        "outputId": "29d21390-e879-4a31-8689-fe0f62bff239"
      },
      "source": [
        "plt.figure(figsize=(12,4))\n",
        "\n",
        "plt.subplot(1,2,1)\n",
        "plt.plot(history.history['loss'], 'b-', label='loss')\n",
        "plt.plot(history.history['val_loss'], 'r--', label='val_loss')\n",
        "plt.xlabel('Epoch')\n",
        "plt.legend()\n",
        "\n",
        "plt.subplot(1,2,2)\n",
        "plt.plot(history.history['accuracy'], 'g-', label='accuracy')\n",
        "plt.plot(history.history['val_accuracy'], 'k--', label='val_loss')\n",
        "plt.xlabel('Epoch')\n",
        "plt.ylim(0.7,1)\n",
        "plt.legend()\n",
        "\n",
        "plt.show()"
      ],
      "execution_count": 9,
      "outputs": [
        {
          "output_type": "display_data",
          "data": {
            "image/png": "[encoded data removed]",
            "text/plain": [
              "<Figure size 864x288 with 2 Axes>"
            ]
          },
          "metadata": {
            "tags": [],
            "needs_background": "light"
          }
        }
      ]
    },
    {
      "cell_type": "code",
      "metadata": {
        "colab": {
          "base_uri": "https://localhost:8080/"
        },
        "id": "nFj7cuKENbU3",
        "outputId": "283a789f-eda0-4527-aa12-d958a3067181"
      },
      "source": [
        "model.evaluate(test_X, test_Y)"
      ],
      "execution_count": 10,
      "outputs": [
        {
          "output_type": "stream",
          "text": [
            "41/41 [==============================] - 0s 2ms/step - loss: 0.3767 - accuracy: 0.8146\n"
          ],
          "name": "stdout"
        },
        {
          "output_type": "execute_result",
          "data": {
            "text/plain": [
              "[0.37671104073524475, 0.8146153688430786]"
            ]
          },
          "metadata": {
            "tags": []
          },
          "execution_count": 10
        }
      ]
    },
    {
      "cell_type": "markdown",
      "metadata": {
        "id": "Kp3XbpB7f6qG"
      },
      "source": [
        "# Q2. 8주차 강의노트에서 Fashion MNIST 데이터를 다루는 예제가 있다.\n",
        "1. Fashion MNIST 데이터를 logistic regression 을 이용하여 학습한 뒤, test data를 적용하여\n",
        "결과를 얻는다\n",
        "2. Fashion MNIST 데이터를 수업 중 다룬 MLP로 학습한 뒤, test data를 적용하여 결과를 얻\n",
        "는다\n",
        "3. Fashion MNIST 데이터를 MLP로 학습하되, 위에서 학습한 결과보다 더 validation 결과를\n",
        "얻을 수 있도록 모델을 바꾼 뒤, test data를 적용하여 결과를 얻는다\n",
        "단, 위의 3문제에서 학습할 때, validation data 비율은 학습데이터의 25%로 둔다."
      ]
    },
    {
      "cell_type": "markdown",
      "metadata": {
        "id": "E3WnCupslOwQ"
      },
      "source": [
        "## 1. Logistic regression"
      ]
    },
    {
      "cell_type": "code",
      "metadata": {
        "id": "TxGlRVw2qt0L",
        "colab": {
          "base_uri": "https://localhost:8080/"
        },
        "outputId": "dc1f2f76-1356-4f6f-e298-137e78751e18"
      },
      "source": [
        "from sklearn import datasets\n",
        "from sklearn import model_selection\n",
        "from sklearn.linear_model import LogisticRegression\n",
        "from sklearn import metrics\n",
        "from tensorflow import keras\n",
        "\n",
        "fashion_mnist = keras.datasets.fashion_mnist\n",
        "(train_X0, train_Y0), (test_X0, test_Y0) = fashion_mnist.load_data()"
      ],
      "execution_count": 11,
      "outputs": [
        {
          "output_type": "stream",
          "text": [
            "Downloading data from https://storage.googleapis.com/tensorflow/tf-keras-datasets/train-labels-idx1-ubyte.gz\n",
            "32768/29515 [=================================] - 0s 0us/step\n",
            "Downloading data from https://storage.googleapis.com/tensorflow/tf-keras-datasets/train-images-idx3-ubyte.gz\n",
            "26427392/26421880 [==============================] - 0s 0us/step\n",
            "Downloading data from https://storage.googleapis.com/tensorflow/tf-keras-datasets/t10k-labels-idx1-ubyte.gz\n",
            "8192/5148 [===============================================] - 0s 0us/step\n",
            "Downloading data from https://storage.googleapis.com/tensorflow/tf-keras-datasets/t10k-images-idx3-ubyte.gz\n",
            "4423680/4422102 [==============================] - 0s 0us/step\n"
          ],
          "name": "stdout"
        }
      ]
    },
    {
      "cell_type": "code",
      "metadata": {
        "id": "ushP28OK_lOn"
      },
      "source": [
        "# Reshape\n",
        "train_X = train_X0.reshape(60000,28,28,1)\n",
        "test_X = test_X0.reshape(10000,28,28,1)"
      ],
      "execution_count": 12,
      "outputs": []
    },
    {
      "cell_type": "code",
      "metadata": {
        "id": "uC2MRl2w_zDn"
      },
      "source": [
        "train_X = train_X0 / 255.0\n",
        "test_X = test_X0 / 255.0"
      ],
      "execution_count": 13,
      "outputs": []
    },
    {
      "cell_type": "code",
      "metadata": {
        "id": "MsTkeP5b_w1X"
      },
      "source": [
        "from keras.utils import to_categorical\n",
        "\n",
        "train_Y = to_categorical(train_Y0, 10)\n",
        "test_Y = to_categorical(test_Y0, 10)"
      ],
      "execution_count": 14,
      "outputs": []
    },
    {
      "cell_type": "code",
      "metadata": {
        "id": "97DcQvY5tTh-"
      },
      "source": [
        "tf.random.set_seed(42)\n",
        "\n",
        "model1 = tf.keras.Sequential([\n",
        "    tf.keras.layers.Flatten(input_shape=(28,28)),\n",
        "    tf.keras.layers.Dense(units=128, activation='sigmoid'),\n",
        "    tf.keras.layers.Dense(units=10, activation='softmax')\n",
        "])\n",
        "\n",
        "model1.compile(optimizer=tf.keras.optimizers.Adam(),loss='categorical_crossentropy', metrics=['accuracy'])"
      ],
      "execution_count": 15,
      "outputs": []
    },
    {
      "cell_type": "code",
      "metadata": {
        "colab": {
          "base_uri": "https://localhost:8080/"
        },
        "id": "2f4w45xzBGiH",
        "outputId": "c2df0341-d831-44bd-9179-1c1fcf821d16"
      },
      "source": [
        "tf.random.set_seed(42)\n",
        "history = model1.fit(train_X, train_Y, epochs=25, validation_split=0.25)"
      ],
      "execution_count": 16,
      "outputs": [
        {
          "output_type": "stream",
          "text": [
            "Epoch 1/25\n",
            "1407/1407 [==============================] - 5s 3ms/step - loss: 0.7892 - accuracy: 0.7401 - val_loss: 0.4379 - val_accuracy: 0.8398\n",
            "Epoch 2/25\n",
            "1407/1407 [==============================] - 4s 3ms/step - loss: 0.4152 - accuracy: 0.8497 - val_loss: 0.3995 - val_accuracy: 0.8539\n",
            "Epoch 3/25\n",
            "1407/1407 [==============================] - 4s 3ms/step - loss: 0.3718 - accuracy: 0.8677 - val_loss: 0.3833 - val_accuracy: 0.8621\n",
            "Epoch 4/25\n",
            "1407/1407 [==============================] - 4s 3ms/step - loss: 0.3505 - accuracy: 0.8736 - val_loss: 0.3542 - val_accuracy: 0.8696\n",
            "Epoch 5/25\n",
            "1407/1407 [==============================] - 4s 3ms/step - loss: 0.3222 - accuracy: 0.8830 - val_loss: 0.3469 - val_accuracy: 0.8748\n",
            "Epoch 6/25\n",
            "1407/1407 [==============================] - 4s 3ms/step - loss: 0.3074 - accuracy: 0.8892 - val_loss: 0.3373 - val_accuracy: 0.8777\n",
            "Epoch 7/25\n",
            "1407/1407 [==============================] - 4s 3ms/step - loss: 0.2984 - accuracy: 0.8908 - val_loss: 0.3269 - val_accuracy: 0.8807\n",
            "Epoch 8/25\n",
            "1407/1407 [==============================] - 4s 3ms/step - loss: 0.2841 - accuracy: 0.8953 - val_loss: 0.3270 - val_accuracy: 0.8805\n",
            "Epoch 9/25\n",
            "1407/1407 [==============================] - 4s 3ms/step - loss: 0.2714 - accuracy: 0.9001 - val_loss: 0.3239 - val_accuracy: 0.8816\n",
            "Epoch 10/25\n",
            "1407/1407 [==============================] - 4s 3ms/step - loss: 0.2665 - accuracy: 0.9038 - val_loss: 0.3265 - val_accuracy: 0.8801\n",
            "Epoch 11/25\n",
            "1407/1407 [==============================] - 4s 3ms/step - loss: 0.2557 - accuracy: 0.9070 - val_loss: 0.3094 - val_accuracy: 0.8884\n",
            "Epoch 12/25\n",
            "1407/1407 [==============================] - 4s 3ms/step - loss: 0.2398 - accuracy: 0.9118 - val_loss: 0.3162 - val_accuracy: 0.8865\n",
            "Epoch 13/25\n",
            "1407/1407 [==============================] - 4s 3ms/step - loss: 0.2318 - accuracy: 0.9148 - val_loss: 0.3142 - val_accuracy: 0.8881\n",
            "Epoch 14/25\n",
            "1407/1407 [==============================] - 4s 3ms/step - loss: 0.2286 - accuracy: 0.9160 - val_loss: 0.3099 - val_accuracy: 0.8870\n",
            "Epoch 15/25\n",
            "1407/1407 [==============================] - 4s 3ms/step - loss: 0.2210 - accuracy: 0.9185 - val_loss: 0.3185 - val_accuracy: 0.8825\n",
            "Epoch 16/25\n",
            "1407/1407 [==============================] - 4s 3ms/step - loss: 0.2145 - accuracy: 0.9211 - val_loss: 0.3139 - val_accuracy: 0.8869\n",
            "Epoch 17/25\n",
            "1407/1407 [==============================] - 4s 3ms/step - loss: 0.2059 - accuracy: 0.9260 - val_loss: 0.3065 - val_accuracy: 0.8903\n",
            "Epoch 18/25\n",
            "1407/1407 [==============================] - 4s 3ms/step - loss: 0.2011 - accuracy: 0.9254 - val_loss: 0.3080 - val_accuracy: 0.8915\n",
            "Epoch 19/25\n",
            "1407/1407 [==============================] - 4s 3ms/step - loss: 0.1947 - accuracy: 0.9278 - val_loss: 0.3049 - val_accuracy: 0.8929\n",
            "Epoch 20/25\n",
            "1407/1407 [==============================] - 4s 3ms/step - loss: 0.1846 - accuracy: 0.9326 - val_loss: 0.3134 - val_accuracy: 0.8902\n",
            "Epoch 21/25\n",
            "1407/1407 [==============================] - 4s 3ms/step - loss: 0.1832 - accuracy: 0.9329 - val_loss: 0.3050 - val_accuracy: 0.8915\n",
            "Epoch 22/25\n",
            "1407/1407 [==============================] - 4s 3ms/step - loss: 0.1769 - accuracy: 0.9363 - val_loss: 0.3212 - val_accuracy: 0.8891\n",
            "Epoch 23/25\n",
            "1407/1407 [==============================] - 4s 3ms/step - loss: 0.1744 - accuracy: 0.9378 - val_loss: 0.3423 - val_accuracy: 0.8809\n",
            "Epoch 24/25\n",
            "1407/1407 [==============================] - 4s 3ms/step - loss: 0.1707 - accuracy: 0.9382 - val_loss: 0.3137 - val_accuracy: 0.8916\n",
            "Epoch 25/25\n",
            "1407/1407 [==============================] - 4s 3ms/step - loss: 0.1668 - accuracy: 0.9407 - val_loss: 0.3154 - val_accuracy: 0.8923\n"
          ],
          "name": "stdout"
        }
      ]
    },
    {
      "cell_type": "code",
      "metadata": {
        "colab": {
          "base_uri": "https://localhost:8080/",
          "height": 283
        },
        "id": "MQEjBR-mAnwn",
        "outputId": "775d2287-d7a6-4ad8-d6af-7ecab7141efd"
      },
      "source": [
        "plt.figure(figsize=(12,4))\n",
        "\n",
        "plt.subplot(1,2,1)\n",
        "plt.plot(history.history['loss'], 'b-', label='loss')\n",
        "plt.plot(history.history['val_loss'], 'r--', label='val_loss')\n",
        "plt.xlabel('Epoch')\n",
        "plt.legend()\n",
        "\n",
        "plt.subplot(1,2,2)\n",
        "plt.plot(history.history['accuracy'], 'g-', label='accuracy')\n",
        "plt.plot(history.history['val_accuracy'], 'k--', label='val_loss')\n",
        "plt.xlabel('Epoch')\n",
        "plt.ylim(0.7,1)\n",
        "plt.legend()\n",
        "\n",
        "plt.show()"
      ],
      "execution_count": 24,
      "outputs": [
        {
          "output_type": "display_data",
          "data": {
            "image/png": "[encoded data removed]",
            "text/plain": [
              "<Figure size 864x288 with 2 Axes>"
            ]
          },
          "metadata": {
            "tags": [],
            "needs_background": "light"
          }
        }
      ]
    },
    {
      "cell_type": "code",
      "metadata": {
        "colab": {
          "base_uri": "https://localhost:8080/"
        },
        "id": "U0u7dU05BV6X",
        "outputId": "e9e6e00e-0036-4794-85a1-a72ed598e293"
      },
      "source": [
        "model1.evaluate(test_X,test_Y)"
      ],
      "execution_count": 25,
      "outputs": [
        {
          "output_type": "stream",
          "text": [
            "313/313 [==============================] - 1s 2ms/step - loss: 0.3421 - accuracy: 0.8837\n"
          ],
          "name": "stdout"
        },
        {
          "output_type": "execute_result",
          "data": {
            "text/plain": [
              "[0.34211626648902893, 0.8837000131607056]"
            ]
          },
          "metadata": {
            "tags": []
          },
          "execution_count": 25
        }
      ]
    },
    {
      "cell_type": "markdown",
      "metadata": {
        "id": "7S-GYsafmKUb"
      },
      "source": [
        "## 2. MLP"
      ]
    },
    {
      "cell_type": "code",
      "metadata": {
        "colab": {
          "base_uri": "https://localhost:8080/"
        },
        "id": "k_thuoNEsCUN",
        "outputId": "6117f11d-ca68-4cb7-ea54-80df814b75f7"
      },
      "source": [
        "from tensorflow import keras\n",
        "\n",
        "fashion_mnist = keras.datasets.fashion_mnist\n",
        "(train_X0, train_Y0), (test_X0, test_Y0) = fashion_mnist.load_data()\n",
        "\n",
        "print(len(train_X0), len(test_X0))"
      ],
      "execution_count": 27,
      "outputs": [
        {
          "output_type": "stream",
          "text": [
            "60000 10000\n"
          ],
          "name": "stdout"
        }
      ]
    },
    {
      "cell_type": "code",
      "metadata": {
        "id": "vl1dy-S4sEmZ"
      },
      "source": [
        "train_X = train_X0 / 255.0\n",
        "test_X = test_X0 / 255.0"
      ],
      "execution_count": 28,
      "outputs": []
    },
    {
      "cell_type": "code",
      "metadata": {
        "id": "l539XG5VABE-"
      },
      "source": [
        "from keras.utils import to_categorical\n",
        "\n",
        "train_Y = to_categorical(train_Y0, 10)\n",
        "test_Y = to_categorical(test_Y0, 10)"
      ],
      "execution_count": 29,
      "outputs": []
    },
    {
      "cell_type": "code",
      "metadata": {
        "id": "E7VyT4L2lSzp"
      },
      "source": [
        "model2 = tf.keras.Sequential([\n",
        "    tf.keras.layers.Flatten(input_shape=(28,28)),\n",
        "    tf.keras.layers.Dense(units=128, activation='relu'),\n",
        "    tf.keras.layers.Dense(units=10, activation='softmax')\n",
        "])\n",
        "\n",
        "model2.compile(optimizer=tf.keras.optimizers.Adam(),loss='categorical_crossentropy', metrics=['accuracy'])"
      ],
      "execution_count": 30,
      "outputs": []
    },
    {
      "cell_type": "code",
      "metadata": {
        "colab": {
          "base_uri": "https://localhost:8080/"
        },
        "id": "TWbM6qxGmu2Y",
        "outputId": "74fc2120-d07c-4c51-ef77-1a00f493b7eb"
      },
      "source": [
        "tf.random.set_seed(42)\n",
        "history = model2.fit(train_X, train_Y, epochs=25, validation_split=0.25)"
      ],
      "execution_count": 31,
      "outputs": [
        {
          "output_type": "stream",
          "text": [
            "Epoch 1/25\n",
            "1407/1407 [==============================] - 4s 3ms/step - loss: 0.6608 - accuracy: 0.7712 - val_loss: 0.5280 - val_accuracy: 0.8067\n",
            "Epoch 2/25\n",
            "1407/1407 [==============================] - 4s 3ms/step - loss: 0.4000 - accuracy: 0.8580 - val_loss: 0.3793 - val_accuracy: 0.8647\n",
            "Epoch 3/25\n",
            "1407/1407 [==============================] - 4s 3ms/step - loss: 0.3534 - accuracy: 0.8721 - val_loss: 0.3825 - val_accuracy: 0.8625\n",
            "Epoch 4/25\n",
            "1407/1407 [==============================] - 4s 3ms/step - loss: 0.3305 - accuracy: 0.8812 - val_loss: 0.3485 - val_accuracy: 0.8737\n",
            "Epoch 5/25\n",
            "1407/1407 [==============================] - 4s 3ms/step - loss: 0.3004 - accuracy: 0.8890 - val_loss: 0.3293 - val_accuracy: 0.8839\n",
            "Epoch 6/25\n",
            "1407/1407 [==============================] - 4s 3ms/step - loss: 0.2823 - accuracy: 0.8960 - val_loss: 0.3489 - val_accuracy: 0.8784\n",
            "Epoch 7/25\n",
            "1407/1407 [==============================] - 4s 3ms/step - loss: 0.2769 - accuracy: 0.8988 - val_loss: 0.3315 - val_accuracy: 0.8808\n",
            "Epoch 8/25\n",
            "1407/1407 [==============================] - 4s 3ms/step - loss: 0.2610 - accuracy: 0.9024 - val_loss: 0.3320 - val_accuracy: 0.8807\n",
            "Epoch 9/25\n",
            "1407/1407 [==============================] - 4s 3ms/step - loss: 0.2501 - accuracy: 0.9066 - val_loss: 0.3422 - val_accuracy: 0.8787\n",
            "Epoch 10/25\n",
            "1407/1407 [==============================] - 4s 3ms/step - loss: 0.2465 - accuracy: 0.9071 - val_loss: 0.3220 - val_accuracy: 0.8847\n",
            "Epoch 11/25\n",
            "1407/1407 [==============================] - 4s 3ms/step - loss: 0.2385 - accuracy: 0.9092 - val_loss: 0.3362 - val_accuracy: 0.8864\n",
            "Epoch 12/25\n",
            "1407/1407 [==============================] - 4s 3ms/step - loss: 0.2271 - accuracy: 0.9146 - val_loss: 0.3252 - val_accuracy: 0.8851\n",
            "Epoch 13/25\n",
            "1407/1407 [==============================] - 4s 3ms/step - loss: 0.2119 - accuracy: 0.9211 - val_loss: 0.3460 - val_accuracy: 0.8841\n",
            "Epoch 14/25\n",
            "1407/1407 [==============================] - 4s 3ms/step - loss: 0.2162 - accuracy: 0.9185 - val_loss: 0.3280 - val_accuracy: 0.8837\n",
            "Epoch 15/25\n",
            "1407/1407 [==============================] - 4s 3ms/step - loss: 0.2031 - accuracy: 0.9244 - val_loss: 0.3390 - val_accuracy: 0.8821\n",
            "Epoch 16/25\n",
            "1407/1407 [==============================] - 4s 3ms/step - loss: 0.1967 - accuracy: 0.9263 - val_loss: 0.3356 - val_accuracy: 0.8855\n",
            "Epoch 17/25\n",
            "1407/1407 [==============================] - 4s 3ms/step - loss: 0.1917 - accuracy: 0.9282 - val_loss: 0.3327 - val_accuracy: 0.8911\n",
            "Epoch 18/25\n",
            "1407/1407 [==============================] - 4s 3ms/step - loss: 0.1848 - accuracy: 0.9294 - val_loss: 0.3379 - val_accuracy: 0.8881\n",
            "Epoch 19/25\n",
            "1407/1407 [==============================] - 4s 3ms/step - loss: 0.1847 - accuracy: 0.9297 - val_loss: 0.3372 - val_accuracy: 0.8924\n",
            "Epoch 20/25\n",
            "1407/1407 [==============================] - 4s 3ms/step - loss: 0.1717 - accuracy: 0.9376 - val_loss: 0.3547 - val_accuracy: 0.8839\n",
            "Epoch 21/25\n",
            "1407/1407 [==============================] - 4s 3ms/step - loss: 0.1733 - accuracy: 0.9355 - val_loss: 0.3490 - val_accuracy: 0.8893\n",
            "Epoch 22/25\n",
            "1407/1407 [==============================] - 4s 3ms/step - loss: 0.1648 - accuracy: 0.9391 - val_loss: 0.3526 - val_accuracy: 0.8902\n",
            "Epoch 23/25\n",
            "1407/1407 [==============================] - 4s 3ms/step - loss: 0.1643 - accuracy: 0.9394 - val_loss: 0.3523 - val_accuracy: 0.8869\n",
            "Epoch 24/25\n",
            "1407/1407 [==============================] - 4s 3ms/step - loss: 0.1585 - accuracy: 0.9397 - val_loss: 0.3577 - val_accuracy: 0.8853\n",
            "Epoch 25/25\n",
            "1407/1407 [==============================] - 4s 3ms/step - loss: 0.1566 - accuracy: 0.9403 - val_loss: 0.3716 - val_accuracy: 0.8891\n"
          ],
          "name": "stdout"
        }
      ]
    },
    {
      "cell_type": "code",
      "metadata": {
        "colab": {
          "base_uri": "https://localhost:8080/",
          "height": 283
        },
        "id": "kt_GiXdNpb7R",
        "outputId": "b7cce399-722d-4aac-ce2e-730213413160"
      },
      "source": [
        "plt.figure(figsize=(12,4))\n",
        "\n",
        "plt.subplot(1,2,1)\n",
        "plt.plot(history.history['loss'], 'b-', label='loss')\n",
        "plt.plot(history.history['val_loss'], 'r--', label='val_loss')\n",
        "plt.xlabel('Epoch')\n",
        "plt.legend()\n",
        "\n",
        "plt.subplot(1,2,2)\n",
        "plt.plot(history.history['accuracy'], 'g-', label='accuracy')\n",
        "plt.plot(history.history['val_accuracy'], 'k--', label='val_loss')\n",
        "plt.xlabel('Epoch')\n",
        "plt.ylim(0.7,1)\n",
        "plt.legend()\n",
        "\n",
        "plt.show()"
      ],
      "execution_count": 32,
      "outputs": [
        {
          "output_type": "display_data",
          "data": {
            "image/png": "[encoded data removed]",
            "text/plain": [
              "<Figure size 864x288 with 2 Axes>"
            ]
          },
          "metadata": {
            "tags": [],
            "needs_background": "light"
          }
        }
      ]
    },
    {
      "cell_type": "code",
      "metadata": {
        "colab": {
          "base_uri": "https://localhost:8080/"
        },
        "id": "UkyXrjTppxKx",
        "outputId": "b268f5c1-cf8d-4527-8647-5a3c9558c5f0"
      },
      "source": [
        "model2.evaluate(test_X,test_Y)"
      ],
      "execution_count": 33,
      "outputs": [
        {
          "output_type": "stream",
          "text": [
            "313/313 [==============================] - 1s 2ms/step - loss: 0.4004 - accuracy: 0.8839\n"
          ],
          "name": "stdout"
        },
        {
          "output_type": "execute_result",
          "data": {
            "text/plain": [
              "[0.4003596603870392, 0.883899986743927]"
            ]
          },
          "metadata": {
            "tags": []
          },
          "execution_count": 33
        }
      ]
    },
    {
      "cell_type": "markdown",
      "metadata": {
        "id": "XNUbDWS_qnfN"
      },
      "source": [
        "## 3. best_MLP"
      ]
    },
    {
      "cell_type": "code",
      "metadata": {
        "id": "KLbl1rbFw_vt"
      },
      "source": [
        "from keras.models import Sequential\n",
        "from keras.layers import Conv2D, MaxPool2D, Flatten, Dense, Dropout\n",
        "from keras.callbacks import ModelCheckpoint, EarlyStopping"
      ],
      "execution_count": 34,
      "outputs": []
    },
    {
      "cell_type": "code",
      "metadata": {
        "id": "7FF_5b3Bu0gj"
      },
      "source": [
        "fashion_mnist = tf.keras.datasets.fashion_mnist\n",
        "(train_X0, train_Y0), (test_X0, test_Y0) = fashion_mnist.load_data()\n",
        "\n",
        "# Reshape\n",
        "train_X = train_X0.reshape(60000,28,28,1)\n",
        "test_X = test_X0.reshape(10000,28,28,1)"
      ],
      "execution_count": 35,
      "outputs": []
    },
    {
      "cell_type": "code",
      "metadata": {
        "id": "1rnMUfr-vl9_"
      },
      "source": [
        "train_X = train_X0 / 255.0\n",
        "test_X = test_X0 / 255.0"
      ],
      "execution_count": 36,
      "outputs": []
    },
    {
      "cell_type": "code",
      "metadata": {
        "id": "uouZQTvkwA1Q"
      },
      "source": [
        "from keras.utils import to_categorical\n",
        "\n",
        "train_Y = to_categorical(train_Y0, 10)\n",
        "test_Y = to_categorical(test_Y0, 10)"
      ],
      "execution_count": 37,
      "outputs": []
    },
    {
      "cell_type": "code",
      "metadata": {
        "id": "NqvoUcyxjSLM"
      },
      "source": [
        "model3 = tf.keras.Sequential([\n",
        "    tf.keras.layers.Flatten(input_shape=(28,28)),\n",
        "    tf.keras.layers.Dense(units=256, activation='relu'),\n",
        "    tf.keras.layers.Dense(units=128, activation='relu'),\n",
        "    tf.keras.layers.Dense(units=100, activation='relu'),\n",
        "    tf.keras.layers.Dense(units=10, activation='softmax')\n",
        "])\n",
        "\n",
        "model3.compile(optimizer=tf.keras.optimizers.Adam(),loss='categorical_crossentropy', metrics=['accuracy'])"
      ],
      "execution_count": 38,
      "outputs": []
    },
    {
      "cell_type": "code",
      "metadata": {
        "colab": {
          "base_uri": "https://localhost:8080/"
        },
        "id": "PpuMcWaVkLNj",
        "outputId": "14571a1b-dc2f-49fd-daf6-5fcee3f00402"
      },
      "source": [
        "tf.random.set_seed(42)\n",
        "history = model3.fit(train_X, train_Y, epochs=25, batch_size=32,  validation_split=0.25)"
      ],
      "execution_count": 43,
      "outputs": [
        {
          "output_type": "stream",
          "text": [
            "Epoch 1/25\n",
            "1407/1407 [==============================] - 5s 3ms/step - loss: 0.2334 - accuracy: 0.9134 - val_loss: 0.3848 - val_accuracy: 0.8853\n",
            "Epoch 2/25\n",
            "1407/1407 [==============================] - 4s 3ms/step - loss: 0.1796 - accuracy: 0.9308 - val_loss: 0.4096 - val_accuracy: 0.8856\n",
            "Epoch 3/25\n",
            "1407/1407 [==============================] - 5s 3ms/step - loss: 0.1634 - accuracy: 0.9382 - val_loss: 0.3744 - val_accuracy: 0.8859\n",
            "Epoch 4/25\n",
            "1407/1407 [==============================] - 5s 3ms/step - loss: 0.1606 - accuracy: 0.9381 - val_loss: 0.3753 - val_accuracy: 0.8951\n",
            "Epoch 5/25\n",
            "1407/1407 [==============================] - 5s 3ms/step - loss: 0.1525 - accuracy: 0.9420 - val_loss: 0.3968 - val_accuracy: 0.8911\n",
            "Epoch 6/25\n",
            "1407/1407 [==============================] - 4s 3ms/step - loss: 0.1493 - accuracy: 0.9429 - val_loss: 0.4152 - val_accuracy: 0.8866\n",
            "Epoch 7/25\n",
            "1407/1407 [==============================] - 5s 3ms/step - loss: 0.1469 - accuracy: 0.9448 - val_loss: 0.3997 - val_accuracy: 0.8919\n",
            "Epoch 8/25\n",
            "1407/1407 [==============================] - 5s 3ms/step - loss: 0.1424 - accuracy: 0.9454 - val_loss: 0.4211 - val_accuracy: 0.8861\n",
            "Epoch 9/25\n",
            "1407/1407 [==============================] - 5s 3ms/step - loss: 0.1427 - accuracy: 0.9457 - val_loss: 0.4029 - val_accuracy: 0.8919\n",
            "Epoch 10/25\n",
            "1407/1407 [==============================] - 5s 3ms/step - loss: 0.1335 - accuracy: 0.9483 - val_loss: 0.4169 - val_accuracy: 0.8945\n",
            "Epoch 11/25\n",
            "1407/1407 [==============================] - 5s 3ms/step - loss: 0.1317 - accuracy: 0.9502 - val_loss: 0.4166 - val_accuracy: 0.8917\n",
            "Epoch 12/25\n",
            "1407/1407 [==============================] - 5s 3ms/step - loss: 0.1325 - accuracy: 0.9500 - val_loss: 0.4263 - val_accuracy: 0.8905\n",
            "Epoch 13/25\n",
            "1407/1407 [==============================] - 5s 3ms/step - loss: 0.1255 - accuracy: 0.9526 - val_loss: 0.4463 - val_accuracy: 0.8940\n",
            "Epoch 14/25\n",
            "1407/1407 [==============================] - 5s 3ms/step - loss: 0.1152 - accuracy: 0.9572 - val_loss: 0.4818 - val_accuracy: 0.8911\n",
            "Epoch 15/25\n",
            "1407/1407 [==============================] - 5s 3ms/step - loss: 0.1206 - accuracy: 0.9548 - val_loss: 0.5166 - val_accuracy: 0.8820\n",
            "Epoch 16/25\n",
            "1407/1407 [==============================] - 5s 3ms/step - loss: 0.1204 - accuracy: 0.9540 - val_loss: 0.4978 - val_accuracy: 0.8953\n",
            "Epoch 17/25\n",
            "1407/1407 [==============================] - 5s 3ms/step - loss: 0.1140 - accuracy: 0.9574 - val_loss: 0.4479 - val_accuracy: 0.8985\n",
            "Epoch 18/25\n",
            "1407/1407 [==============================] - 5s 3ms/step - loss: 0.1100 - accuracy: 0.9578 - val_loss: 0.4782 - val_accuracy: 0.8932\n",
            "Epoch 19/25\n",
            "1407/1407 [==============================] - 5s 3ms/step - loss: 0.1103 - accuracy: 0.9578 - val_loss: 0.4622 - val_accuracy: 0.8921\n",
            "Epoch 20/25\n",
            "1407/1407 [==============================] - 4s 3ms/step - loss: 0.1084 - accuracy: 0.9593 - val_loss: 0.5147 - val_accuracy: 0.8887\n",
            "Epoch 21/25\n",
            "1407/1407 [==============================] - 5s 3ms/step - loss: 0.1039 - accuracy: 0.9607 - val_loss: 0.5490 - val_accuracy: 0.8873\n",
            "Epoch 22/25\n",
            "1407/1407 [==============================] - 5s 3ms/step - loss: 0.1023 - accuracy: 0.9614 - val_loss: 0.5394 - val_accuracy: 0.8897\n",
            "Epoch 23/25\n",
            "1407/1407 [==============================] - 5s 3ms/step - loss: 0.1020 - accuracy: 0.9610 - val_loss: 0.5189 - val_accuracy: 0.8941\n",
            "Epoch 24/25\n",
            "1407/1407 [==============================] - 5s 3ms/step - loss: 0.0946 - accuracy: 0.9635 - val_loss: 0.5435 - val_accuracy: 0.8850\n",
            "Epoch 25/25\n",
            "1407/1407 [==============================] - 5s 3ms/step - loss: 0.1008 - accuracy: 0.9613 - val_loss: 0.5341 - val_accuracy: 0.8917\n"
          ],
          "name": "stdout"
        }
      ]
    },
    {
      "cell_type": "code",
      "metadata": {
        "colab": {
          "base_uri": "https://localhost:8080/",
          "height": 283
        },
        "id": "JGFui279kTeJ",
        "outputId": "7f4701fd-450f-4bc8-dd60-0018d9976152"
      },
      "source": [
        "plt.figure(figsize=(12,4))\n",
        "\n",
        "plt.subplot(1,2,1)\n",
        "plt.plot(history.history['loss'], 'b-', label='loss')\n",
        "plt.plot(history.history['val_loss'], 'r--', label='val_loss')\n",
        "plt.xlabel('Epoch')\n",
        "plt.legend()\n",
        "\n",
        "plt.subplot(1,2,2)\n",
        "plt.plot(history.history['accuracy'], 'g-', label='accuracy')\n",
        "plt.plot(history.history['val_accuracy'], 'k--', label='val_loss')\n",
        "plt.xlabel('Epoch')\n",
        "plt.ylim(0.7,1)\n",
        "plt.legend()\n",
        "\n",
        "plt.show()"
      ],
      "execution_count": 44,
      "outputs": [
        {
          "output_type": "display_data",
          "data": {
            "image/png": "[encoded data removed]",
            "text/plain": [
              "<Figure size 864x288 with 2 Axes>"
            ]
          },
          "metadata": {
            "tags": [],
            "needs_background": "light"
          }
        }
      ]
    },
    {
      "cell_type": "code",
      "metadata": {
        "colab": {
          "base_uri": "https://localhost:8080/"
        },
        "id": "7MkS5nu5x30V",
        "outputId": "83669846-f7c3-44e4-bec0-1575364117af"
      },
      "source": [
        "model3.evaluate(test_X,test_Y)"
      ],
      "execution_count": 45,
      "outputs": [
        {
          "output_type": "stream",
          "text": [
            "313/313 [==============================] - 1s 2ms/step - loss: 0.6145 - accuracy: 0.8853\n"
          ],
          "name": "stdout"
        },
        {
          "output_type": "execute_result",
          "data": {
            "text/plain": [
              "[0.614494264125824, 0.8852999806404114]"
            ]
          },
          "metadata": {
            "tags": []
          },
          "execution_count": 45
        }
      ]
    }
  ]
}