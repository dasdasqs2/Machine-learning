{
  "nbformat": 4,
  "nbformat_minor": 0,
  "metadata": {
    "colab": {
      "name": "wk9_0429.ipynb",
      "provenance": [],
      "authorship_tag": "ABX9TyNDhWHFIdAgjXvgP4cST4Gx",
      "include_colab_link": true
    },
    "kernelspec": {
      "name": "python3",
      "display_name": "Python 3"
    },
    "language_info": {
      "name": "python"
    }
  },
  "cells": [
    {
      "cell_type": "markdown",
      "metadata": {
        "id": "view-in-github",
        "colab_type": "text"
      },
      "source": [
        "<a href=\"https://colab.research.google.com/github/dasdasqs2/Machine-learning/blob/main/wk9_0429.ipynb\" target=\"_parent\"><img src=\"https://colab.research.google.com/assets/colab-badge.svg\" alt=\"Open In Colab\"/></a>"
      ]
    },
    {
      "cell_type": "code",
      "metadata": {
        "id": "xN-lX28hEaEY"
      },
      "source": [
        ""
      ],
      "execution_count": null,
      "outputs": []
    },
    {
      "cell_type": "markdown",
      "metadata": {
        "id": "gdG_BkBrGY7c"
      },
      "source": [
        "- Vanishing gradient : 좌우 아래쪽에 기울기가 0에 가깝게 나타나는 현상\n",
        "=> Relu로 해결 가능."
      ]
    },
    {
      "cell_type": "markdown",
      "metadata": {
        "id": "S3BRjl4FPIIM"
      },
      "source": [
        "## Data fitting problem solution\n",
        "- data 개수를 늘린다.\n",
        "- feature 개수를 낮춘다.\n",
        "- weight 조건 => regularization\n"
      ]
    }
  ]
}