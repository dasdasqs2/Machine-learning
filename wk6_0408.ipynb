{
  "nbformat": 4,
  "nbformat_minor": 0,
  "metadata": {
    "colab": {
      "name": "wk6_0408.ipynb",
      "provenance": [],
      "collapsed_sections": [],
      "authorship_tag": "ABX9TyPwtcqJ+sjoJ+VMgNyholjW",
      "include_colab_link": true
    },
    "kernelspec": {
      "name": "python3",
      "display_name": "Python 3"
    },
    "language_info": {
      "name": "python"
    }
  },
  "cells": [
    {
      "cell_type": "markdown",
      "metadata": {
        "id": "view-in-github",
        "colab_type": "text"
      },
      "source": [
        "<a href=\"https://colab.research.google.com/github/dasdasqs2/Machine-learning/blob/main/wk6_0408.ipynb\" target=\"_parent\"><img src=\"https://colab.research.google.com/assets/colab-badge.svg\" alt=\"Open In Colab\"/></a>"
      ]
    },
    {
      "cell_type": "code",
      "metadata": {
        "id": "fOOj1Vsc8tHq"
      },
      "source": [
        "import tensorflow as tf\n",
        "import numpy as np\n",
        "import matplotlib.pyplot as plt\n",
        "%matplotlib inline\n",
        "\n",
        "tf.random.set_seed(42)"
      ],
      "execution_count": 5,
      "outputs": []
    },
    {
      "cell_type": "markdown",
      "metadata": {
        "id": "9Fhb6jSR-ud5"
      },
      "source": [
        "## Diabetes data"
      ]
    },
    {
      "cell_type": "code",
      "metadata": {
        "colab": {
          "base_uri": "https://localhost:8080/"
        },
        "id": "hRE1K_Ya-ycI",
        "outputId": "7f11a9c7-7326-422b-eb9e-640ae356305d"
      },
      "source": [
        "xy = np.loadtxt('diabetes_data.csv', delimiter=',', dtype=np.float32)\n",
        "x_train = xy[:, 0:-1]\n",
        "y_train = xy[:,[-1]]\n",
        "\n",
        "print(x_train.shape, y_train.shape)\n",
        "print(xy)"
      ],
      "execution_count": 11,
      "outputs": [
        {
          "output_type": "stream",
          "text": [
            "(759, 8) (759, 1)\n",
            "[[-0.294118   0.487437   0.180328  ... -0.53117   -0.0333333  0.       ]\n",
            " [-0.882353  -0.145729   0.0819672 ... -0.766866  -0.666667   1.       ]\n",
            " [-0.0588235  0.839196   0.0491803 ... -0.492741  -0.633333   0.       ]\n",
            " ...\n",
            " [-0.411765   0.21608    0.180328  ... -0.857387  -0.7        1.       ]\n",
            " [-0.882353   0.266332  -0.0163934 ... -0.768574  -0.133333   0.       ]\n",
            " [-0.882353  -0.0653266  0.147541  ... -0.797609  -0.933333   1.       ]]\n"
          ],
          "name": "stdout"
        }
      ]
    },
    {
      "cell_type": "code",
      "metadata": {
        "id": "BS5dXfTO_Hit"
      },
      "source": [
        "dataset = tf.data.Dataset.from_tensor_slices((x_train,y_train)).batch(len(x_train))"
      ],
      "execution_count": 13,
      "outputs": []
    },
    {
      "cell_type": "code",
      "metadata": {
        "id": "TCga3K0B_XJl"
      },
      "source": [
        "def logistic_regression(features): # features : x_train\n",
        "  # hypothesis = tf.divide(1., 1. + tf.exp(-tf.matmul(features, W) -b)) # 또는 tf.sigmoid(z)\n",
        "  z = tf.matmul(features, W) + b\n",
        "  hypothesis = tf.sigmoid(z)\n",
        "  return hypothesis"
      ],
      "execution_count": 14,
      "outputs": []
    },
    {
      "cell_type": "code",
      "metadata": {
        "id": "FCEbBXWN_ckj"
      },
      "source": [
        "def cost_fn(hypothesis, feature, y):\n",
        "  cost = -tf.reduce_mean(y * tf.math.log(hypothesis) + (1-y) * tf.math.log(1-hypothesis))\n",
        "  return cost"
      ],
      "execution_count": 15,
      "outputs": []
    },
    {
      "cell_type": "code",
      "metadata": {
        "id": "Ccln3ZhGAQfi"
      },
      "source": [
        "def loss_fn(hypothesis, features, labels):\n",
        "  cost = -tf.reduce_mean(labels + tf.math.log(logistic_regression(features)) + (1-labels) * tf.math.log(1-hypothesis))\n",
        "  return cost\n",
        "\n",
        "optimizer = tf.keras.optimizers.SGD(learning_rate=0.01)"
      ],
      "execution_count": 21,
      "outputs": []
    },
    {
      "cell_type": "code",
      "metadata": {
        "colab": {
          "base_uri": "https://localhost:8080/"
        },
        "id": "QBK56icKAWO5",
        "outputId": "1b7e0226-456d-45b6-c107-52756b946f68"
      },
      "source": [
        "# training 1\n",
        "\n",
        "EPOCHS = 1001\n",
        "learning_rate = 0.01\n",
        "\n",
        "tf.random.set_seed(42)\n",
        "\n",
        "W = tf.Variable(tf.random.normal((8,1)), name='weight')\n",
        "b = tf.Variable(tf.random.normal((1,)), name='bias')\n",
        "\n",
        "for step in range(EPOCHS):\n",
        "  for features, labels in iter(dataset):\n",
        "    with tf.GradientTape() as tape:\n",
        "      loss_value = cost_fn(logistic_regression(features), features, labels)\n",
        "\n",
        "    W_grad, b_grad = tape.gradient(loss_value, [W,b])\n",
        "    W.assign_sub(learning_rate * W_grad)\n",
        "    b.assign_sub(learning_rate * b_grad)\n",
        "    \n",
        "\n",
        "    if step % 100 == 0:\n",
        "      print(\"W: {}, b: {}, Iter: {}, Loss: {:.4f}\".format(W.numpy(), b.numpy(), step, cost_fn(logistic_regression(features),features,labels)))"
      ],
      "execution_count": 31,
      "outputs": [
        {
          "output_type": "stream",
          "text": [
            "W: [[ 0.32733613]\n",
            " [-0.84319   ]\n",
            " [ 0.31924596]\n",
            " [-1.4073014 ]\n",
            " [-2.387564  ]\n",
            " [-1.0394094 ]\n",
            " [-0.55714643]\n",
            " [ 0.53974706]], b: [0.08372047], Iter: 0, Loss: 0.6177\n",
            "W: [[ 0.31157023]\n",
            " [-0.89734304]\n",
            " [ 0.30192   ]\n",
            " [-1.383927  ]\n",
            " [-2.339674  ]\n",
            " [-1.0554715 ]\n",
            " [-0.544102  ]\n",
            " [ 0.54020196]], b: [0.04034932], Iter: 100, Loss: 0.6090\n",
            "W: [[ 0.29191995]\n",
            " [-0.94770527]\n",
            " [ 0.28696457]\n",
            " [-1.3632902 ]\n",
            " [-2.2947025 ]\n",
            " [-1.0713274 ]\n",
            " [-0.53839856]\n",
            " [ 0.5351009 ]], b: [0.00824966], Iter: 200, Loss: 0.6021\n",
            "W: [[ 0.26972958]\n",
            " [-0.9951118 ]\n",
            " [ 0.27378613]\n",
            " [-1.3446898 ]\n",
            " [-2.2520504 ]\n",
            " [-1.0869464 ]\n",
            " [-0.53783727]\n",
            " [ 0.52620924]], b: [-0.01577414], Iter: 300, Loss: 0.5961\n",
            "W: [[ 0.24597195]\n",
            " [-1.0401696 ]\n",
            " [ 0.26195148]\n",
            " [-1.3276025 ]\n",
            " [-2.2112594 ]\n",
            " [-1.1023059 ]\n",
            " [-0.54082316]\n",
            " [ 0.51480454]], b: [-0.03404423], Iter: 400, Loss: 0.5907\n",
            "W: [[ 0.22133607]\n",
            " [-1.083316  ]\n",
            " [ 0.25114992]\n",
            " [-1.3116469 ]\n",
            " [-2.1719856 ]\n",
            " [-1.1173913 ]\n",
            " [-0.54621977]\n",
            " [ 0.501795  ]], b: [-0.04821821], Iter: 500, Loss: 0.5857\n",
            "W: [[ 0.19630274]\n",
            " [-1.1248647 ]\n",
            " [ 0.24116036]\n",
            " [-1.2965521 ]\n",
            " [-2.1339762 ]\n",
            " [-1.1321945 ]\n",
            " [-0.5532286 ]\n",
            " [ 0.48781547]], b: [-0.05946564], Iter: 600, Loss: 0.5810\n",
            "W: [[ 0.17120302]\n",
            " [-1.1650412 ]\n",
            " [ 0.23182538]\n",
            " [-1.2821275 ]\n",
            " [-2.0970533 ]\n",
            " [-1.1467123 ]\n",
            " [-0.561293  ]\n",
            " [ 0.47330627]], b: [-0.0686059], Iter: 700, Loss: 0.5765\n",
            "W: [[ 0.14626157]\n",
            " [-1.2040092 ]\n",
            " [ 0.22303315]\n",
            " [-1.2682389 ]\n",
            " [-2.0610862 ]\n",
            " [-1.1609448 ]\n",
            " [-0.57002723]\n",
            " [ 0.45856953]], b: [-0.07621045], Iter: 800, Loss: 0.5723\n",
            "W: [[ 0.1216289 ]\n",
            " [-1.2418897 ]\n",
            " [ 0.21470372]\n",
            " [-1.2547944 ]\n",
            " [-2.025982  ]\n",
            " [-1.1748949 ]\n",
            " [-0.5791654 ]\n",
            " [ 0.4438107 ]], b: [-0.08267704], Iter: 900, Loss: 0.5682\n",
            "W: [[ 0.0974042 ]\n",
            " [-1.2787716 ]\n",
            " [ 0.20677911]\n",
            " [-1.2417285 ]\n",
            " [-1.9916734 ]\n",
            " [-1.188567  ]\n",
            " [-0.5885255 ]\n",
            " [ 0.4291678 ]], b: [-0.08828263], Iter: 1000, Loss: 0.5643\n"
          ],
          "name": "stdout"
        }
      ]
    },
    {
      "cell_type": "code",
      "metadata": {
        "colab": {
          "base_uri": "https://localhost:8080/"
        },
        "id": "4JRbVGGT_eAC",
        "outputId": "a81b5b0b-b939-44d7-8726-356ba8fbfd7d"
      },
      "source": [
        "# training 2\n",
        "\n",
        "EPOCHS = 1001\n",
        "\n",
        "tf.random.set_seed(42)\n",
        "\n",
        "W = tf.Variable(tf.random.normal((8,1)), name='weight')\n",
        "b = tf.Variable(tf.random.normal((1,)), name='bias')\n",
        "\n",
        "optimizer = tf.keras.optimizers.SGD(learning_rate=0.01)\n",
        "\n",
        "for step in range(EPOCHS):\n",
        "  for features, labels in iter(dataset):\n",
        "    with tf.GradientTape() as tape:\n",
        "      loss_value = cost_fn(logistic_regression(features), features, labels)\n",
        "\n",
        "    grads = tape.gradient(loss_value, [W,b])\n",
        "    optimizer.apply_gradients(grads_and_vars=zip(grads,[W,b]))\n",
        "\n",
        "    if step % 100 == 0:\n",
        "      print(\"W: {}, b: {}, Iter: {}, Loss: {:.4f}\".format(W.numpy(), b.numpy(), step, cost_fn(logistic_regression(features),features,labels)))"
      ],
      "execution_count": 30,
      "outputs": [
        {
          "output_type": "stream",
          "text": [
            "W: [[ 0.32733613]\n",
            " [-0.84319   ]\n",
            " [ 0.31924596]\n",
            " [-1.4073014 ]\n",
            " [-2.387564  ]\n",
            " [-1.0394094 ]\n",
            " [-0.55714643]\n",
            " [ 0.53974706]], b: [0.08372047], Iter: 0, Loss: 0.6177\n",
            "W: [[ 0.31157023]\n",
            " [-0.89734304]\n",
            " [ 0.30192   ]\n",
            " [-1.383927  ]\n",
            " [-2.339674  ]\n",
            " [-1.0554715 ]\n",
            " [-0.544102  ]\n",
            " [ 0.54020196]], b: [0.04034932], Iter: 100, Loss: 0.6090\n",
            "W: [[ 0.29191995]\n",
            " [-0.94770527]\n",
            " [ 0.28696457]\n",
            " [-1.3632902 ]\n",
            " [-2.2947025 ]\n",
            " [-1.0713274 ]\n",
            " [-0.53839856]\n",
            " [ 0.5351009 ]], b: [0.00824967], Iter: 200, Loss: 0.6021\n",
            "W: [[ 0.26972958]\n",
            " [-0.9951118 ]\n",
            " [ 0.27378613]\n",
            " [-1.3446898 ]\n",
            " [-2.2520504 ]\n",
            " [-1.0869464 ]\n",
            " [-0.53783727]\n",
            " [ 0.5262093 ]], b: [-0.01577413], Iter: 300, Loss: 0.5961\n",
            "W: [[ 0.24597195]\n",
            " [-1.0401696 ]\n",
            " [ 0.2619515 ]\n",
            " [-1.3276025 ]\n",
            " [-2.2112594 ]\n",
            " [-1.1023059 ]\n",
            " [-0.54082316]\n",
            " [ 0.5148046 ]], b: [-0.03404422], Iter: 400, Loss: 0.5907\n",
            "W: [[ 0.22133607]\n",
            " [-1.083316  ]\n",
            " [ 0.25114995]\n",
            " [-1.3116469 ]\n",
            " [-2.1719856 ]\n",
            " [-1.1173913 ]\n",
            " [-0.54621977]\n",
            " [ 0.50179505]], b: [-0.04821819], Iter: 500, Loss: 0.5857\n",
            "W: [[ 0.19630276]\n",
            " [-1.1248647 ]\n",
            " [ 0.2411604 ]\n",
            " [-1.2965521 ]\n",
            " [-2.1339762 ]\n",
            " [-1.1321945 ]\n",
            " [-0.5532286 ]\n",
            " [ 0.48781553]], b: [-0.05946562], Iter: 600, Loss: 0.5810\n",
            "W: [[ 0.17120303]\n",
            " [-1.1650412 ]\n",
            " [ 0.23182541]\n",
            " [-1.2821275 ]\n",
            " [-2.0970533 ]\n",
            " [-1.1467123 ]\n",
            " [-0.561293  ]\n",
            " [ 0.47330633]], b: [-0.06860588], Iter: 700, Loss: 0.5765\n",
            "W: [[ 0.14626159]\n",
            " [-1.2040092 ]\n",
            " [ 0.22303317]\n",
            " [-1.2682389 ]\n",
            " [-2.0610862 ]\n",
            " [-1.1609448 ]\n",
            " [-0.57002723]\n",
            " [ 0.4585696 ]], b: [-0.07621043], Iter: 800, Loss: 0.5723\n",
            "W: [[ 0.12162891]\n",
            " [-1.2418897 ]\n",
            " [ 0.21470375]\n",
            " [-1.2547944 ]\n",
            " [-2.025982  ]\n",
            " [-1.1748949 ]\n",
            " [-0.5791654 ]\n",
            " [ 0.44381076]], b: [-0.08267702], Iter: 900, Loss: 0.5682\n",
            "W: [[ 0.09740422]\n",
            " [-1.2787716 ]\n",
            " [ 0.20677914]\n",
            " [-1.2417285 ]\n",
            " [-1.9916734 ]\n",
            " [-1.188567  ]\n",
            " [-0.5885255 ]\n",
            " [ 0.42916787]], b: [-0.08828261], Iter: 1000, Loss: 0.5643\n"
          ],
          "name": "stdout"
        }
      ]
    },
    {
      "cell_type": "markdown",
      "metadata": {
        "id": "Ck89dgL2QFrM"
      },
      "source": [
        "## Toy data"
      ]
    },
    {
      "cell_type": "code",
      "metadata": {
        "id": "iMkA0aV7QHXq"
      },
      "source": [
        "x_data = [[1,2,1,1],[2,1,3,2],[3,1,3,4],[4,1,5,5],[1,7,5,5],[1,2,5,6],[1,6,6,6],[1,7,7,7]]\n",
        "\n",
        "#one-hot encoding style\n",
        "y_data = [[0,0,1],[0,0,1],[0,0,1],[0,1,0],[0,1,0],[0,1,0],[1,0,0],[1,0,0]]\n",
        "\n",
        "#convert into numpy and float format\n",
        "x_data = np.asarray(x_data, dtype = np.float32)\n",
        "y_data = np.asarray(y_data, dtype = np.float32)"
      ],
      "execution_count": 39,
      "outputs": []
    },
    {
      "cell_type": "code",
      "metadata": {
        "colab": {
          "base_uri": "https://localhost:8080/"
        },
        "id": "GN9uhRigQukN",
        "outputId": "61035e62-436a-4419-cedd-4cf671d9e2aa"
      },
      "source": [
        "nb_classes = 3\n",
        "\n",
        "print(x_data.shape)\n",
        "print(y_data.shape)"
      ],
      "execution_count": 40,
      "outputs": [
        {
          "output_type": "stream",
          "text": [
            "(8, 4)\n",
            "(8, 3)\n"
          ],
          "name": "stdout"
        }
      ]
    },
    {
      "cell_type": "code",
      "metadata": {
        "colab": {
          "base_uri": "https://localhost:8080/"
        },
        "id": "XBOdevCkRfCt",
        "outputId": "0d471510-1133-4183-9e49-4dd9af13dced"
      },
      "source": [
        "tf.random.set_seed(42)\n",
        "\n",
        "W = tf.Variable(tf.random.normal((4, nb_classes)), name='weight')\n",
        "b = tf.Variable(tf.random.normal((nb_classes,)), name='bias')\n",
        "variables = [W, b]\n",
        "\n",
        "print(W.numpy(), b.numpy())"
      ],
      "execution_count": 63,
      "outputs": [
        {
          "output_type": "stream",
          "text": [
            "[[ 0.3274685  -0.8426258   0.3194337 ]\n",
            " [-1.4075519  -2.3880599  -1.0392479 ]\n",
            " [-0.5573232   0.539707    1.6994323 ]\n",
            " [ 0.28893656 -1.5066116  -0.26454744]] [ 0.08422458 -0.86090374  0.37812304]\n"
          ],
          "name": "stdout"
        }
      ]
    },
    {
      "cell_type": "code",
      "metadata": {
        "colab": {
          "base_uri": "https://localhost:8080/"
        },
        "id": "Xrdy4oprR1j1",
        "outputId": "55ac38d6-64c1-4a6a-e471-8db265ef34ee"
      },
      "source": [
        "# softmax\n",
        "def hypothesis(X):\n",
        "  return tf.nn.softmax(tf.matmul(X, W) + b)\n",
        "\n",
        "print(hypothesis(x_data))"
      ],
      "execution_count": 64,
      "outputs": [
        {
          "output_type": "stream",
          "text": [
            "tf.Tensor(\n",
            "[[6.14394099e-02 5.18557208e-04 9.38042045e-01]\n",
            " [1.81572989e-03 1.88858321e-05 9.98165429e-01]\n",
            " [5.51678007e-03 4.90921536e-07 9.94482756e-01]\n",
            " [1.06589345e-04 4.38476322e-09 9.99893427e-01]\n",
            " [1.14175309e-05 4.37850659e-11 9.99988556e-01]\n",
            " [1.25215898e-04 1.07340261e-08 9.99874711e-01]\n",
            " [3.00473948e-06 1.52766064e-11 9.99997020e-01]\n",
            " [3.78559264e-07 3.59057185e-13 9.99999642e-01]], shape=(8, 3), dtype=float32)\n"
          ],
          "name": "stdout"
        }
      ]
    },
    {
      "cell_type": "code",
      "metadata": {
        "colab": {
          "base_uri": "https://localhost:8080/"
        },
        "id": "yJkFPm8NSCjE",
        "outputId": "70cf40e2-7975-4c53-c7af-9cab4befb174"
      },
      "source": [
        "sample_db = [[8,2,1,4]]\n",
        "sample_db = np.asarray(sample_db, dtype=np.float32)\n",
        "\n",
        "print(hypothesis(sample_db))"
      ],
      "execution_count": 43,
      "outputs": [
        {
          "output_type": "stream",
          "text": [
            "tf.Tensor([[2.6716635e-01 2.8614273e-09 7.3283368e-01]], shape=(1, 3), dtype=float32)\n"
          ],
          "name": "stdout"
        }
      ]
    },
    {
      "cell_type": "code",
      "metadata": {
        "id": "SgrvGI-8SOVm"
      },
      "source": [
        "def cost_fn(X, Y):\n",
        "  logits = hypothesis(X)\n",
        "  cost = -tf.reduce_sum(Y * tf.math.log(logits), axis=1)\n",
        "  cost_mean = tf.reduce_mean(cost)\n",
        "\n",
        "  return cost_mean"
      ],
      "execution_count": 65,
      "outputs": []
    },
    {
      "cell_type": "code",
      "metadata": {
        "colab": {
          "base_uri": "https://localhost:8080/"
        },
        "id": "Be0NEyP5Sdar",
        "outputId": "1a49e5a3-8b85-45fd-fc69-be72c18e4fe1"
      },
      "source": [
        "def grad_fn(X,Y):\n",
        "  with tf.GradientTape() as tape:\n",
        "    loss = cost_fn(X, Y)\n",
        "    grads = tape.gradient(loss, variables)\n",
        "\n",
        "    return grads\n",
        "\n",
        "print(grad_fn(x_data, y_data))"
      ],
      "execution_count": 66,
      "outputs": [
        {
          "output_type": "stream",
          "text": [
            "[<tf.Tensor: shape=(4, 3), dtype=float32, numpy=\n",
            "array([[-0.23972654, -0.74993026,  0.9896568 ],\n",
            "       [-1.6086664 , -1.2498679 ,  2.8585343 ],\n",
            "       [-1.6144158 , -1.8749278 ,  3.4893436 ],\n",
            "       [-1.6139375 , -1.9999301 ,  3.6138678 ]], dtype=float32)>, <tf.Tensor: shape=(3,), dtype=float32, numpy=array([-0.24137267, -0.37493277,  0.6163054 ], dtype=float32)>]\n"
          ],
          "name": "stdout"
        }
      ]
    },
    {
      "cell_type": "code",
      "metadata": {
        "colab": {
          "base_uri": "https://localhost:8080/"
        },
        "id": "AliefRbQStsl",
        "outputId": "06db0405-bb42-4e63-e2d2-efe851a556b6"
      },
      "source": [
        "def fit(X,Y,epochs=200, verbose=100):\n",
        "  optimizer = tf.keras.optimizers.SGD(learning_rate=0.1)\n",
        "\n",
        "  for i in range(epochs):\n",
        "    grads = grad_fn(X,Y)\n",
        "    optimizer.apply_gradients(zip(grads, variables))\n",
        "    if (i==0) | ((i+1)%verbose==0):\n",
        "      print('Loss at epoch %d: %f' %(i+1, cost_fn(X,Y).numpy()))\n",
        "\n",
        "fit(x_data, y_data)"
      ],
      "execution_count": 73,
      "outputs": [
        {
          "output_type": "stream",
          "text": [
            "Loss at epoch 1: 5.996902\n",
            "Loss at epoch 100: 0.755535\n",
            "Loss at epoch 200: 0.683668\n"
          ],
          "name": "stdout"
        }
      ]
    },
    {
      "cell_type": "markdown",
      "metadata": {
        "id": "aqn3bBStVYr2"
      },
      "source": [
        "### Prediction"
      ]
    },
    {
      "cell_type": "code",
      "metadata": {
        "colab": {
          "base_uri": "https://localhost:8080/"
        },
        "id": "TYad6g9xT4SF",
        "outputId": "65eed3f6-5179-42d6-ce53-8d872575866f"
      },
      "source": [
        "sample_data = [[2,1,3,2]]\n",
        "sample_data = np.asarray(sample_data, dtype = np.float32)\n",
        "\n",
        "a = hypothesis(sample_data)\n",
        "\n",
        "print(a)\n",
        "print(tf.argmax(a,1))"
      ],
      "execution_count": 74,
      "outputs": [
        {
          "output_type": "stream",
          "text": [
            "tf.Tensor([[0.01092461 0.16124442 0.827831  ]], shape=(1, 3), dtype=float32)\n",
            "tf.Tensor([2], shape=(1,), dtype=int64)\n"
          ],
          "name": "stdout"
        }
      ]
    },
    {
      "cell_type": "code",
      "metadata": {
        "colab": {
          "base_uri": "https://localhost:8080/"
        },
        "id": "3YPvg29UUTx4",
        "outputId": "f67e5a9f-aa48-44de-fbcf-70a98a8ba95f"
      },
      "source": [
        "b = hypothesis(x_data)\n",
        "print(b)\n",
        "print(tf.argmax(b,1))\n",
        "print(tf.argmax(y_data, 1))"
      ],
      "execution_count": 75,
      "outputs": [
        {
          "output_type": "stream",
          "text": [
            "tf.Tensor(\n",
            "[[0.040218   0.04007221 0.9197098 ]\n",
            " [0.01092461 0.1612444  0.827831  ]\n",
            " [0.01666104 0.25118652 0.73215246]\n",
            " [0.00401505 0.46371803 0.53226686]\n",
            " [0.92029846 0.04604038 0.03366122]\n",
            " [0.5748588  0.41796598 0.0071752 ]\n",
            " [0.8981068  0.09377893 0.00811421]\n",
            " [0.9432748  0.05498048 0.00174477]], shape=(8, 3), dtype=float32)\n",
            "tf.Tensor([2 2 2 2 0 0 0 0], shape=(8,), dtype=int64)\n",
            "tf.Tensor([2 2 2 1 1 1 0 0], shape=(8,), dtype=int64)\n"
          ],
          "name": "stdout"
        }
      ]
    },
    {
      "cell_type": "code",
      "metadata": {
        "colab": {
          "base_uri": "https://localhost:8080/"
        },
        "id": "JbFBEAJOUdCF",
        "outputId": "62cfb8d2-b701-4009-d7d9-6fb3bd9d5730"
      },
      "source": [
        "class softmax_classifer(tf.keras.Model):\n",
        "  def __init__(self,nb_classes):\n",
        "    super(softmax_classifer, self).__init__()\n",
        "    self.W = tf.Variable(tf.random.normal((4, nb_classes)), name = 'weight')\n",
        "    self.b = tf.Variable(tf.random.normal((nb_classes,)), name = 'bias')\n",
        "\n",
        "  def softmax_regression(self,X):\n",
        "    return tf.nn.softmax(tf.matmul(X,self.W) + self.b)\n",
        "\n",
        "  def cost_fn(self, X, Y):\n",
        "    logits = self.softmax_regression(X)\n",
        "    cost = tf.reduce_mean(-tf.reduce_sum(Y * tf.math.log(logits), axis=1))\n",
        "    return cost\n",
        "  \n",
        "  def grad_fn(self, X, Y):\n",
        "    with tf.GradientTape() as tape:\n",
        "      cost = self.cost_fn(x_data, y_data)\n",
        "      grads = tape.gradient(cost, self.variables)\n",
        "      return grads\n",
        "\n",
        "  def fit(self, X, Y, epochs=200, verbose=500):\n",
        "    optimizer = tf.keras.optimizers.SGD(learning_rate=0.1)\n",
        "\n",
        "    for i in range(epochs):\n",
        "      grads = self.grad_fn(X, Y)\n",
        "      optimizer.apply_gradients(zip(grads, self.variables))\n",
        "      if (i==0) | ((i+1)%verbose==0):\n",
        "        print('Loss at epoch %d: %f' %(i+1, self.cost_fn(X,Y).numpy()))\n",
        "\n",
        "model = softmax_classifer(nb_classes)\n",
        "model.fit(x_data, y_data)"
      ],
      "execution_count": 79,
      "outputs": [
        {
          "output_type": "stream",
          "text": [
            "Loss at epoch 1: 4.601841\n"
          ],
          "name": "stdout"
        }
      ]
    }
  ]
}