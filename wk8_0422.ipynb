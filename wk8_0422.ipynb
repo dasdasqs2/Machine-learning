{
  "nbformat": 4,
  "nbformat_minor": 0,
  "metadata": {
    "colab": {
      "name": "wk8_0422.ipynb",
      "provenance": [],
      "collapsed_sections": [],
      "authorship_tag": "ABX9TyO8oapp6yihcG1j/T9in6lu",
      "include_colab_link": true
    },
    "kernelspec": {
      "name": "python3",
      "display_name": "Python 3"
    },
    "language_info": {
      "name": "python"
    }
  },
  "cells": [
    {
      "cell_type": "markdown",
      "metadata": {
        "id": "view-in-github",
        "colab_type": "text"
      },
      "source": [
        "<a href=\"https://colab.research.google.com/github/dasdasqs2/Machine-learning/blob/main/wk8_0422.ipynb\" target=\"_parent\"><img src=\"https://colab.research.google.com/assets/colab-badge.svg\" alt=\"Open In Colab\"/></a>"
      ]
    },
    {
      "cell_type": "code",
      "metadata": {
        "id": "qzGXjLO17WW6"
      },
      "source": [
        "import numpy as np\n",
        "import pandas as pd\n",
        "import matplotlib.pyplot as plt\n",
        "import tensorflow as tf\n",
        "\n",
        "tf.random.set_seed(42)"
      ],
      "execution_count": 89,
      "outputs": []
    },
    {
      "cell_type": "code",
      "metadata": {
        "colab": {
          "base_uri": "https://localhost:8080/"
        },
        "id": "DQU2KI8eDGav",
        "outputId": "a6df9cdc-f646-4bcc-ad10-2ad65eaaa750"
      },
      "source": [
        "red = pd.read_csv('http://archive.ics.uci.edu/ml/machine-learning-databases/wine-quality/winequality-red.csv', sep=';')\n",
        "white = pd.read_csv('http://archive.ics.uci.edu/ml/machine-learning-databases/wine-quality/winequality-white.csv', sep=';')\n",
        "print(red.head())\n",
        "print(white.head())"
      ],
      "execution_count": 90,
      "outputs": [
        {
          "output_type": "stream",
          "text": [
            "   fixed acidity  volatile acidity  citric acid  ...  sulphates  alcohol  quality\n",
            "0            7.4              0.70         0.00  ...       0.56      9.4        5\n",
            "1            7.8              0.88         0.00  ...       0.68      9.8        5\n",
            "2            7.8              0.76         0.04  ...       0.65      9.8        5\n",
            "3           11.2              0.28         0.56  ...       0.58      9.8        6\n",
            "4            7.4              0.70         0.00  ...       0.56      9.4        5\n",
            "\n",
            "[5 rows x 12 columns]\n",
            "   fixed acidity  volatile acidity  citric acid  ...  sulphates  alcohol  quality\n",
            "0            7.0              0.27         0.36  ...       0.45      8.8        6\n",
            "1            6.3              0.30         0.34  ...       0.49      9.5        6\n",
            "2            8.1              0.28         0.40  ...       0.44     10.1        6\n",
            "3            7.2              0.23         0.32  ...       0.40      9.9        6\n",
            "4            7.2              0.23         0.32  ...       0.40      9.9        6\n",
            "\n",
            "[5 rows x 12 columns]\n"
          ],
          "name": "stdout"
        }
      ]
    },
    {
      "cell_type": "code",
      "metadata": {
        "colab": {
          "base_uri": "https://localhost:8080/"
        },
        "id": "FCOcR3OHF42o",
        "outputId": "830d2dfd-1221-4b89-e738-63cc93bb9f3f"
      },
      "source": [
        "red['type'] = 0\n",
        "white['type'] = 1\n",
        "# mean의 의미-> red:white = 1:3\n",
        "\n",
        "print(red.head(2))\n",
        "print(white.head(2))\n",
        "\n",
        "wine = pd.concat([red, white])\n",
        "print(wine.describe()) #통계적 특징"
      ],
      "execution_count": 91,
      "outputs": [
        {
          "output_type": "stream",
          "text": [
            "   fixed acidity  volatile acidity  citric acid  ...  alcohol  quality  type\n",
            "0            7.4              0.70          0.0  ...      9.4        5     0\n",
            "1            7.8              0.88          0.0  ...      9.8        5     0\n",
            "\n",
            "[2 rows x 13 columns]\n",
            "   fixed acidity  volatile acidity  citric acid  ...  alcohol  quality  type\n",
            "0            7.0              0.27         0.36  ...      8.8        6     1\n",
            "1            6.3              0.30         0.34  ...      9.5        6     1\n",
            "\n",
            "[2 rows x 13 columns]\n",
            "       fixed acidity  volatile acidity  ...      quality         type\n",
            "count    6497.000000       6497.000000  ...  6497.000000  6497.000000\n",
            "mean        7.215307          0.339666  ...     5.818378     0.753886\n",
            "std         1.296434          0.164636  ...     0.873255     0.430779\n",
            "min         3.800000          0.080000  ...     3.000000     0.000000\n",
            "25%         6.400000          0.230000  ...     5.000000     1.000000\n",
            "50%         7.000000          0.290000  ...     6.000000     1.000000\n",
            "75%         7.700000          0.400000  ...     6.000000     1.000000\n",
            "max        15.900000          1.580000  ...     9.000000     1.000000\n",
            "\n",
            "[8 rows x 13 columns]\n"
          ],
          "name": "stdout"
        }
      ]
    },
    {
      "cell_type": "code",
      "metadata": {
        "colab": {
          "base_uri": "https://localhost:8080/",
          "height": 489
        },
        "id": "04wtOY28Goem",
        "outputId": "c9798557-1e6c-483d-cf0b-29104cbb9aca"
      },
      "source": [
        "plt.hist(wine['type'])\n",
        "plt.xticks([0,1])\n",
        "plt.show()\n",
        "\n",
        "print(wine['type'].value_counts)"
      ],
      "execution_count": 92,
      "outputs": [
        {
          "output_type": "display_data",
          "data": {
            "image/png": "[encoded data removed]",
            "text/plain": [
              "<Figure size 432x288 with 1 Axes>"
            ]
          },
          "metadata": {
            "tags": [],
            "needs_background": "light"
          }
        },
        {
          "output_type": "stream",
          "text": [
            "<bound method IndexOpsMixin.value_counts of 0       0\n",
            "1       0\n",
            "2       0\n",
            "3       0\n",
            "4       0\n",
            "       ..\n",
            "4893    1\n",
            "4894    1\n",
            "4895    1\n",
            "4896    1\n",
            "4897    1\n",
            "Name: type, Length: 6497, dtype: int64>\n"
          ],
          "name": "stdout"
        }
      ]
    },
    {
      "cell_type": "code",
      "metadata": {
        "colab": {
          "base_uri": "https://localhost:8080/"
        },
        "id": "FKhXV3bGH9bj",
        "outputId": "2b32220c-98c6-430b-e0fd-92ccb0d0015f"
      },
      "source": [
        "print(wine.info())"
      ],
      "execution_count": 93,
      "outputs": [
        {
          "output_type": "stream",
          "text": [
            "<class 'pandas.core.frame.DataFrame'>\n",
            "Int64Index: 6497 entries, 0 to 4897\n",
            "Data columns (total 13 columns):\n",
            " #   Column                Non-Null Count  Dtype  \n",
            "---  ------                --------------  -----  \n",
            " 0   fixed acidity         6497 non-null   float64\n",
            " 1   volatile acidity      6497 non-null   float64\n",
            " 2   citric acid           6497 non-null   float64\n",
            " 3   residual sugar        6497 non-null   float64\n",
            " 4   chlorides             6497 non-null   float64\n",
            " 5   free sulfur dioxide   6497 non-null   float64\n",
            " 6   total sulfur dioxide  6497 non-null   float64\n",
            " 7   density               6497 non-null   float64\n",
            " 8   pH                    6497 non-null   float64\n",
            " 9   sulphates             6497 non-null   float64\n",
            " 10  alcohol               6497 non-null   float64\n",
            " 11  quality               6497 non-null   int64  \n",
            " 12  type                  6497 non-null   int64  \n",
            "dtypes: float64(11), int64(2)\n",
            "memory usage: 710.6 KB\n",
            "None\n"
          ],
          "name": "stdout"
        }
      ]
    },
    {
      "cell_type": "code",
      "metadata": {
        "colab": {
          "base_uri": "https://localhost:8080/"
        },
        "id": "L6OSztz_GZj-",
        "outputId": "ba338cdb-1c35-46b1-fec0-f7db17d4ca78"
      },
      "source": [
        "# 정규화 정규화 (0~1 사이의 값을 가짐.)\n",
        "wine_norm = (wine - wine.min()) / (wine.max() - wine.min())\n",
        "print(wine_norm.head())\n",
        "print(wine_norm.describe())"
      ],
      "execution_count": 94,
      "outputs": [
        {
          "output_type": "stream",
          "text": [
            "   fixed acidity  volatile acidity  citric acid  ...   alcohol   quality  type\n",
            "0       0.297521          0.413333     0.000000  ...  0.202899  0.333333   0.0\n",
            "1       0.330579          0.533333     0.000000  ...  0.260870  0.333333   0.0\n",
            "2       0.330579          0.453333     0.024096  ...  0.260870  0.333333   0.0\n",
            "3       0.611570          0.133333     0.337349  ...  0.260870  0.500000   0.0\n",
            "4       0.297521          0.413333     0.000000  ...  0.202899  0.333333   0.0\n",
            "\n",
            "[5 rows x 13 columns]\n",
            "       fixed acidity  volatile acidity  ...      quality         type\n",
            "count    6497.000000       6497.000000  ...  6497.000000  6497.000000\n",
            "mean        0.282257          0.173111  ...     0.469730     0.753886\n",
            "std         0.107143          0.109758  ...     0.145543     0.430779\n",
            "min         0.000000          0.000000  ...     0.000000     0.000000\n",
            "25%         0.214876          0.100000  ...     0.333333     1.000000\n",
            "50%         0.264463          0.140000  ...     0.500000     1.000000\n",
            "75%         0.322314          0.213333  ...     0.500000     1.000000\n",
            "max         1.000000          1.000000  ...     1.000000     1.000000\n",
            "\n",
            "[8 rows x 13 columns]\n"
          ],
          "name": "stdout"
        }
      ]
    },
    {
      "cell_type": "code",
      "metadata": {
        "colab": {
          "base_uri": "https://localhost:8080/"
        },
        "id": "_IUbc8FNHqAa",
        "outputId": "ccd4ac76-8342-4164-9441-36888f9fd939"
      },
      "source": [
        "wine_shuffle = wine_norm.sample(frac=1) # frac: 몇 퍼센트 suffle 할 것인지, '1' = 100%\n",
        "print(wine_shuffle.head())\n",
        "wine_np = wine_shuffle.to_numpy()\n",
        "print(wine_np[:5])"
      ],
      "execution_count": 95,
      "outputs": [
        {
          "output_type": "stream",
          "text": [
            "      fixed acidity  volatile acidity  citric acid  ...   alcohol   quality  type\n",
            "4299       0.206612          0.133333     0.180723  ...  0.202899  0.500000   1.0\n",
            "2321       0.066116          0.243333     0.000000  ...  0.318841  0.333333   1.0\n",
            "178        0.264463          0.483333     0.000000  ...  0.231884  0.333333   0.0\n",
            "374        0.842975          0.220000     0.379518  ...  0.405797  0.500000   0.0\n",
            "4068       0.272727          0.240000     0.162651  ...  0.550725  0.500000   1.0\n",
            "\n",
            "[5 rows x 13 columns]\n",
            "[[0.20661157 0.13333333 0.18072289 0.09202454 0.33056478 0.20486111\n",
            "  0.34101382 0.14786967 0.29457364 0.1011236  0.20289855 0.5\n",
            "  1.        ]\n",
            " [0.0661157  0.24333333 0.         0.01226994 0.0730897  0.03472222\n",
            "  0.39631336 0.13784461 0.82945736 0.18539326 0.31884058 0.33333333\n",
            "  1.        ]\n",
            " [0.26446281 0.48333333 0.         0.0291411  0.09800664 0.02083333\n",
            "  0.03225806 0.18874108 0.58914729 0.19101124 0.23188406 0.33333333\n",
            "  0.        ]\n",
            " [0.84297521 0.22       0.37951807 0.04907975 0.13289037 0.01736111\n",
            "  0.09447005 0.27549643 0.2248062  0.33146067 0.4057971  0.5\n",
            "  0.        ]\n",
            " [0.27272727 0.24       0.1626506  0.1196319  0.07973422 0.20486111\n",
            "  0.35483871 0.10526316 0.34108527 0.07865169 0.55072464 0.5\n",
            "  1.        ]]\n"
          ],
          "name": "stdout"
        }
      ]
    },
    {
      "cell_type": "code",
      "metadata": {
        "colab": {
          "base_uri": "https://localhost:8080/"
        },
        "id": "uDwAXI0BJD7Y",
        "outputId": "a66394fa-780c-4f5a-dbce-17bb6d611c09"
      },
      "source": [
        "train_idx = int(len(wine_np) * 0.8)\n",
        "train_X, train_Y = wine_np[:train_idx, :-1], wine_np[:train_idx, -1]\n",
        "test_X, test_Y = wine_np[train_idx:, :-1], wine_np[train_idx:, -1]\n",
        "print(train_X[0])\n",
        "print(train_Y[0])\n",
        "print(test_X[0])\n",
        "print(test_Y[0])\n",
        "train_Y = tf.keras.utils.to_categorical(train_Y, num_classes=2)\n",
        "test_Y = tf.keras.utils.to_categorical(test_Y, num_classes=2)\n",
        "print(train_Y[0])\n",
        "print(test_Y[0])\n"
      ],
      "execution_count": 96,
      "outputs": [
        {
          "output_type": "stream",
          "text": [
            "[0.20661157 0.13333333 0.18072289 0.09202454 0.33056478 0.20486111\n",
            " 0.34101382 0.14786967 0.29457364 0.1011236  0.20289855 0.5       ]\n",
            "1.0\n",
            "[0.34710744 0.43       0.14457831 0.03374233 0.12292359 0.03125\n",
            " 0.12903226 0.18777714 0.48837209 0.19101124 0.28985507 0.5       ]\n",
            "0.0\n",
            "[0. 1.]\n",
            "[1. 0.]\n"
          ],
          "name": "stdout"
        }
      ]
    },
    {
      "cell_type": "code",
      "metadata": {
        "colab": {
          "base_uri": "https://localhost:8080/"
        },
        "id": "rBJ1h7aGLing",
        "outputId": "58ea7d98-49e7-4ec6-a7e9-e45f3a6af1ac"
      },
      "source": [
        "model = tf.keras.Sequential([\n",
        "                             tf.keras.layers.Dense(units=48, activation='relu', input_shape=(12,)),\n",
        "                             tf.keras.layers.Dense(units=24, activation='relu'),\n",
        "                             tf.keras.layers.Dense(units=12, activation='relu'),\n",
        "                             tf.keras.layers.Dense(units=2, activation='softmax')\n",
        "])\n",
        "\n",
        "model.compile(optimizer=tf.keras.optimizers.Adam(lr=0.07),\n",
        "loss='categorical_crossentropy', metrics=['accuracy'])\n",
        "\n",
        "model.summary()"
      ],
      "execution_count": 97,
      "outputs": [
        {
          "output_type": "stream",
          "text": [
            "Model: \"sequential_9\"\n",
            "_________________________________________________________________\n",
            "Layer (type)                 Output Shape              Param #   \n",
            "=================================================================\n",
            "dense_36 (Dense)             (None, 48)                624       \n",
            "_________________________________________________________________\n",
            "dense_37 (Dense)             (None, 24)                1176      \n",
            "_________________________________________________________________\n",
            "dense_38 (Dense)             (None, 12)                300       \n",
            "_________________________________________________________________\n",
            "dense_39 (Dense)             (None, 2)                 26        \n",
            "=================================================================\n",
            "Total params: 2,126\n",
            "Trainable params: 2,126\n",
            "Non-trainable params: 0\n",
            "_________________________________________________________________\n"
          ],
          "name": "stdout"
        }
      ]
    },
    {
      "cell_type": "code",
      "metadata": {
        "colab": {
          "base_uri": "https://localhost:8080/"
        },
        "id": "UWFSUuNLMSfj",
        "outputId": "b696e10a-6520-4cfa-a7b6-eca44516965c"
      },
      "source": [
        "history = model.fit(train_X, train_Y, epochs=25, batch_size=32, validation_split=0.25)"
      ],
      "execution_count": 98,
      "outputs": [
        {
          "output_type": "stream",
          "text": [
            "Epoch 1/25\n",
            "122/122 [==============================] - 1s 3ms/step - loss: 0.3430 - accuracy: 0.8243 - val_loss: 0.0611 - val_accuracy: 0.9938\n",
            "Epoch 2/25\n",
            "122/122 [==============================] - 0s 2ms/step - loss: 0.0790 - accuracy: 0.9770 - val_loss: 0.0814 - val_accuracy: 0.9923\n",
            "Epoch 3/25\n",
            "122/122 [==============================] - 0s 2ms/step - loss: 0.0830 - accuracy: 0.9777 - val_loss: 0.0497 - val_accuracy: 0.9946\n",
            "Epoch 4/25\n",
            "122/122 [==============================] - 0s 2ms/step - loss: 0.1048 - accuracy: 0.9802 - val_loss: 0.0570 - val_accuracy: 0.9915\n",
            "Epoch 5/25\n",
            "122/122 [==============================] - 0s 2ms/step - loss: 0.0468 - accuracy: 0.9897 - val_loss: 0.0391 - val_accuracy: 0.9954\n",
            "Epoch 6/25\n",
            "122/122 [==============================] - 0s 2ms/step - loss: 0.0612 - accuracy: 0.9891 - val_loss: 0.0966 - val_accuracy: 0.9869\n",
            "Epoch 7/25\n",
            "122/122 [==============================] - 0s 2ms/step - loss: 0.0739 - accuracy: 0.9795 - val_loss: 0.0393 - val_accuracy: 0.9946\n",
            "Epoch 8/25\n",
            "122/122 [==============================] - 0s 2ms/step - loss: 0.0516 - accuracy: 0.9886 - val_loss: 0.0452 - val_accuracy: 0.9900\n",
            "Epoch 9/25\n",
            "122/122 [==============================] - 0s 2ms/step - loss: 0.0547 - accuracy: 0.9820 - val_loss: 0.0348 - val_accuracy: 0.9938\n",
            "Epoch 10/25\n",
            "122/122 [==============================] - 0s 2ms/step - loss: 0.0502 - accuracy: 0.9890 - val_loss: 0.0316 - val_accuracy: 0.9962\n",
            "Epoch 11/25\n",
            "122/122 [==============================] - 0s 2ms/step - loss: 0.0363 - accuracy: 0.9929 - val_loss: 0.0279 - val_accuracy: 0.9969\n",
            "Epoch 12/25\n",
            "122/122 [==============================] - 0s 2ms/step - loss: 0.0368 - accuracy: 0.9905 - val_loss: 0.0398 - val_accuracy: 0.9954\n",
            "Epoch 13/25\n",
            "122/122 [==============================] - 0s 2ms/step - loss: 0.0508 - accuracy: 0.9858 - val_loss: 0.0257 - val_accuracy: 0.9969\n",
            "Epoch 14/25\n",
            "122/122 [==============================] - 0s 2ms/step - loss: 0.0323 - accuracy: 0.9928 - val_loss: 0.0266 - val_accuracy: 0.9954\n",
            "Epoch 15/25\n",
            "122/122 [==============================] - 0s 2ms/step - loss: 0.0316 - accuracy: 0.9897 - val_loss: 0.0337 - val_accuracy: 0.9946\n",
            "Epoch 16/25\n",
            "122/122 [==============================] - 0s 2ms/step - loss: 0.0339 - accuracy: 0.9938 - val_loss: 0.0332 - val_accuracy: 0.9969\n",
            "Epoch 17/25\n",
            "122/122 [==============================] - 0s 2ms/step - loss: 0.0765 - accuracy: 0.9821 - val_loss: 0.0289 - val_accuracy: 0.9954\n",
            "Epoch 18/25\n",
            "122/122 [==============================] - 0s 2ms/step - loss: 0.0415 - accuracy: 0.9898 - val_loss: 0.0208 - val_accuracy: 0.9954\n",
            "Epoch 19/25\n",
            "122/122 [==============================] - 0s 2ms/step - loss: 0.0358 - accuracy: 0.9927 - val_loss: 0.0348 - val_accuracy: 0.9908\n",
            "Epoch 20/25\n",
            "122/122 [==============================] - 0s 2ms/step - loss: 0.0393 - accuracy: 0.9916 - val_loss: 0.0366 - val_accuracy: 0.9946\n",
            "Epoch 21/25\n",
            "122/122 [==============================] - 0s 2ms/step - loss: 0.0382 - accuracy: 0.9916 - val_loss: 0.0183 - val_accuracy: 0.9977\n",
            "Epoch 22/25\n",
            "122/122 [==============================] - 0s 2ms/step - loss: 0.0219 - accuracy: 0.9966 - val_loss: 0.0258 - val_accuracy: 0.9962\n",
            "Epoch 23/25\n",
            "122/122 [==============================] - 0s 2ms/step - loss: 0.0307 - accuracy: 0.9930 - val_loss: 0.0245 - val_accuracy: 0.9946\n",
            "Epoch 24/25\n",
            "122/122 [==============================] - 0s 2ms/step - loss: 0.0415 - accuracy: 0.9940 - val_loss: 0.0202 - val_accuracy: 0.9977\n",
            "Epoch 25/25\n",
            "122/122 [==============================] - 0s 2ms/step - loss: 0.0252 - accuracy: 0.9948 - val_loss: 0.0348 - val_accuracy: 0.9915\n"
          ],
          "name": "stdout"
        }
      ]
    },
    {
      "cell_type": "code",
      "metadata": {
        "colab": {
          "base_uri": "https://localhost:8080/",
          "height": 249
        },
        "id": "LW8UzcKNMeFN",
        "outputId": "38ec2d73-9b21-4e2a-fa09-c732edd3875f"
      },
      "source": [
        "plt.figure(figsize=(12,4))\n",
        "\n",
        "plt.subplot(1,2,1)\n",
        "plt.plot(history.history['loss'], 'b-', label='loss')\n",
        "plt.plot(history.history['val_loss'], 'r--', label='val_loss')\n",
        "plt.xlabel('Epoch')\n",
        "plt.legend()\n",
        "\n",
        "plt.subplot(1,2,2)\n",
        "plt.plot(history.history['accuracy'], 'g-', label='accuracy')\n",
        "plt.plot(history.history['val_accuracy'], 'k--', label='val_loss')\n",
        "plt.xlabel('Epoch')\n",
        "plt.ylim(0.7,1)\n",
        "plt.legend()\n",
        "\n",
        "plt.show()"
      ],
      "execution_count": 99,
      "outputs": [
        {
          "output_type": "display_data",
          "data": {
            "image/png": "[encoded data removed]",
            "text/plain": [
              "<Figure size 864x288 with 2 Axes>"
            ]
          },
          "metadata": {
            "tags": [],
            "needs_background": "light"
          }
        }
      ]
    },
    {
      "cell_type": "code",
      "metadata": {
        "colab": {
          "base_uri": "https://localhost:8080/"
        },
        "id": "GrJU8UPHN58K",
        "outputId": "983b3311-4a2a-4b16-e2b9-829d242c8c7b"
      },
      "source": [
        "model.evaluate(test_X, test_Y)"
      ],
      "execution_count": 100,
      "outputs": [
        {
          "output_type": "stream",
          "text": [
            "41/41 [==============================] - 0s 1ms/step - loss: 0.0336 - accuracy: 0.9900\n"
          ],
          "name": "stdout"
        },
        {
          "output_type": "execute_result",
          "data": {
            "text/plain": [
              "[0.03357163816690445, 0.9900000095367432]"
            ]
          },
          "metadata": {
            "tags": []
          },
          "execution_count": 100
        }
      ]
    },
    {
      "cell_type": "code",
      "metadata": {
        "colab": {
          "base_uri": "https://localhost:8080/"
        },
        "id": "9piBVvyuOA7l",
        "outputId": "896b7265-42a7-433a-fe56-168696d43e5d"
      },
      "source": [
        "print(wine['quality'].describe())\n",
        "print(wine['quality'].value_counts())"
      ],
      "execution_count": 101,
      "outputs": [
        {
          "output_type": "stream",
          "text": [
            "count    6497.000000\n",
            "mean        5.818378\n",
            "std         0.873255\n",
            "min         3.000000\n",
            "25%         5.000000\n",
            "50%         6.000000\n",
            "75%         6.000000\n",
            "max         9.000000\n",
            "Name: quality, dtype: float64\n",
            "6    2836\n",
            "5    2138\n",
            "7    1079\n",
            "4     216\n",
            "8     193\n",
            "3      30\n",
            "9       5\n",
            "Name: quality, dtype: int64\n"
          ],
          "name": "stdout"
        }
      ]
    },
    {
      "cell_type": "code",
      "metadata": {
        "colab": {
          "base_uri": "https://localhost:8080/",
          "height": 265
        },
        "id": "p_NtEDRZOMEa",
        "outputId": "e0595483-d613-4ef2-b112-ee3fb2820c27"
      },
      "source": [
        "# imbalanced data : ex) medical_data\n",
        "plt.hist(wine['quality'], bins=7, rwidth=0.8)\n",
        "plt.show()"
      ],
      "execution_count": 102,
      "outputs": [
        {
          "output_type": "display_data",
          "data": {
            "image/png": "[encoded data removed]",
            "text/plain": [
              "<Figure size 432x288 with 1 Axes>"
            ]
          },
          "metadata": {
            "tags": [],
            "needs_background": "light"
          }
        }
      ]
    },
    {
      "cell_type": "code",
      "metadata": {
        "colab": {
          "base_uri": "https://localhost:8080/"
        },
        "id": "vtkKuShbPZzH",
        "outputId": "eb7a3c4b-af14-4260-c915-24f0b77c37de"
      },
      "source": [
        "# label 지정\n",
        "wine.loc[wine['quality'] <= 5, 'new_quality'] = 0\n",
        "wine.loc[wine['quality'] == 6, 'new_quality'] = 1\n",
        "wine.loc[wine['quality'] >= 7, 'new_quality'] = 2 \n",
        "\n",
        "print(wine['new_quality'].describe())\n",
        "print(wine['new_quality'].value_counts())"
      ],
      "execution_count": 103,
      "outputs": [
        {
          "output_type": "stream",
          "text": [
            "count    6497.000000\n",
            "mean        0.829614\n",
            "std         0.731124\n",
            "min         0.000000\n",
            "25%         0.000000\n",
            "50%         1.000000\n",
            "75%         1.000000\n",
            "max         2.000000\n",
            "Name: new_quality, dtype: float64\n",
            "1.0    2836\n",
            "0.0    2384\n",
            "2.0    1277\n",
            "Name: new_quality, dtype: int64\n"
          ],
          "name": "stdout"
        }
      ]
    },
    {
      "cell_type": "code",
      "metadata": {
        "id": "1F_SjOADP0Ku"
      },
      "source": [
        "del wine['quality']\n",
        "wine_norm = (wine - wine.min()) / (wine.max() - wine.min())\n",
        "wine_shuffle = wine_norm.sample(frac=1)\n",
        "wine_np = wine_shuffle.to_numpy()\n",
        "\n",
        "train_idx = int(len(wine_np) * 0.8)\n",
        "train_X, train_Y = wine_np[:train_idx, :-1], wine_np[:train_idx, -1]\n",
        "test_X, test_Y = wine_np[train_idx:, :-1], wine_np[train_idx:, -1]\n",
        "train_Y = tf.keras.utils.to_categorical(train_Y, num_classes=3)\n",
        "test_Y = tf.keras.utils.to_categorical(test_Y, num_classes=3)"
      ],
      "execution_count": 104,
      "outputs": []
    },
    {
      "cell_type": "code",
      "metadata": {
        "colab": {
          "base_uri": "https://localhost:8080/"
        },
        "id": "OWdu2g_vReqo",
        "outputId": "1305ca2a-1ef0-4c9b-e0e2-ff378254ae98"
      },
      "source": [
        "model = tf.keras.Sequential([\n",
        "                             tf.keras.layers.Dense(units=48, activation='relu', input_shape=(12,)),\n",
        "                             tf.keras.layers.Dense(units=24, activation='relu'),\n",
        "                             tf.keras.layers.Dense(units=12, activation='relu'),\n",
        "                             tf.keras.layers.Dense(units=3, activation='softmax')\n",
        "])\n",
        "\n",
        "model.compile(optimizer=tf.keras.optimizers.Adam(lr=0.07),\n",
        "loss='categorical_crossentropy', metrics=['accuracy'])\n",
        "\n",
        "history = model.fit(train_X, train_Y, epochs=25,batch_size=32, validation_split=0.25)"
      ],
      "execution_count": 106,
      "outputs": [
        {
          "output_type": "stream",
          "text": [
            "Epoch 1/25\n",
            "122/122 [==============================] - 1s 4ms/step - loss: 0.5277 - accuracy: 0.7638 - val_loss: 0.4296 - val_accuracy: 0.7954\n",
            "Epoch 2/25\n",
            "122/122 [==============================] - 0s 2ms/step - loss: 0.4220 - accuracy: 0.8008 - val_loss: 0.4139 - val_accuracy: 0.7954\n",
            "Epoch 3/25\n",
            "122/122 [==============================] - 0s 2ms/step - loss: 0.4246 - accuracy: 0.7939 - val_loss: 0.4397 - val_accuracy: 0.7954\n",
            "Epoch 4/25\n",
            "122/122 [==============================] - 0s 2ms/step - loss: 0.4190 - accuracy: 0.8131 - val_loss: 0.4614 - val_accuracy: 0.7954\n",
            "Epoch 5/25\n",
            "122/122 [==============================] - 0s 2ms/step - loss: 0.4150 - accuracy: 0.8126 - val_loss: 0.4179 - val_accuracy: 0.7954\n",
            "Epoch 6/25\n",
            "122/122 [==============================] - 0s 2ms/step - loss: 0.3987 - accuracy: 0.8059 - val_loss: 0.4063 - val_accuracy: 0.8038\n",
            "Epoch 7/25\n",
            "122/122 [==============================] - 0s 2ms/step - loss: 0.4007 - accuracy: 0.8057 - val_loss: 0.4082 - val_accuracy: 0.8269\n",
            "Epoch 8/25\n",
            "122/122 [==============================] - 0s 2ms/step - loss: 0.4271 - accuracy: 0.7943 - val_loss: 0.3905 - val_accuracy: 0.8177\n",
            "Epoch 9/25\n",
            "122/122 [==============================] - 0s 2ms/step - loss: 0.3905 - accuracy: 0.8123 - val_loss: 0.4019 - val_accuracy: 0.8046\n",
            "Epoch 10/25\n",
            "122/122 [==============================] - 0s 2ms/step - loss: 0.4031 - accuracy: 0.8110 - val_loss: 0.4239 - val_accuracy: 0.7985\n",
            "Epoch 11/25\n",
            "122/122 [==============================] - 0s 2ms/step - loss: 0.4107 - accuracy: 0.8140 - val_loss: 0.4255 - val_accuracy: 0.7954\n",
            "Epoch 12/25\n",
            "122/122 [==============================] - 0s 2ms/step - loss: 0.4201 - accuracy: 0.8025 - val_loss: 0.3943 - val_accuracy: 0.8023\n",
            "Epoch 13/25\n",
            "122/122 [==============================] - 0s 2ms/step - loss: 0.4014 - accuracy: 0.8109 - val_loss: 0.4072 - val_accuracy: 0.7962\n",
            "Epoch 14/25\n",
            "122/122 [==============================] - 0s 2ms/step - loss: 0.3986 - accuracy: 0.8166 - val_loss: 0.3948 - val_accuracy: 0.8200\n",
            "Epoch 15/25\n",
            "122/122 [==============================] - 0s 2ms/step - loss: 0.3996 - accuracy: 0.8129 - val_loss: 0.4482 - val_accuracy: 0.8077\n",
            "Epoch 16/25\n",
            "122/122 [==============================] - 0s 2ms/step - loss: 0.4101 - accuracy: 0.8112 - val_loss: 0.4030 - val_accuracy: 0.7962\n",
            "Epoch 17/25\n",
            "122/122 [==============================] - 0s 2ms/step - loss: 0.4071 - accuracy: 0.8154 - val_loss: 0.3904 - val_accuracy: 0.8277\n",
            "Epoch 18/25\n",
            "122/122 [==============================] - 0s 2ms/step - loss: 0.3974 - accuracy: 0.8108 - val_loss: 0.4135 - val_accuracy: 0.7954\n",
            "Epoch 19/25\n",
            "122/122 [==============================] - 0s 2ms/step - loss: 0.4095 - accuracy: 0.8007 - val_loss: 0.4223 - val_accuracy: 0.7954\n",
            "Epoch 20/25\n",
            "122/122 [==============================] - 0s 2ms/step - loss: 0.4000 - accuracy: 0.8088 - val_loss: 0.4154 - val_accuracy: 0.7954\n",
            "Epoch 21/25\n",
            "122/122 [==============================] - 0s 2ms/step - loss: 0.3946 - accuracy: 0.8098 - val_loss: 0.3957 - val_accuracy: 0.8154\n",
            "Epoch 22/25\n",
            "122/122 [==============================] - 0s 2ms/step - loss: 0.3835 - accuracy: 0.8229 - val_loss: 0.4161 - val_accuracy: 0.8169\n",
            "Epoch 23/25\n",
            "122/122 [==============================] - 0s 2ms/step - loss: 0.4033 - accuracy: 0.8218 - val_loss: 0.4076 - val_accuracy: 0.8185\n",
            "Epoch 24/25\n",
            "122/122 [==============================] - 0s 2ms/step - loss: 0.3921 - accuracy: 0.8080 - val_loss: 0.4167 - val_accuracy: 0.8154\n",
            "Epoch 25/25\n",
            "122/122 [==============================] - 0s 2ms/step - loss: 0.4222 - accuracy: 0.8043 - val_loss: 0.4383 - val_accuracy: 0.7954\n"
          ],
          "name": "stdout"
        }
      ]
    },
    {
      "cell_type": "code",
      "metadata": {
        "colab": {
          "base_uri": "https://localhost:8080/",
          "height": 251
        },
        "id": "J4T7ApEDS_98",
        "outputId": "99da4043-d606-4db0-fd7d-98a820ab0399"
      },
      "source": [
        "plt.figure(figsize=(12,4))\n",
        "\n",
        "plt.subplot(1,2,1)\n",
        "plt.plot(history.history['loss'], 'b-', label='loss')\n",
        "plt.plot(history.history['val_loss'], 'r--', label='val_loss')\n",
        "plt.xlabel('Epoch')\n",
        "plt.legend()\n",
        "\n",
        "plt.subplot(1,2,2)\n",
        "plt.plot(history.history['accuracy'], 'g-', label='accuracy')\n",
        "plt.plot(history.history['val_accuracy'], 'k--', label='val_loss')\n",
        "plt.xlabel('Epoch')\n",
        "plt.ylim(0.7,1)\n",
        "plt.legend()\n",
        "\n",
        "plt.show()"
      ],
      "execution_count": 107,
      "outputs": [
        {
          "output_type": "display_data",
          "data": {
            "image/png": "[encoded data removed]",
            "text/plain": [
              "<Figure size 864x288 with 2 Axes>"
            ]
          },
          "metadata": {
            "tags": [],
            "needs_background": "light"
          }
        }
      ]
    },
    {
      "cell_type": "code",
      "metadata": {
        "colab": {
          "base_uri": "https://localhost:8080/"
        },
        "id": "KDb-iJzDTlY2",
        "outputId": "25844354-9443-4993-990f-d0e930afd527"
      },
      "source": [
        "model.evaluate(test_X,test_Y)"
      ],
      "execution_count": 108,
      "outputs": [
        {
          "output_type": "stream",
          "text": [
            "41/41 [==============================] - 0s 2ms/step - loss: 0.4087 - accuracy: 0.8115\n"
          ],
          "name": "stdout"
        },
        {
          "output_type": "execute_result",
          "data": {
            "text/plain": [
              "[0.4087374210357666, 0.8115384578704834]"
            ]
          },
          "metadata": {
            "tags": []
          },
          "execution_count": 108
        }
      ]
    },
    {
      "cell_type": "code",
      "metadata": {
        "id": "4D7WPO8NTnX-"
      },
      "source": [
        ""
      ],
      "execution_count": null,
      "outputs": []
    }
  ]
}