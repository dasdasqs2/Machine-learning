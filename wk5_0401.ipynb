{
  "nbformat": 4,
  "nbformat_minor": 0,
  "metadata": {
    "colab": {
      "name": "wk5_0401.ipynb",
      "provenance": [],
      "collapsed_sections": [],
      "authorship_tag": "ABX9TyOr3uXQMo4NG9PRjOJstYmk",
      "include_colab_link": true
    },
    "kernelspec": {
      "name": "python3",
      "display_name": "Python 3"
    },
    "language_info": {
      "name": "python"
    }
  },
  "cells": [
    {
      "cell_type": "markdown",
      "metadata": {
        "id": "view-in-github",
        "colab_type": "text"
      },
      "source": [
        "<a href=\"https://colab.research.google.com/github/dasdasqs2/Machine-learning/blob/main/wk5_0401.ipynb\" target=\"_parent\"><img src=\"https://colab.research.google.com/assets/colab-badge.svg\" alt=\"Open In Colab\"/></a>"
      ]
    },
    {
      "cell_type": "markdown",
      "metadata": {
        "id": "Ats4WaPF7h5x"
      },
      "source": [
        "y = w1x1 + w2x2\n",
        "x1 = 70, x2 = 1.7, 이면 x2는 y에 큰영향을 끼치지 않는다.\n",
        "따라서 이것을 정규화로 0~1 사이 값으로 만들어준다."
      ]
    },
    {
      "cell_type": "code",
      "metadata": {
        "id": "M3pypQ4-3tBu"
      },
      "source": [
        "import tensorflow as tf\n",
        "import numpy as np\n",
        "import matplotlib.pyplot as plt\n",
        "%matplotlib inline\n",
        "import pandas as pd"
      ],
      "execution_count": 25,
      "outputs": []
    },
    {
      "cell_type": "code",
      "metadata": {
        "colab": {
          "base_uri": "https://localhost:8080/"
        },
        "id": "31VPBPhu448k",
        "outputId": "40601875-3ad7-4710-e02e-ecb6ae6f9c88"
      },
      "source": [
        "from tensorflow.keras.datasets import boston_housing\n",
        "(train_X, train_Y), (test_X, test_Y) = boston_housing.load_data()\n",
        "\n",
        "print(len(train_X), len(test_X))\n",
        "print(train_X[0])\n",
        "print(train_Y[0])"
      ],
      "execution_count": 26,
      "outputs": [
        {
          "output_type": "stream",
          "text": [
            "404 102\n",
            "[  1.23247   0.        8.14      0.        0.538     6.142    91.7\n",
            "   3.9769    4.      307.       21.      396.9      18.72   ]\n",
            "15.2\n"
          ],
          "name": "stdout"
        }
      ]
    },
    {
      "cell_type": "markdown",
      "metadata": {
        "id": "3PsDvpy29jEA"
      },
      "source": [
        "# 데이터 전처리(정규화)\n",
        "\n",
        "![data_normalization.png](https://github.com/dasdasqs2/Machine-learning/blob/main/data_normalization.png?raw=true)\n",
        "\n",
        "- train 데이터를 정규화 => test 데이터도 정규화해야한다.\n",
        "- test 데이터를 정규화 할때 train 데이터의 평균을 빼주는 이유 (test_X -= x_mean) : test 데이터는 전체 데이터가 있다고 볼 수 없다.\n",
        "(표준편차도 마찬가지)"
      ]
    },
    {
      "cell_type": "code",
      "metadata": {
        "colab": {
          "base_uri": "https://localhost:8080/"
        },
        "id": "emU_nVxf5OWS",
        "outputId": "3cf69734-3bba-4285-d587-ffbfef8167d7"
      },
      "source": [
        "x_mean = train_X.mean() # 먼저 평균값을 구함(x1~x13)\n",
        "x_std = train_X.std() # 표준편차 구함(x1~x13)\n",
        "train_X -= x_mean\n",
        "train_X /= x_std\n",
        "test_X -= x_mean\n",
        "test_X /= x_std\n",
        "\n",
        "y_mean = train_Y.mean()\n",
        "y_std = train_Y.std()\n",
        "train_Y -= y_mean\n",
        "train_Y /= y_std\n",
        "test_Y -= y_mean\n",
        "test_Y /= y_std\n",
        "\n",
        "print(train_X[0])\n",
        "print(train_Y[0])"
      ],
      "execution_count": 27,
      "outputs": [
        {
          "output_type": "stream",
          "text": [
            "[-0.47482083 -0.48335641 -0.42698208 -0.48335641 -0.47963044 -0.44081941\n",
            "  0.15172056 -0.45581402 -0.45565404  1.64280094 -0.33791894  2.26541184\n",
            " -0.35370929]\n",
            "-0.7821526033779157\n"
          ],
          "name": "stdout"
        }
      ]
    },
    {
      "cell_type": "code",
      "metadata": {
        "colab": {
          "base_uri": "https://localhost:8080/"
        },
        "id": "gm36jHKd_IXj",
        "outputId": "590fe199-64c0-469e-d0e6-e9a7fc6bd246"
      },
      "source": [
        "model = tf.keras.Sequential([\n",
        "                             tf.keras.layers.Dense(units=52, activation='relu', input_shape=(13,)),#input layer에 있는 노드가 13개(x1~x13)\n",
        "                             tf.keras.layers.Dense(units=39, activation='relu'),\n",
        "                             tf.keras.layers.Dense(units=16, activation='relu'),\n",
        "                             tf.keras.layers.Dense(units=1)\n",
        "])\n",
        "\n",
        "model.compile(optimizer=tf.keras.optimizers.Adam(lr=0.07), loss='mse') #learning_rate=0.07, cost=mse\n",
        "\n",
        "model.summary()"
      ],
      "execution_count": 28,
      "outputs": [
        {
          "output_type": "stream",
          "text": [
            "Model: \"sequential_2\"\n",
            "_________________________________________________________________\n",
            "Layer (type)                 Output Shape              Param #   \n",
            "=================================================================\n",
            "dense_8 (Dense)              (None, 52)                728       \n",
            "_________________________________________________________________\n",
            "dense_9 (Dense)              (None, 39)                2067      \n",
            "_________________________________________________________________\n",
            "dense_10 (Dense)             (None, 16)                640       \n",
            "_________________________________________________________________\n",
            "dense_11 (Dense)             (None, 1)                 17        \n",
            "=================================================================\n",
            "Total params: 3,452\n",
            "Trainable params: 3,452\n",
            "Non-trainable params: 0\n",
            "_________________________________________________________________\n"
          ],
          "name": "stdout"
        }
      ]
    },
    {
      "cell_type": "markdown",
      "metadata": {
        "id": "1aURULe4EkK5"
      },
      "source": [
        "# 데이터의 역할\n",
        "![data_role.png](https://github.com/dasdasqs2/Machine-learning/blob/main/data_role.png?raw=true)"
      ]
    },
    {
      "cell_type": "code",
      "metadata": {
        "colab": {
          "base_uri": "https://localhost:8080/"
        },
        "id": "nXVauj1wBTpz",
        "outputId": "eb97ff14-12cd-4d4d-af14-6d794edd8a5d"
      },
      "source": [
        "history = model.fit(train_X, train_Y, epochs=25, batch_size=32, validation_split=0.25) #validation_split : 전체 데이터 중 검증데이터를 몇 퍼센트 할 것인지"
      ],
      "execution_count": 29,
      "outputs": [
        {
          "output_type": "stream",
          "text": [
            "Epoch 1/25\n",
            "10/10 [==============================] - 1s 21ms/step - loss: 1.4791 - val_loss: 1.1477\n",
            "Epoch 2/25\n",
            "10/10 [==============================] - 0s 7ms/step - loss: 0.8563 - val_loss: 1.6102\n",
            "Epoch 3/25\n",
            "10/10 [==============================] - 0s 7ms/step - loss: 0.7966 - val_loss: 1.0303\n",
            "Epoch 4/25\n",
            "10/10 [==============================] - 0s 7ms/step - loss: 0.6894 - val_loss: 1.0476\n",
            "Epoch 5/25\n",
            "10/10 [==============================] - 0s 6ms/step - loss: 0.8169 - val_loss: 1.0568\n",
            "Epoch 6/25\n",
            "10/10 [==============================] - 0s 8ms/step - loss: 0.7009 - val_loss: 1.0928\n",
            "Epoch 7/25\n",
            "10/10 [==============================] - 0s 8ms/step - loss: 0.6563 - val_loss: 1.0541\n",
            "Epoch 8/25\n",
            "10/10 [==============================] - 0s 6ms/step - loss: 0.4951 - val_loss: 1.0227\n",
            "Epoch 9/25\n",
            "10/10 [==============================] - 0s 7ms/step - loss: 0.6302 - val_loss: 0.9616\n",
            "Epoch 10/25\n",
            "10/10 [==============================] - 0s 8ms/step - loss: 0.6683 - val_loss: 1.0438\n",
            "Epoch 11/25\n",
            "10/10 [==============================] - 0s 9ms/step - loss: 0.6278 - val_loss: 1.0124\n",
            "Epoch 12/25\n",
            "10/10 [==============================] - 0s 8ms/step - loss: 0.5551 - val_loss: 1.0738\n",
            "Epoch 13/25\n",
            "10/10 [==============================] - 0s 6ms/step - loss: 0.5144 - val_loss: 0.9470\n",
            "Epoch 14/25\n",
            "10/10 [==============================] - 0s 6ms/step - loss: 0.5557 - val_loss: 0.9725\n",
            "Epoch 15/25\n",
            "10/10 [==============================] - 0s 7ms/step - loss: 0.4252 - val_loss: 1.1471\n",
            "Epoch 16/25\n",
            "10/10 [==============================] - 0s 7ms/step - loss: 0.7024 - val_loss: 0.9301\n",
            "Epoch 17/25\n",
            "10/10 [==============================] - 0s 6ms/step - loss: 0.6121 - val_loss: 0.9815\n",
            "Epoch 18/25\n",
            "10/10 [==============================] - 0s 7ms/step - loss: 0.6145 - val_loss: 0.9473\n",
            "Epoch 19/25\n",
            "10/10 [==============================] - 0s 7ms/step - loss: 0.5356 - val_loss: 0.9850\n",
            "Epoch 20/25\n",
            "10/10 [==============================] - 0s 7ms/step - loss: 0.5593 - val_loss: 1.2440\n",
            "Epoch 21/25\n",
            "10/10 [==============================] - 0s 7ms/step - loss: 0.4989 - val_loss: 0.9346\n",
            "Epoch 22/25\n",
            "10/10 [==============================] - 0s 6ms/step - loss: 0.5369 - val_loss: 0.9021\n",
            "Epoch 23/25\n",
            "10/10 [==============================] - 0s 7ms/step - loss: 0.5838 - val_loss: 0.9076\n",
            "Epoch 24/25\n",
            "10/10 [==============================] - 0s 9ms/step - loss: 0.6882 - val_loss: 0.9039\n",
            "Epoch 25/25\n",
            "10/10 [==============================] - 0s 7ms/step - loss: 0.5080 - val_loss: 0.9466\n"
          ],
          "name": "stdout"
        }
      ]
    },
    {
      "cell_type": "code",
      "metadata": {
        "colab": {
          "base_uri": "https://localhost:8080/",
          "height": 279
        },
        "id": "dAJLFDPNDPPg",
        "outputId": "5aadcb1d-179f-4fe5-cfe3-b9ef7801d4ee"
      },
      "source": [
        "plt.plot(history.history['loss'], 'b-', label='loss')\n",
        "plt.plot(history.history['val_loss'], 'r--', label='val_loss')\n",
        "plt.xlabel('Epoch')\n",
        "plt.legend()\n",
        "plt.show()\n",
        "# 학습이 잘 안된 것을 예싱"
      ],
      "execution_count": 30,
      "outputs": [
        {
          "output_type": "display_data",
          "data": {
            "image/png": "[encoded data removed]",
            "text/plain": [
              "<Figure size 432x288 with 1 Axes>"
            ]
          },
          "metadata": {
            "tags": [],
            "needs_background": "light"
          }
        }
      ]
    },
    {
      "cell_type": "code",
      "metadata": {
        "colab": {
          "base_uri": "https://localhost:8080/"
        },
        "id": "okJOveWgFII6",
        "outputId": "34d279f0-2416-48e3-bdce-9676c41d3e7d"
      },
      "source": [
        "model.evaluate(test_X, test_Y)"
      ],
      "execution_count": 31,
      "outputs": [
        {
          "output_type": "stream",
          "text": [
            "4/4 [==============================] - 0s 3ms/step - loss: 0.6436\n"
          ],
          "name": "stdout"
        },
        {
          "output_type": "execute_result",
          "data": {
            "text/plain": [
              "0.6436160802841187"
            ]
          },
          "metadata": {
            "tags": []
          },
          "execution_count": 31
        }
      ]
    },
    {
      "cell_type": "code",
      "metadata": {
        "colab": {
          "base_uri": "https://localhost:8080/",
          "height": 395
        },
        "id": "vWh44A5gFR4k",
        "outputId": "1ee01dfc-ff01-4f5e-8ad6-9dc193114d8f"
      },
      "source": [
        "pred_Y = model.predict(test_X)\n",
        "\n",
        "plt.figure(figsize=(5,5))\n",
        "plt.plot(test_Y, pred_Y, 'b.')\n",
        "plt.axis([min(test_Y), max(test_Y), min(test_Y), max(test_Y)])\n",
        "\n",
        "# y=x에 해당하는 대각선\n",
        "plt.axis([min(test_Y), max(test_Y), min(test_Y), max(test_Y)], ls=\"--\", c=\".3\")\n",
        "plt.xlabel('test_Y')\n",
        "plt.ylabel('pred_Y')\n",
        "\n",
        "plt.show()"
      ],
      "execution_count": 32,
      "outputs": [
        {
          "output_type": "stream",
          "text": [
            "/usr/local/lib/python3.7/dist-packages/ipykernel_launcher.py:8: MatplotlibDeprecationWarning: Passing unsupported keyword arguments to axis() will raise a TypeError in 3.3.\n",
            "  \n"
          ],
          "name": "stderr"
        },
        {
          "output_type": "display_data",
          "data": {
            "image/png": "[encoded data removed]",
            "text/plain": [
              "<Figure size 360x360 with 1 Axes>"
            ]
          },
          "metadata": {
            "tags": [],
            "needs_background": "light"
          }
        }
      ]
    },
    {
      "cell_type": "code",
      "metadata": {
        "colab": {
          "base_uri": "https://localhost:8080/"
        },
        "id": "LAM4RMtgGQyI",
        "outputId": "52427789-d636-423e-f4b6-0ed9f68101a7"
      },
      "source": [
        "model = tf.keras.Sequential([\n",
        "                             tf.keras.layers.Dense(units=52, activation='relu', input_shape=(13,)),#input layer에 있는 특징이 13개(x1~x13) 노드는 52개\n",
        "                             tf.keras.layers.Dense(units=39, activation='relu'),\n",
        "                             tf.keras.layers.Dense(units=16, activation='relu'),\n",
        "                             tf.keras.layers.Dense(units=1)\n",
        "])\n",
        "\n",
        "model.compile(optimizer=tf.keras.optimizers.Adam(lr=0.07), loss='mse') #learning_rate=0.07, cost=mse\n",
        "\n",
        "history = model.fit(train_X, train_Y, epochs=25, batch_size=32, validation_split=0.25,\n",
        "callbacks=[tf.keras.callbacks.EarlyStopping(patience=3, monitor='val_loss')])"
      ],
      "execution_count": 33,
      "outputs": [
        {
          "output_type": "stream",
          "text": [
            "Epoch 1/25\n",
            "10/10 [==============================] - 1s 22ms/step - loss: 7.6148 - val_loss: 1.1051\n",
            "Epoch 2/25\n",
            "10/10 [==============================] - 0s 6ms/step - loss: 0.8158 - val_loss: 1.4096\n",
            "Epoch 3/25\n",
            "10/10 [==============================] - 0s 7ms/step - loss: 0.7475 - val_loss: 1.3437\n",
            "Epoch 4/25\n",
            "10/10 [==============================] - 0s 8ms/step - loss: 0.7480 - val_loss: 1.0455\n",
            "Epoch 5/25\n",
            "10/10 [==============================] - 0s 7ms/step - loss: 0.8326 - val_loss: 1.0701\n",
            "Epoch 6/25\n",
            "10/10 [==============================] - 0s 7ms/step - loss: 0.6551 - val_loss: 1.4053\n",
            "Epoch 7/25\n",
            "10/10 [==============================] - 0s 8ms/step - loss: 0.7185 - val_loss: 1.1245\n"
          ],
          "name": "stdout"
        }
      ]
    },
    {
      "cell_type": "code",
      "metadata": {
        "colab": {
          "base_uri": "https://localhost:8080/",
          "height": 279
        },
        "id": "Scy002LpGnip",
        "outputId": "3e8665ac-53f3-4abd-cc25-d93444735ecb"
      },
      "source": [
        "plt.plot(history.history['loss'], 'b-', label='loss')\n",
        "plt.plot(history.history['val_loss'], 'r--', label='val_loss')\n",
        "plt.xlabel('Epoch')\n",
        "plt.legend()\n",
        "plt.show()"
      ],
      "execution_count": 34,
      "outputs": [
        {
          "output_type": "display_data",
          "data": {
            "image/png": "[encoded data removed]",
            "text/plain": [
              "<Figure size 432x288 with 1 Axes>"
            ]
          },
          "metadata": {
            "tags": [],
            "needs_background": "light"
          }
        }
      ]
    },
    {
      "cell_type": "code",
      "metadata": {
        "colab": {
          "base_uri": "https://localhost:8080/"
        },
        "id": "q88iPlAPKtTZ",
        "outputId": "d6cbe9c7-4b1a-4a7b-df92-ea1cd93b36bf"
      },
      "source": [
        "model.evaluate(test_X, test_Y)"
      ],
      "execution_count": 35,
      "outputs": [
        {
          "output_type": "stream",
          "text": [
            "4/4 [==============================] - 0s 3ms/step - loss: 0.7206\n"
          ],
          "name": "stdout"
        },
        {
          "output_type": "execute_result",
          "data": {
            "text/plain": [
              "0.7206041812896729"
            ]
          },
          "metadata": {
            "tags": []
          },
          "execution_count": 35
        }
      ]
    },
    {
      "cell_type": "code",
      "metadata": {
        "colab": {
          "base_uri": "https://localhost:8080/",
          "height": 395
        },
        "id": "YlFZToTiLakM",
        "outputId": "816756b8-c776-4d14-e7e1-c5a1c528d492"
      },
      "source": [
        "pred_Y = model.predict(test_X)\n",
        "\n",
        "plt.figure(figsize=(5,5))\n",
        "plt.plot(test_Y, pred_Y, 'b.')\n",
        "plt.axis([min(test_Y), max(test_Y), min(test_Y), max(test_Y)])\n",
        "\n",
        "# y=x에 해당하는 대각선\n",
        "plt.axis([min(test_Y), max(test_Y), min(test_Y), max(test_Y)], ls=\"--\", c=\".3\")\n",
        "plt.xlabel('test_Y')\n",
        "plt.ylabel('pred_Y')\n",
        "\n",
        "plt.show()"
      ],
      "execution_count": 36,
      "outputs": [
        {
          "output_type": "stream",
          "text": [
            "/usr/local/lib/python3.7/dist-packages/ipykernel_launcher.py:8: MatplotlibDeprecationWarning: Passing unsupported keyword arguments to axis() will raise a TypeError in 3.3.\n",
            "  \n"
          ],
          "name": "stderr"
        },
        {
          "output_type": "display_data",
          "data": {
            "image/png": "[encoded data removed]",
            "text/plain": [
              "<Figure size 360x360 with 1 Axes>"
            ]
          },
          "metadata": {
            "tags": [],
            "needs_background": "light"
          }
        }
      ]
    },
    {
      "cell_type": "markdown",
      "metadata": {
        "id": "HZOg8nzFQ7GD"
      },
      "source": [
        "# 활성화 함수\n",
        "- sigmoid (0~1)\n",
        "- tanh (-1~0)\n",
        "- relu (0~무한대)"
      ]
    },
    {
      "cell_type": "markdown",
      "metadata": {
        "id": "rDAeLlG2ZD_t"
      },
      "source": [
        "# Logistic regression"
      ]
    },
    {
      "cell_type": "code",
      "metadata": {
        "colab": {
          "base_uri": "https://localhost:8080/",
          "height": 279
        },
        "id": "5-mjmON8RKr8",
        "outputId": "63fc8df3-c32e-4054-ab1e-2d26de55f012"
      },
      "source": [
        "# Example1) Toy data\n",
        "tf.random.set_seed(42)\n",
        "\n",
        "x_train = [[1.,2.],[2.,3.],[3.,1.],[4.,3.],[5.,3.],[6.,2.]]\n",
        "y_train = [[0.],[0.],[0.],[1.],[1.],[1.]]\n",
        "\n",
        "x_test = [[5.,2.]]\n",
        "y_test = [[1.]]\n",
        "\n",
        "x1 = [x[0] for x in x_train]\n",
        "x2 = [x[1] for x in x_train]\n",
        "\n",
        "colors = [int(y[0] % 3) for y in y_train]\n",
        "plt.scatter(x1,x2, c=colors, marker='^')\n",
        "plt.scatter(x_test[0][0], x_test[0][1], c='red')\n",
        "\n",
        "plt.xlabel(\"x1\")\n",
        "plt.ylabel(\"x2\")\n",
        "plt.show()"
      ],
      "execution_count": 37,
      "outputs": [
        {
          "output_type": "display_data",
          "data": {
            "image/png": "[encoded data removed]",
            "text/plain": [
              "<Figure size 432x288 with 1 Axes>"
            ]
          },
          "metadata": {
            "tags": [],
            "needs_background": "light"
          }
        }
      ]
    },
    {
      "cell_type": "code",
      "metadata": {
        "id": "fBLHtjnJaTUF"
      },
      "source": [
        "dataset = tf.data.Dataset.from_tensor_slices((x_train, y_train)).batch(len(x_train))"
      ],
      "execution_count": 38,
      "outputs": []
    },
    {
      "cell_type": "code",
      "metadata": {
        "id": "6LoeRrPiagJT"
      },
      "source": [
        "W = tf.Variable(tf.zeros([2,1]), name='weight')\n",
        "b = tf.Variable(tf.zeros([1]), name='bias')"
      ],
      "execution_count": 39,
      "outputs": []
    },
    {
      "cell_type": "code",
      "metadata": {
        "id": "b_M5nB_Earqk"
      },
      "source": [
        "def logistic_regression(features): # features : x_train\n",
        "  hypothesis = tf.divide(1., 1. + tf.exp(-tf.matmul(features, W) -b)) # 또는 tf.sigmoid(z)\n",
        "  return hypothesis "
      ],
      "execution_count": 47,
      "outputs": []
    },
    {
      "cell_type": "code",
      "metadata": {
        "id": "iTReYOXma2Ga"
      },
      "source": [
        "def loss_fn(hypothesis, features, labels):\n",
        "  cost = -tf.reduce_mean(labels + tf.math.log(logistic_regression(features)) + (1-labels) * tf.math.log(1-hypothesis))\n",
        "  return cost\n",
        "\n",
        "optimizer = tf.keras.optimizers.SGD(learning_rate=0.01)"
      ],
      "execution_count": 48,
      "outputs": []
    },
    {
      "cell_type": "code",
      "metadata": {
        "id": "-cvX9Ys9bNMV"
      },
      "source": [
        "def accuracy_fn(hypothesis, labels):\n",
        "  predicted = tf.cast(hypothesis > 0.5, dtype=tf.float32)\n",
        "  accuracy = tf.reduce_mean(tf.cast(tf.equal(predicted, labels), dtype=tf.int32))\n",
        "  return accuracy"
      ],
      "execution_count": 49,
      "outputs": []
    },
    {
      "cell_type": "code",
      "metadata": {
        "id": "fNxAsIUjbetn"
      },
      "source": [
        "def grad(features, labels):\n",
        "  with tf.GradientTape() as tape:\n",
        "    loss_value = loss_fn(logistic_regression(features), features, labels)\n",
        "  return tape.gradient(loss_value, [W,b])"
      ],
      "execution_count": 50,
      "outputs": []
    },
    {
      "cell_type": "code",
      "metadata": {
        "colab": {
          "base_uri": "https://localhost:8080/"
        },
        "id": "GaWqXZU0buZV",
        "outputId": "5d2d971d-3147-4e2f-a045-827b54fcdcf6"
      },
      "source": [
        "# training\n",
        "\n",
        "EPOCHS = 1001\n",
        "\n",
        "for step in range(EPOCHS):\n",
        "  for features, labels in iter(dataset):\n",
        "    grads = grad(features, labels)\n",
        "    optimizer.apply_gradients(grads_and_vars=zip(grads,[W,b]))\n",
        "    if step % 100 == 0:\n",
        "      print(\"Iter: {}, Loss: {:.4f}\".format(step, loss_fn(logistic_regression(features), features,labels)))"
      ],
      "execution_count": 51,
      "outputs": [
        {
          "output_type": "stream",
          "text": [
            "Iter: 0, Loss: 1.2161\n",
            "Iter: 100, Loss: 0.4235\n",
            "Iter: 200, Loss: 0.3881\n",
            "Iter: 300, Loss: 0.3689\n",
            "Iter: 400, Loss: 0.3577\n",
            "Iter: 500, Loss: 0.3503\n",
            "Iter: 600, Loss: 0.3450\n",
            "Iter: 700, Loss: 0.3408\n",
            "Iter: 800, Loss: 0.3372\n",
            "Iter: 900, Loss: 0.3339\n",
            "Iter: 1000, Loss: 0.3309\n"
          ],
          "name": "stdout"
        }
      ]
    },
    {
      "cell_type": "code",
      "metadata": {
        "colab": {
          "base_uri": "https://localhost:8080/"
        },
        "id": "uvl0rN5kcq4D",
        "outputId": "f5c136ba-5047-4379-8068-d6f70188a827"
      },
      "source": [
        "# test\n",
        "\n",
        "test_acc = accuracy_fn(logistic_regression(x_test), y_test)\n",
        "print(\"Testset Accuracy: {:.4f}\".format(test_acc))"
      ],
      "execution_count": 52,
      "outputs": [
        {
          "output_type": "stream",
          "text": [
            "Testset Accuracy: 1.0000\n"
          ],
          "name": "stdout"
        }
      ]
    },
    {
      "cell_type": "code",
      "metadata": {
        "id": "GikzArLldPgu"
      },
      "source": [
        ""
      ],
      "execution_count": null,
      "outputs": []
    }
  ]
}