{
  "nbformat": 4,
  "nbformat_minor": 0,
  "metadata": {
    "colab": {
      "name": "wk4_0325.ipynb",
      "provenance": [],
      "collapsed_sections": [],
      "authorship_tag": "ABX9TyOg+WJ2iHaAEnS9k0TxQn6C",
      "include_colab_link": true
    },
    "kernelspec": {
      "name": "python3",
      "display_name": "Python 3"
    },
    "language_info": {
      "name": "python"
    }
  },
  "cells": [
    {
      "cell_type": "markdown",
      "metadata": {
        "id": "view-in-github",
        "colab_type": "text"
      },
      "source": [
        "<a href=\"https://colab.research.google.com/github/dasdasqs2/Machine-learning/blob/main/wk4_0325.ipynb\" target=\"_parent\"><img src=\"https://colab.research.google.com/assets/colab-badge.svg\" alt=\"Open In Colab\"/></a>"
      ]
    },
    {
      "cell_type": "markdown",
      "metadata": {
        "id": "FjffYFsDzlMS"
      },
      "source": [
        "# Linear regression"
      ]
    },
    {
      "cell_type": "code",
      "metadata": {
        "id": "QDucbjPpzoOe"
      },
      "source": [
        "import numpy as np\n",
        "\n",
        "x_data = np.array([1,2,3,4,5])\n",
        "y_data = np.array([1,2,3,4,5])"
      ],
      "execution_count": 2,
      "outputs": []
    },
    {
      "cell_type": "code",
      "metadata": {
        "colab": {
          "base_uri": "https://localhost:8080/",
          "height": 287
        },
        "id": "jKZrYcBZz0rG",
        "outputId": "95999c1d-a97d-4b04-f016-0cd9d7bc924b"
      },
      "source": [
        "import matplotlib.pyplot as plt\n",
        "\n",
        "plt.plot(x_data, y_data, 'o')\n",
        "plt.ylim(0,8)"
      ],
      "execution_count": 3,
      "outputs": [
        {
          "output_type": "execute_result",
          "data": {
            "text/plain": [
              "(0.0, 8.0)"
            ]
          },
          "metadata": {
            "tags": []
          },
          "execution_count": 3
        },
        {
          "output_type": "display_data",
          "data": {
            "image/png": "[encoded data removed]",
            "text/plain": [
              "<Figure size 432x288 with 1 Axes>"
            ]
          },
          "metadata": {
            "tags": [],
            "needs_background": "light"
          }
        }
      ]
    },
    {
      "cell_type": "code",
      "metadata": {
        "colab": {
          "base_uri": "https://localhost:8080/"
        },
        "id": "42F4bc0Fz7LN",
        "outputId": "131ef22c-86d4-4927-e4ba-31e7d324f8eb"
      },
      "source": [
        "import tensorflow as tf\n",
        "\n",
        "x_data = np.array([1,2,3,4,5])\n",
        "y_data = np.array([1,2,3,4,5])\n",
        "cost2 =[]\n",
        "\n",
        "for i in range(-2,4):\n",
        "  W = tf.Variable(i)\n",
        "  hypothesis = W * x_data\n",
        "  err = hypothesis - y_data\n",
        "  cost = tf.reduce_mean(tf.square(err))\n",
        "  cost2 = np.append(cost2, cost.numpy(), axis = None)\n",
        "print(cost2)\n",
        "print(tf.reduce_mean(tf.square(err)))"
      ],
      "execution_count": 6,
      "outputs": [
        {
          "output_type": "stream",
          "text": [
            "[99. 44. 11.  0. 11. 44.]\n",
            "tf.Tensor(44, shape=(), dtype=int32)\n"
          ],
          "name": "stdout"
        }
      ]
    },
    {
      "cell_type": "code",
      "metadata": {
        "colab": {
          "base_uri": "https://localhost:8080/",
          "height": 279
        },
        "id": "eaH3fu4l5fUv",
        "outputId": "90a529e5-6de2-4845-e6a3-a6d7e29b6b93"
      },
      "source": [
        "x_data = np.array([1,2,3,4,5])\n",
        "y_data = np.array([1,2,3,4,5])\n",
        "cost2 = []\n",
        "\n",
        "for i in np.linspace(-2,4,500): #그래프를 각지지 않고 부드럽게 만들기 위해서 '500'개 라는 큰 수를 넣어줌.\n",
        "  W = tf.Variable(i)\n",
        "  hypothesis = W * x_data\n",
        "  err = hypothesis - y_data\n",
        "  cost = tf.reduce_mean(tf.square(err))\n",
        "  cost2 = np.append(cost2, cost.numpy(), axis = None)\n",
        "\n",
        "plt.plot(np.linspace(-2,4,500), cost2, 'r')\n",
        "plt.xlabel('W')\n",
        "plt.ylabel('cost')\n",
        "plt.show()\n",
        "\n",
        "#그래프 해석 : w=1, cost2 -> min"
      ],
      "execution_count": 12,
      "outputs": [
        {
          "output_type": "display_data",
          "data": {
            "image/png": "[encoded data removed]",
            "text/plain": [
              "<Figure size 432x288 with 1 Axes>"
            ]
          },
          "metadata": {
            "tags": [],
            "needs_background": "light"
          }
        }
      ]
    },
    {
      "cell_type": "code",
      "metadata": {
        "colab": {
          "base_uri": "https://localhost:8080/",
          "height": 244
        },
        "id": "tQkJuK787ACe",
        "outputId": "f0ddcbbb-72a5-4bfb-9eb8-0b738e0a1849"
      },
      "source": [
        "tf.random.set_seed(42)\n",
        "\n",
        "# Data\n",
        "x_data = [1,2,3,4,5]\n",
        "y_data = [1,2,3,4,5]\n",
        "\n",
        "# a-value\n",
        "learning_rate = 0.01\n",
        "\n",
        "# W, b initialize\n",
        "W = tf.Variable(2.9)\n",
        "b = tf.Variable(0.5)\n",
        "\n",
        "# W, b update\n",
        "for i in range(100): # 100번 이동시킴\n",
        "  #Gradient descent\n",
        "  with tf.GradientTape() as tape: # with as -> 파일을 닫지 않아도 구문을 벗어나면 자동으로 빠져나간다.\n",
        "    hypothesis = W * x_data + b\n",
        "    cost = tf.reduce_mean(tf.square(hypothesis - y_data))\n",
        "  W_grad, b_grad = tape.gradient(cost, [W, b])\n",
        "  W.assign_sub(learning_rate * W_grad) # W - a*(미분) \n",
        "  b.assign_sub(learning_rate * b_grad)\n",
        "  if i % 10 == 0:\n",
        "    print(\"{:5}|{:10.4f}|{:10.4f}|{10.6f}\".format(i, W.numpy(), b.numpy(), cost))\n",
        "\n",
        "print()\n",
        "\n",
        "#predict\n",
        "test_data = [6,7,8,9,10]\n",
        "predicted = W * test_data + b\n",
        "print(predicted.numpy())"
      ],
      "execution_count": 20,
      "outputs": [
        {
          "output_type": "error",
          "ename": "ValueError",
          "evalue": "ignored",
          "traceback": [
            "\u001b[0;31m---------------------------------------------------------------------------\u001b[0m",
            "\u001b[0;31mValueError\u001b[0m                                Traceback (most recent call last)",
            "\u001b[0;32m<ipython-input-20-7d960617285f>\u001b[0m in \u001b[0;36m<module>\u001b[0;34m()\u001b[0m\n\u001b[1;32m     18\u001b[0m   \u001b[0mb\u001b[0m\u001b[0;34m.\u001b[0m\u001b[0massign_sub\u001b[0m\u001b[0;34m(\u001b[0m\u001b[0mlearning_rate\u001b[0m \u001b[0;34m*\u001b[0m \u001b[0mb_grad\u001b[0m\u001b[0;34m)\u001b[0m\u001b[0;34m\u001b[0m\u001b[0;34m\u001b[0m\u001b[0m\n\u001b[1;32m     19\u001b[0m   \u001b[0;32mif\u001b[0m \u001b[0mi\u001b[0m \u001b[0;34m%\u001b[0m \u001b[0;36m10\u001b[0m \u001b[0;34m==\u001b[0m \u001b[0;36m0\u001b[0m\u001b[0;34m:\u001b[0m\u001b[0;34m\u001b[0m\u001b[0;34m\u001b[0m\u001b[0m\n\u001b[0;32m---> 20\u001b[0;31m     \u001b[0mprint\u001b[0m\u001b[0;34m(\u001b[0m\u001b[0;34m\"{:5}|{:10.4f}|{:10.4f}|{10.6f}\"\u001b[0m\u001b[0;34m.\u001b[0m\u001b[0mformat\u001b[0m\u001b[0;34m(\u001b[0m\u001b[0mi\u001b[0m\u001b[0;34m,\u001b[0m \u001b[0mW\u001b[0m\u001b[0;34m.\u001b[0m\u001b[0mnumpy\u001b[0m\u001b[0;34m(\u001b[0m\u001b[0;34m)\u001b[0m\u001b[0;34m,\u001b[0m \u001b[0mb\u001b[0m\u001b[0;34m.\u001b[0m\u001b[0mnumpy\u001b[0m\u001b[0;34m(\u001b[0m\u001b[0;34m)\u001b[0m\u001b[0;34m,\u001b[0m \u001b[0mcost\u001b[0m\u001b[0;34m)\u001b[0m\u001b[0;34m)\u001b[0m\u001b[0;34m\u001b[0m\u001b[0;34m\u001b[0m\u001b[0m\n\u001b[0m\u001b[1;32m     21\u001b[0m \u001b[0;34m\u001b[0m\u001b[0m\n\u001b[1;32m     22\u001b[0m \u001b[0mprint\u001b[0m\u001b[0;34m(\u001b[0m\u001b[0;34m)\u001b[0m\u001b[0;34m\u001b[0m\u001b[0;34m\u001b[0m\u001b[0m\n",
            "\u001b[0;31mValueError\u001b[0m: cannot switch from automatic field numbering to manual field specification"
          ]
        }
      ]
    },
    {
      "cell_type": "code",
      "metadata": {
        "colab": {
          "base_uri": "https://localhost:8080/",
          "height": 136
        },
        "id": "aUHJ9ndAJydN",
        "outputId": "ca23c5a7-7e93-4df3-d105-47b92ef9e688"
      },
      "source": [
        "X = [0.2, -0.78, 1.26, 0.03, 1.11, 0.24, -0.47, -0.77, -0.37, -0.85, -0.41, -0.27, 0.02, -0.76, 2.66]\n",
        "Y = [12.27, 14.44, 11.87, 18.75, 17.52, 16.37, 19.78, 19.51, 12.65, 14.74, 10.72, 21.94, 12.83, 17.14, 14.42]\n",
        "\n",
        "model = tf.keras.Sequential([\n",
        "                             tf.keras.layers.Dense(units=6, activation='tanh', input_shape(1,)),\n",
        "                             tf.keras.layers.Dense(units=1)\n",
        "])\n",
        "\n",
        "model.compile(optimizer = tf.keras.optimizers.SGD(lr=0.1), loss='mse')\n",
        "\n",
        "model.sumamry()"
      ],
      "execution_count": 21,
      "outputs": [
        {
          "output_type": "error",
          "ename": "SyntaxError",
          "evalue": "ignored",
          "traceback": [
            "\u001b[0;36m  File \u001b[0;32m\"<ipython-input-21-d7a012c0178b>\"\u001b[0;36m, line \u001b[0;32m5\u001b[0m\n\u001b[0;31m    tf.keras.layers.Dense(units=6, activation='tanh', input_shape(1,)),\u001b[0m\n\u001b[0m                                                     ^\u001b[0m\n\u001b[0;31mSyntaxError\u001b[0m\u001b[0;31m:\u001b[0m positional argument follows keyword argument\n"
          ]
        }
      ]
    },
    {
      "cell_type": "code",
      "metadata": {
        "id": "ouke59h1UFMI"
      },
      "source": [
        ""
      ],
      "execution_count": null,
      "outputs": []
    }
  ]
}